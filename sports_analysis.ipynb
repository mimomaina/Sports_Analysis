{
  "cells": [
    {
      "cell_type": "markdown",
      "metadata": {
        "id": "view-in-github",
        "colab_type": "text"
      },
      "source": [
        "<a href=\"https://colab.research.google.com/github/mimomaina/Sports_Analysis/blob/main/sports_analysis.ipynb\" target=\"_parent\"><img src=\"https://colab.research.google.com/assets/colab-badge.svg\" alt=\"Open In Colab\"/></a>"
      ]
    },
    {
      "cell_type": "markdown",
      "metadata": {
        "id": "LRQhIsdMcFA0"
      },
      "source": [
        "Importing packages"
      ]
    },
    {
      "cell_type": "code",
      "execution_count": null,
      "metadata": {
        "id": "mo9j_zhHcFA5"
      },
      "outputs": [],
      "source": [
        "import pandas as pd\n",
        "import numpy as np\n",
        "import matplotlib.pyplot as plt\n",
        "import seaborn as sns\n"
      ]
    },
    {
      "cell_type": "markdown",
      "metadata": {
        "id": "UeOtjaXrcFA8"
      },
      "source": [
        "Loading the dataset"
      ]
    },
    {
      "cell_type": "code",
      "execution_count": null,
      "metadata": {
        "id": "4TUM4EVccFA9"
      },
      "outputs": [],
      "source": [
        "winner = pd.read_csv(r\"C:\\Users\\HP\\Downloads\\sportswinners.csv\")"
      ]
    },
    {
      "cell_type": "markdown",
      "metadata": {
        "id": "MeWAoRmNcFA-"
      },
      "source": [
        "Creating a copy of the dataset"
      ]
    },
    {
      "cell_type": "code",
      "execution_count": null,
      "metadata": {
        "id": "cjno0uVEcFA_"
      },
      "outputs": [],
      "source": [
        "#create a copy of the dataset\n",
        "winner01 = winner.copy()"
      ]
    },
    {
      "cell_type": "markdown",
      "metadata": {
        "id": "EoWp5UswcFBA"
      },
      "source": [
        "Explaratory analysis"
      ]
    },
    {
      "cell_type": "code",
      "execution_count": null,
      "metadata": {
        "id": "vxu9gYi6cFBA",
        "outputId": "24d6b333-570e-45e5-b83f-a11bf796478e"
      },
      "outputs": [
        {
          "data": {
            "text/html": [
              "<div>\n",
              "<style scoped>\n",
              "    .dataframe tbody tr th:only-of-type {\n",
              "        vertical-align: middle;\n",
              "    }\n",
              "\n",
              "    .dataframe tbody tr th {\n",
              "        vertical-align: top;\n",
              "    }\n",
              "\n",
              "    .dataframe thead th {\n",
              "        text-align: right;\n",
              "    }\n",
              "</style>\n",
              "<table border=\"1\" class=\"dataframe\">\n",
              "  <thead>\n",
              "    <tr style=\"text-align: right;\">\n",
              "      <th></th>\n",
              "      <th>edition</th>\n",
              "      <th>start_date</th>\n",
              "      <th>winner_name</th>\n",
              "      <th>winner_team</th>\n",
              "      <th>distance</th>\n",
              "      <th>time_overall</th>\n",
              "      <th>time_margin</th>\n",
              "      <th>stage_wins</th>\n",
              "      <th>stages_led</th>\n",
              "      <th>height</th>\n",
              "      <th>weight</th>\n",
              "      <th>age</th>\n",
              "      <th>born</th>\n",
              "      <th>died</th>\n",
              "      <th>full_name</th>\n",
              "      <th>nickname</th>\n",
              "      <th>birth_town</th>\n",
              "      <th>birth_country</th>\n",
              "      <th>nationality</th>\n",
              "    </tr>\n",
              "  </thead>\n",
              "  <tbody>\n",
              "    <tr>\n",
              "      <th>0</th>\n",
              "      <td>1</td>\n",
              "      <td>1903-07-01</td>\n",
              "      <td>Maurice Garin</td>\n",
              "      <td>La Française</td>\n",
              "      <td>2428.0</td>\n",
              "      <td>94.553889</td>\n",
              "      <td>2.989167</td>\n",
              "      <td>3</td>\n",
              "      <td>6</td>\n",
              "      <td>1.62</td>\n",
              "      <td>60.0</td>\n",
              "      <td>32</td>\n",
              "      <td>1871-03-03</td>\n",
              "      <td>1957-02-19</td>\n",
              "      <td>NaN</td>\n",
              "      <td>The Little Chimney-sweep</td>\n",
              "      <td>Arvier</td>\n",
              "      <td>Italy</td>\n",
              "      <td>France</td>\n",
              "    </tr>\n",
              "    <tr>\n",
              "      <th>1</th>\n",
              "      <td>2</td>\n",
              "      <td>1904-07-02</td>\n",
              "      <td>Henri Cornet</td>\n",
              "      <td>Conte</td>\n",
              "      <td>2428.0</td>\n",
              "      <td>96.098611</td>\n",
              "      <td>2.270556</td>\n",
              "      <td>1</td>\n",
              "      <td>3</td>\n",
              "      <td>NaN</td>\n",
              "      <td>NaN</td>\n",
              "      <td>19</td>\n",
              "      <td>1884-08-04</td>\n",
              "      <td>1941-03-18</td>\n",
              "      <td>NaN</td>\n",
              "      <td>Le rigolo (The joker)</td>\n",
              "      <td>Desvres</td>\n",
              "      <td>France</td>\n",
              "      <td>France</td>\n",
              "    </tr>\n",
              "    <tr>\n",
              "      <th>2</th>\n",
              "      <td>3</td>\n",
              "      <td>1905-07-09</td>\n",
              "      <td>Louis Trousselier</td>\n",
              "      <td>Peugeot–Wolber</td>\n",
              "      <td>2994.0</td>\n",
              "      <td>NaN</td>\n",
              "      <td>NaN</td>\n",
              "      <td>5</td>\n",
              "      <td>10</td>\n",
              "      <td>NaN</td>\n",
              "      <td>NaN</td>\n",
              "      <td>24</td>\n",
              "      <td>1881-06-29</td>\n",
              "      <td>1939-04-24</td>\n",
              "      <td>NaN</td>\n",
              "      <td>Levaloy / Trou-trou</td>\n",
              "      <td>Paris</td>\n",
              "      <td>France</td>\n",
              "      <td>France</td>\n",
              "    </tr>\n",
              "    <tr>\n",
              "      <th>3</th>\n",
              "      <td>4</td>\n",
              "      <td>1906-07-04</td>\n",
              "      <td>René Pottier</td>\n",
              "      <td>Peugeot–Wolber</td>\n",
              "      <td>4637.0</td>\n",
              "      <td>NaN</td>\n",
              "      <td>NaN</td>\n",
              "      <td>5</td>\n",
              "      <td>12</td>\n",
              "      <td>NaN</td>\n",
              "      <td>NaN</td>\n",
              "      <td>27</td>\n",
              "      <td>1879-06-05</td>\n",
              "      <td>1907-01-25</td>\n",
              "      <td>NaN</td>\n",
              "      <td>NaN</td>\n",
              "      <td>Moret-sur-Loing</td>\n",
              "      <td>France</td>\n",
              "      <td>France</td>\n",
              "    </tr>\n",
              "    <tr>\n",
              "      <th>4</th>\n",
              "      <td>5</td>\n",
              "      <td>1907-07-08</td>\n",
              "      <td>Lucien Petit-Breton</td>\n",
              "      <td>Peugeot–Wolber</td>\n",
              "      <td>4488.0</td>\n",
              "      <td>NaN</td>\n",
              "      <td>NaN</td>\n",
              "      <td>2</td>\n",
              "      <td>5</td>\n",
              "      <td>NaN</td>\n",
              "      <td>NaN</td>\n",
              "      <td>24</td>\n",
              "      <td>1882-10-18</td>\n",
              "      <td>1917-12-20</td>\n",
              "      <td>Lucien Georges Mazan</td>\n",
              "      <td>Lucien Petit-Breton</td>\n",
              "      <td>Plessé</td>\n",
              "      <td>France</td>\n",
              "      <td>France</td>\n",
              "    </tr>\n",
              "    <tr>\n",
              "      <th>5</th>\n",
              "      <td>6</td>\n",
              "      <td>1908-07-13</td>\n",
              "      <td>Lucien Petit-Breton</td>\n",
              "      <td>Peugeot–Wolber</td>\n",
              "      <td>4497.0</td>\n",
              "      <td>NaN</td>\n",
              "      <td>NaN</td>\n",
              "      <td>5</td>\n",
              "      <td>13</td>\n",
              "      <td>NaN</td>\n",
              "      <td>NaN</td>\n",
              "      <td>25</td>\n",
              "      <td>1882-10-18</td>\n",
              "      <td>1917-12-20</td>\n",
              "      <td>Lucien Georges Mazan</td>\n",
              "      <td>Lucien Petit-Breton</td>\n",
              "      <td>Plessé</td>\n",
              "      <td>France</td>\n",
              "      <td>France</td>\n",
              "    </tr>\n",
              "    <tr>\n",
              "      <th>6</th>\n",
              "      <td>7</td>\n",
              "      <td>1909-07-05</td>\n",
              "      <td>François Faber</td>\n",
              "      <td>Alcyon–Dunlop</td>\n",
              "      <td>4498.0</td>\n",
              "      <td>NaN</td>\n",
              "      <td>NaN</td>\n",
              "      <td>6</td>\n",
              "      <td>13</td>\n",
              "      <td>1.78</td>\n",
              "      <td>88.0</td>\n",
              "      <td>22</td>\n",
              "      <td>1887-01-26</td>\n",
              "      <td>1915-05-09</td>\n",
              "      <td>NaN</td>\n",
              "      <td>The giant of colombes</td>\n",
              "      <td>Aulnay-sur-Iton</td>\n",
              "      <td>France</td>\n",
              "      <td>Luxembourg</td>\n",
              "    </tr>\n",
              "    <tr>\n",
              "      <th>7</th>\n",
              "      <td>8</td>\n",
              "      <td>1910-07-01</td>\n",
              "      <td>Octave Lapize</td>\n",
              "      <td>Alcyon–Dunlop</td>\n",
              "      <td>4734.0</td>\n",
              "      <td>NaN</td>\n",
              "      <td>NaN</td>\n",
              "      <td>4</td>\n",
              "      <td>3</td>\n",
              "      <td>NaN</td>\n",
              "      <td>NaN</td>\n",
              "      <td>22</td>\n",
              "      <td>1887-10-24</td>\n",
              "      <td>1917-07-14</td>\n",
              "      <td>NaN</td>\n",
              "      <td>NaN</td>\n",
              "      <td>Paris</td>\n",
              "      <td>France</td>\n",
              "      <td>France</td>\n",
              "    </tr>\n",
              "    <tr>\n",
              "      <th>8</th>\n",
              "      <td>9</td>\n",
              "      <td>1911-07-02</td>\n",
              "      <td>Gustave Garrigou</td>\n",
              "      <td>Alcyon–Dunlop</td>\n",
              "      <td>5343.0</td>\n",
              "      <td>NaN</td>\n",
              "      <td>NaN</td>\n",
              "      <td>2</td>\n",
              "      <td>13</td>\n",
              "      <td>NaN</td>\n",
              "      <td>NaN</td>\n",
              "      <td>26</td>\n",
              "      <td>1884-09-24</td>\n",
              "      <td>1963-01-28</td>\n",
              "      <td>Cyprien Gustave Garrigou</td>\n",
              "      <td>NaN</td>\n",
              "      <td>Vabres</td>\n",
              "      <td>France</td>\n",
              "      <td>France</td>\n",
              "    </tr>\n",
              "    <tr>\n",
              "      <th>9</th>\n",
              "      <td>10</td>\n",
              "      <td>1912-06-30</td>\n",
              "      <td>Odile Defraye</td>\n",
              "      <td>Alcyon–Dunlop</td>\n",
              "      <td>5289.0</td>\n",
              "      <td>NaN</td>\n",
              "      <td>NaN</td>\n",
              "      <td>3</td>\n",
              "      <td>13</td>\n",
              "      <td>NaN</td>\n",
              "      <td>NaN</td>\n",
              "      <td>23</td>\n",
              "      <td>1888-07-14</td>\n",
              "      <td>1965-08-21</td>\n",
              "      <td>NaN</td>\n",
              "      <td>NaN</td>\n",
              "      <td>Rumbeke</td>\n",
              "      <td>Belgium</td>\n",
              "      <td>Belgium</td>\n",
              "    </tr>\n",
              "  </tbody>\n",
              "</table>\n",
              "</div>"
            ],
            "text/plain": [
              "   edition  start_date          winner_name     winner_team  distance  \\\n",
              "0        1  1903-07-01        Maurice Garin    La Française    2428.0   \n",
              "1        2  1904-07-02         Henri Cornet           Conte    2428.0   \n",
              "2        3  1905-07-09    Louis Trousselier  Peugeot–Wolber    2994.0   \n",
              "3        4  1906-07-04         René Pottier  Peugeot–Wolber    4637.0   \n",
              "4        5  1907-07-08  Lucien Petit-Breton  Peugeot–Wolber    4488.0   \n",
              "5        6  1908-07-13  Lucien Petit-Breton  Peugeot–Wolber    4497.0   \n",
              "6        7  1909-07-05       François Faber   Alcyon–Dunlop    4498.0   \n",
              "7        8  1910-07-01        Octave Lapize   Alcyon–Dunlop    4734.0   \n",
              "8        9  1911-07-02     Gustave Garrigou   Alcyon–Dunlop    5343.0   \n",
              "9       10  1912-06-30        Odile Defraye   Alcyon–Dunlop    5289.0   \n",
              "\n",
              "   time_overall  time_margin  stage_wins  stages_led  height  weight  age  \\\n",
              "0     94.553889     2.989167           3           6    1.62    60.0   32   \n",
              "1     96.098611     2.270556           1           3     NaN     NaN   19   \n",
              "2           NaN          NaN           5          10     NaN     NaN   24   \n",
              "3           NaN          NaN           5          12     NaN     NaN   27   \n",
              "4           NaN          NaN           2           5     NaN     NaN   24   \n",
              "5           NaN          NaN           5          13     NaN     NaN   25   \n",
              "6           NaN          NaN           6          13    1.78    88.0   22   \n",
              "7           NaN          NaN           4           3     NaN     NaN   22   \n",
              "8           NaN          NaN           2          13     NaN     NaN   26   \n",
              "9           NaN          NaN           3          13     NaN     NaN   23   \n",
              "\n",
              "         born        died                 full_name                  nickname  \\\n",
              "0  1871-03-03  1957-02-19                       NaN  The Little Chimney-sweep   \n",
              "1  1884-08-04  1941-03-18                       NaN     Le rigolo (The joker)   \n",
              "2  1881-06-29  1939-04-24                       NaN       Levaloy / Trou-trou   \n",
              "3  1879-06-05  1907-01-25                       NaN                       NaN   \n",
              "4  1882-10-18  1917-12-20      Lucien Georges Mazan       Lucien Petit-Breton   \n",
              "5  1882-10-18  1917-12-20      Lucien Georges Mazan       Lucien Petit-Breton   \n",
              "6  1887-01-26  1915-05-09                       NaN     The giant of colombes   \n",
              "7  1887-10-24  1917-07-14                       NaN                       NaN   \n",
              "8  1884-09-24  1963-01-28  Cyprien Gustave Garrigou                       NaN   \n",
              "9  1888-07-14  1965-08-21                       NaN                       NaN   \n",
              "\n",
              "        birth_town birth_country  nationality  \n",
              "0           Arvier         Italy       France  \n",
              "1          Desvres        France       France  \n",
              "2            Paris        France       France  \n",
              "3  Moret-sur-Loing        France       France  \n",
              "4           Plessé        France       France  \n",
              "5           Plessé        France       France  \n",
              "6  Aulnay-sur-Iton        France   Luxembourg  \n",
              "7            Paris        France       France  \n",
              "8           Vabres        France       France  \n",
              "9          Rumbeke       Belgium      Belgium  "
            ]
          },
          "execution_count": 5,
          "metadata": {},
          "output_type": "execute_result"
        }
      ],
      "source": [
        "#get first 10 columns from the dataset\n",
        "winner.head(10)"
      ]
    },
    {
      "cell_type": "code",
      "execution_count": null,
      "metadata": {
        "id": "M5NYhnD8cFBD",
        "outputId": "d0d12c8a-f9c6-4632-8543-1a466c25b631"
      },
      "outputs": [
        {
          "name": "stdout",
          "output_type": "stream",
          "text": [
            "<class 'pandas.core.frame.DataFrame'>\n",
            "RangeIndex: 106 entries, 0 to 105\n",
            "Data columns (total 19 columns):\n",
            " #   Column         Non-Null Count  Dtype  \n",
            "---  ------         --------------  -----  \n",
            " 0   edition        106 non-null    int64  \n",
            " 1   start_date     106 non-null    object \n",
            " 2   winner_name    106 non-null    object \n",
            " 3   winner_team    106 non-null    object \n",
            " 4   distance       106 non-null    float64\n",
            " 5   time_overall   98 non-null     float64\n",
            " 6   time_margin    98 non-null     float64\n",
            " 7   stage_wins     106 non-null    int64  \n",
            " 8   stages_led     106 non-null    int64  \n",
            " 9   height         66 non-null     float64\n",
            " 10  weight         67 non-null     float64\n",
            " 11  age            106 non-null    int64  \n",
            " 12  born           106 non-null    object \n",
            " 13  died           56 non-null     object \n",
            " 14  full_name      46 non-null     object \n",
            " 15  nickname       74 non-null     object \n",
            " 16  birth_town     106 non-null    object \n",
            " 17  birth_country  106 non-null    object \n",
            " 18  nationality    106 non-null    object \n",
            "dtypes: float64(5), int64(4), object(10)\n",
            "memory usage: 15.9+ KB\n"
          ]
        }
      ],
      "source": [
        "#get a summary of the data\n",
        "winner.info()"
      ]
    },
    {
      "cell_type": "code",
      "execution_count": null,
      "metadata": {
        "id": "07cwxwHecFBE",
        "outputId": "4f1b0358-790a-4d36-c27d-bedb20639fae"
      },
      "outputs": [
        {
          "data": {
            "text/plain": [
              "edition           0\n",
              "start_date        0\n",
              "winner_name       0\n",
              "winner_team       0\n",
              "distance          0\n",
              "time_overall      8\n",
              "time_margin       8\n",
              "stage_wins        0\n",
              "stages_led        0\n",
              "height           40\n",
              "weight           39\n",
              "age               0\n",
              "born              0\n",
              "died             50\n",
              "full_name        60\n",
              "nickname         32\n",
              "birth_town        0\n",
              "birth_country     0\n",
              "nationality       0\n",
              "dtype: int64"
            ]
          },
          "execution_count": 7,
          "metadata": {},
          "output_type": "execute_result"
        }
      ],
      "source": [
        "winner.isnull().sum()"
      ]
    },
    {
      "cell_type": "code",
      "execution_count": null,
      "metadata": {
        "id": "PzAgoSo0cFBF",
        "outputId": "44e2326c-de04-460b-89a0-5df4c45f0228"
      },
      "outputs": [
        {
          "data": {
            "text/plain": [
              "edition          106\n",
              "start_date       106\n",
              "winner_name      106\n",
              "winner_team      106\n",
              "distance         106\n",
              "time_overall      98\n",
              "time_margin       98\n",
              "stage_wins       106\n",
              "stages_led       106\n",
              "height            66\n",
              "weight            67\n",
              "age              106\n",
              "born             106\n",
              "died              56\n",
              "full_name         46\n",
              "nickname          74\n",
              "birth_town       106\n",
              "birth_country    106\n",
              "nationality      106\n",
              "dtype: int64"
            ]
          },
          "execution_count": 8,
          "metadata": {},
          "output_type": "execute_result"
        }
      ],
      "source": [
        "winner.notnull().sum()"
      ]
    },
    {
      "cell_type": "code",
      "execution_count": null,
      "metadata": {
        "id": "1n_-yeyScFBF",
        "outputId": "6ae812ec-26cc-4051-a46c-a735d20389c0"
      },
      "outputs": [
        {
          "data": {
            "text/plain": [
              "edition           0.000000\n",
              "start_date        0.000000\n",
              "winner_name       0.000000\n",
              "winner_team       0.000000\n",
              "distance          0.000000\n",
              "time_overall      7.547170\n",
              "time_margin       7.547170\n",
              "stage_wins        0.000000\n",
              "stages_led        0.000000\n",
              "height           37.735849\n",
              "weight           36.792453\n",
              "age               0.000000\n",
              "born              0.000000\n",
              "died             47.169811\n",
              "full_name        56.603774\n",
              "nickname         30.188679\n",
              "birth_town        0.000000\n",
              "birth_country     0.000000\n",
              "nationality       0.000000\n",
              "dtype: float64"
            ]
          },
          "execution_count": 9,
          "metadata": {},
          "output_type": "execute_result"
        }
      ],
      "source": [
        "percentage = (winner.isnull().sum() / len(winner)) * 100\n",
        "percentage"
      ]
    },
    {
      "cell_type": "code",
      "execution_count": null,
      "metadata": {
        "id": "c1qjCooncFBG",
        "outputId": "dff3cfc9-27cf-422d-96f6-7f0b925b7ae0"
      },
      "outputs": [
        {
          "data": {
            "text/plain": [
              "<Axes: >"
            ]
          },
          "execution_count": 10,
          "metadata": {},
          "output_type": "execute_result"
        },
        {
          "data": {
            "image/png": "[encoded data removed]",
            "text/plain": [
              "<Figure size 2500x1000 with 2 Axes>"
            ]
          },
          "metadata": {},
          "output_type": "display_data"
        }
      ],
      "source": [
        "#importing missingno\n",
        "import missingno as msno\n",
        "msno.matrix(winner)"
      ]
    },
    {
      "cell_type": "code",
      "execution_count": null,
      "metadata": {
        "id": "6R0fbcGVcFBH",
        "outputId": "bff2d275-167b-4c46-ac09-efe3a3307f43"
      },
      "outputs": [
        {
          "data": {
            "text/plain": [
              "edition          False\n",
              "start_date       False\n",
              "winner_name      False\n",
              "winner_team      False\n",
              "distance         False\n",
              "time_overall     False\n",
              "time_margin      False\n",
              "stage_wins       False\n",
              "stages_led       False\n",
              "height           False\n",
              "weight           False\n",
              "age              False\n",
              "born             False\n",
              "died             False\n",
              "full_name        False\n",
              "nickname         False\n",
              "birth_town       False\n",
              "birth_country    False\n",
              "nationality      False\n",
              "dtype: bool"
            ]
          },
          "execution_count": 11,
          "metadata": {},
          "output_type": "execute_result"
        }
      ],
      "source": [
        "winner.isnull().all(axis=0)"
      ]
    },
    {
      "cell_type": "code",
      "execution_count": null,
      "metadata": {
        "id": "KNV8EAR5cFBH",
        "outputId": "086867b1-82f2-4a34-974d-a6b201c07b8b"
      },
      "outputs": [
        {
          "data": {
            "text/plain": [
              "True     102\n",
              "False      4\n",
              "Name: count, dtype: int64"
            ]
          },
          "execution_count": 12,
          "metadata": {},
          "output_type": "execute_result"
        }
      ],
      "source": [
        "winner.isnull().any(axis=1).value_counts()"
      ]
    },
    {
      "cell_type": "markdown",
      "metadata": {
        "id": "cMDkat5ccFBI"
      },
      "source": [
        "Handling errors"
      ]
    },
    {
      "cell_type": "markdown",
      "metadata": {
        "id": "Fh0K5a-3cFBI"
      },
      "source": [
        "1.Correcting data types"
      ]
    },
    {
      "cell_type": "code",
      "execution_count": null,
      "metadata": {
        "id": "zBg6RKxacFBJ",
        "outputId": "f2d77f1e-42cd-4b83-c091-ab47cfb16271"
      },
      "outputs": [
        {
          "data": {
            "text/plain": [
              "edition            int64\n",
              "start_date        object\n",
              "winner_name       object\n",
              "winner_team       object\n",
              "distance         float64\n",
              "time_overall     float64\n",
              "time_margin      float64\n",
              "stage_wins         int64\n",
              "stages_led         int64\n",
              "height           float64\n",
              "weight           float64\n",
              "age                int64\n",
              "born              object\n",
              "died              object\n",
              "full_name         object\n",
              "nickname          object\n",
              "birth_town        object\n",
              "birth_country     object\n",
              "nationality       object\n",
              "dtype: object"
            ]
          },
          "execution_count": 13,
          "metadata": {},
          "output_type": "execute_result"
        }
      ],
      "source": [
        "\n",
        "#view data types\n",
        "winner.dtypes"
      ]
    },
    {
      "cell_type": "code",
      "execution_count": null,
      "metadata": {
        "id": "Vwbz_iGIcFBJ"
      },
      "outputs": [],
      "source": [
        "#change data type start_date from object to datetime\n",
        "winner['start_date'] = pd.to_datetime(winner['start_date'])\n",
        "\n"
      ]
    },
    {
      "cell_type": "code",
      "execution_count": null,
      "metadata": {
        "id": "52A2LzDOcFBK"
      },
      "outputs": [],
      "source": [
        "#change data type in born from object to datetime\n",
        "winner['born'] = pd.to_datetime(winner['born'])"
      ]
    },
    {
      "cell_type": "code",
      "execution_count": null,
      "metadata": {
        "id": "c35P7Y-GcFBK",
        "outputId": "87ed9c03-1434-4acb-e7c0-ced7b4b343c3"
      },
      "outputs": [
        {
          "data": {
            "text/plain": [
              "edition                   int64\n",
              "start_date       datetime64[ns]\n",
              "winner_name              object\n",
              "winner_team              object\n",
              "distance                float64\n",
              "time_overall            float64\n",
              "time_margin             float64\n",
              "stage_wins                int64\n",
              "stages_led                int64\n",
              "height                  float64\n",
              "weight                  float64\n",
              "age                       int64\n",
              "born             datetime64[ns]\n",
              "died                     object\n",
              "full_name                object\n",
              "nickname                 object\n",
              "birth_town               object\n",
              "birth_country            object\n",
              "nationality              object\n",
              "dtype: object"
            ]
          },
          "execution_count": 16,
          "metadata": {},
          "output_type": "execute_result"
        }
      ],
      "source": [
        "winner.dtypes"
      ]
    },
    {
      "cell_type": "code",
      "execution_count": null,
      "metadata": {
        "id": "uOkv1eRwcFBL",
        "outputId": "9925f0c8-c199-4e78-ac08-439b0dbb61aa"
      },
      "outputs": [
        {
          "data": {
            "image/png": "[encoded data removed]",
            "text/plain": [
              "<Figure size 640x480 with 1 Axes>"
            ]
          },
          "metadata": {},
          "output_type": "display_data"
        },
        {
          "name": "stderr",
          "output_type": "stream",
          "text": [
            "C:\\Users\\HP\\AppData\\Local\\Temp\\ipykernel_9668\\2810345653.py:9: FutureWarning: A value is trying to be set on a copy of a DataFrame or Series through chained assignment using an inplace method.\n",
            "The behavior will change in pandas 3.0. This inplace method will never work because the intermediate object on which we are setting values always behaves as a copy.\n",
            "\n",
            "For example, when doing 'df[col].method(value, inplace=True)', try using 'df.method({col: value}, inplace=True)' or df[col] = df[col].method(value) instead, to perform the operation inplace on the original object.\n",
            "\n",
            "\n",
            "  winner['time_overall'].fillna(median_timeoverall, inplace=True)\n"
          ]
        }
      ],
      "source": [
        "sns.histplot(winner['time_overall'], kde=True)\n",
        "plt.show()\n",
        "\n",
        "#time_overall median\n",
        "median_timeoverall=winner['time_overall'].median()\n",
        "median_timeoverall\n",
        "\n",
        "#filling missing values in time_overall with the median\n",
        "winner['time_overall'].fillna(median_timeoverall, inplace=True)"
      ]
    },
    {
      "cell_type": "code",
      "execution_count": null,
      "metadata": {
        "id": "MiwRameLcFBM",
        "outputId": "b4aa1955-5d42-4577-f0f2-e9007f6906f9"
      },
      "outputs": [
        {
          "data": {
            "image/png": "[encoded data removed]",
            "text/plain": [
              "<Figure size 640x480 with 1 Axes>"
            ]
          },
          "metadata": {},
          "output_type": "display_data"
        },
        {
          "name": "stderr",
          "output_type": "stream",
          "text": [
            "C:\\Users\\HP\\AppData\\Local\\Temp\\ipykernel_9668\\4067961246.py:9: FutureWarning: A value is trying to be set on a copy of a DataFrame or Series through chained assignment using an inplace method.\n",
            "The behavior will change in pandas 3.0. This inplace method will never work because the intermediate object on which we are setting values always behaves as a copy.\n",
            "\n",
            "For example, when doing 'df[col].method(value, inplace=True)', try using 'df.method({col: value}, inplace=True)' or df[col] = df[col].method(value) instead, to perform the operation inplace on the original object.\n",
            "\n",
            "\n",
            "  winner['time_margin'].fillna(median_margin,inplace=True)\n"
          ]
        }
      ],
      "source": [
        "sns.histplot(winner['time_margin'], kde=True)\n",
        "plt.show()\n",
        "\n",
        "#time_margin median\n",
        "median_margin= winner['time_margin'].median()\n",
        "median_margin\n",
        "\n",
        "#filling in the missing values with the median\n",
        "winner['time_margin'].fillna(median_margin,inplace=True)\n",
        "\n"
      ]
    },
    {
      "cell_type": "code",
      "execution_count": null,
      "metadata": {
        "id": "UpOOpv3McFBM",
        "outputId": "e9ec0b86-dc59-4fcc-a7ae-3f00e4510b44"
      },
      "outputs": [
        {
          "data": {
            "image/png": "[encoded data removed]",
            "text/plain": [
              "<Figure size 640x480 with 1 Axes>"
            ]
          },
          "metadata": {},
          "output_type": "display_data"
        },
        {
          "name": "stderr",
          "output_type": "stream",
          "text": [
            "C:\\Users\\HP\\AppData\\Local\\Temp\\ipykernel_9668\\3271011314.py:9: FutureWarning: A value is trying to be set on a copy of a DataFrame or Series through chained assignment using an inplace method.\n",
            "The behavior will change in pandas 3.0. This inplace method will never work because the intermediate object on which we are setting values always behaves as a copy.\n",
            "\n",
            "For example, when doing 'df[col].method(value, inplace=True)', try using 'df.method({col: value}, inplace=True)' or df[col] = df[col].method(value) instead, to perform the operation inplace on the original object.\n",
            "\n",
            "\n",
            "  winner['height'].fillna(median_height,inplace=True)\n"
          ]
        }
      ],
      "source": [
        "sns.histplot(winner['height'], kde=True)\n",
        "plt.show()\n",
        "\n",
        "#height_median\n",
        "median_height = winner['height'].median()\n",
        "median_height\n",
        "\n",
        "#filling in the null values with the median\n",
        "winner['height'].fillna(median_height,inplace=True)"
      ]
    },
    {
      "cell_type": "code",
      "execution_count": null,
      "metadata": {
        "id": "OG7RG9uEcFBN",
        "outputId": "f2e75537-dfc9-4cae-add9-0cd108126451"
      },
      "outputs": [
        {
          "data": {
            "image/png": "[encoded data removed]",
            "text/plain": [
              "<Figure size 640x480 with 1 Axes>"
            ]
          },
          "metadata": {},
          "output_type": "display_data"
        },
        {
          "name": "stderr",
          "output_type": "stream",
          "text": [
            "C:\\Users\\HP\\AppData\\Local\\Temp\\ipykernel_9668\\3254095973.py:9: FutureWarning: A value is trying to be set on a copy of a DataFrame or Series through chained assignment using an inplace method.\n",
            "The behavior will change in pandas 3.0. This inplace method will never work because the intermediate object on which we are setting values always behaves as a copy.\n",
            "\n",
            "For example, when doing 'df[col].method(value, inplace=True)', try using 'df.method({col: value}, inplace=True)' or df[col] = df[col].method(value) instead, to perform the operation inplace on the original object.\n",
            "\n",
            "\n",
            "  winner['weight'].fillna(mean_weight, inplace=True)\n"
          ]
        }
      ],
      "source": [
        "sns.histplot(winner['weight'], kde=True)\n",
        "plt.show()\n",
        "\n",
        "#mean for the weight\n",
        "mean_weight = winner['weight'].mean()\n",
        "mean_weight\n",
        "\n",
        "#filling in the null values with the mean\n",
        "winner['weight'].fillna(mean_weight, inplace=True)"
      ]
    },
    {
      "cell_type": "code",
      "execution_count": null,
      "metadata": {
        "id": "gtxmG45OcFBO",
        "outputId": "ca028102-100a-455d-8b5a-be384113a8e1"
      },
      "outputs": [
        {
          "name": "stdout",
          "output_type": "stream",
          "text": [
            "<class 'pandas.core.frame.DataFrame'>\n",
            "RangeIndex: 106 entries, 0 to 105\n",
            "Data columns (total 19 columns):\n",
            " #   Column         Non-Null Count  Dtype         \n",
            "---  ------         --------------  -----         \n",
            " 0   edition        106 non-null    int64         \n",
            " 1   start_date     106 non-null    datetime64[ns]\n",
            " 2   winner_name    106 non-null    object        \n",
            " 3   winner_team    106 non-null    object        \n",
            " 4   distance       106 non-null    float64       \n",
            " 5   time_overall   106 non-null    float64       \n",
            " 6   time_margin    106 non-null    float64       \n",
            " 7   stage_wins     106 non-null    int64         \n",
            " 8   stages_led     106 non-null    int64         \n",
            " 9   height         106 non-null    float64       \n",
            " 10  weight         106 non-null    float64       \n",
            " 11  age            106 non-null    int64         \n",
            " 12  born           106 non-null    datetime64[ns]\n",
            " 13  died           56 non-null     object        \n",
            " 14  full_name      46 non-null     object        \n",
            " 15  nickname       74 non-null     object        \n",
            " 16  birth_town     106 non-null    object        \n",
            " 17  birth_country  106 non-null    object        \n",
            " 18  nationality    106 non-null    object        \n",
            "dtypes: datetime64[ns](2), float64(5), int64(4), object(8)\n",
            "memory usage: 15.9+ KB\n"
          ]
        }
      ],
      "source": [
        "winner.info()\n"
      ]
    },
    {
      "cell_type": "code",
      "execution_count": null,
      "metadata": {
        "id": "xhPKgTtVcFBP",
        "outputId": "1ad5c8e2-70d2-47ea-8188-539b65c6d4ff"
      },
      "outputs": [
        {
          "name": "stdout",
          "output_type": "stream",
          "text": [
            "0    2.989167\n",
            "1    2.270556\n",
            "2    0.101667\n",
            "3    0.101667\n",
            "4    0.101667\n",
            "5    0.101667\n",
            "6    0.101667\n",
            "7    0.101667\n",
            "8    0.101667\n",
            "9    0.101667\n",
            "Name: time_margin, dtype: float64\n"
          ]
        }
      ],
      "source": [
        "print(winner['time_margin'].head(10))"
      ]
    },
    {
      "cell_type": "code",
      "execution_count": null,
      "metadata": {
        "id": "DoEOH3eMcFBP"
      },
      "outputs": [],
      "source": [
        "#drop full_name column\n",
        "winner.drop('full_name', axis=1, inplace=True)\n",
        "\n",
        "#drop nickname column\n",
        "winner.drop('nickname', axis=1, inplace=True)\n",
        "\n",
        "#drop died column\n",
        "winner.drop('died', axis=1, inplace=True)"
      ]
    },
    {
      "cell_type": "code",
      "execution_count": null,
      "metadata": {
        "id": "B_dPrN8kcFBQ",
        "outputId": "ec19e60f-5af2-45c2-f02f-adc864d1e8e5"
      },
      "outputs": [
        {
          "name": "stdout",
          "output_type": "stream",
          "text": [
            "<class 'pandas.core.frame.DataFrame'>\n",
            "RangeIndex: 106 entries, 0 to 105\n",
            "Data columns (total 16 columns):\n",
            " #   Column         Non-Null Count  Dtype         \n",
            "---  ------         --------------  -----         \n",
            " 0   edition        106 non-null    int64         \n",
            " 1   start_date     106 non-null    datetime64[ns]\n",
            " 2   winner_name    106 non-null    object        \n",
            " 3   winner_team    106 non-null    object        \n",
            " 4   distance       106 non-null    float64       \n",
            " 5   time_overall   106 non-null    float64       \n",
            " 6   time_margin    106 non-null    float64       \n",
            " 7   stage_wins     106 non-null    int64         \n",
            " 8   stages_led     106 non-null    int64         \n",
            " 9   height         106 non-null    float64       \n",
            " 10  weight         106 non-null    float64       \n",
            " 11  age            106 non-null    int64         \n",
            " 12  born           106 non-null    datetime64[ns]\n",
            " 13  birth_town     106 non-null    object        \n",
            " 14  birth_country  106 non-null    object        \n",
            " 15  nationality    106 non-null    object        \n",
            "dtypes: datetime64[ns](2), float64(5), int64(4), object(5)\n",
            "memory usage: 13.4+ KB\n"
          ]
        }
      ],
      "source": [
        "winner.info()"
      ]
    },
    {
      "cell_type": "code",
      "execution_count": null,
      "metadata": {
        "id": "iOb9lcfacFBQ",
        "outputId": "3d1c8229-1769-4935-c38d-d3a5aa9e7918"
      },
      "outputs": [
        {
          "data": {
            "text/plain": [
              "0      False\n",
              "1      False\n",
              "2      False\n",
              "3      False\n",
              "4      False\n",
              "       ...  \n",
              "101    False\n",
              "102    False\n",
              "103    False\n",
              "104    False\n",
              "105    False\n",
              "Length: 106, dtype: bool"
            ]
          },
          "execution_count": 25,
          "metadata": {},
          "output_type": "execute_result"
        }
      ],
      "source": [
        "winner.duplicated()"
      ]
    },
    {
      "cell_type": "code",
      "execution_count": null,
      "metadata": {
        "id": "t_Ajh5wwcFBR",
        "outputId": "a2d67d27-b54e-4ab2-9924-b4a19c97cf6b"
      },
      "outputs": [
        {
          "data": {
            "text/plain": [
              "np.int64(0)"
            ]
          },
          "execution_count": 26,
          "metadata": {},
          "output_type": "execute_result"
        }
      ],
      "source": [
        "winner.duplicated().sum()"
      ]
    },
    {
      "cell_type": "markdown",
      "metadata": {
        "id": "a-uZZU9jcFBS"
      },
      "source": [
        "Visualisations"
      ]
    },
    {
      "cell_type": "code",
      "execution_count": null,
      "metadata": {
        "id": "Eh8HLv8ucFBS",
        "outputId": "fe41eaf5-210b-4e72-c841-bd4d4f142aa6"
      },
      "outputs": [
        {
          "name": "stdout",
          "output_type": "stream",
          "text": [
            "<class 'pandas.core.frame.DataFrame'>\n",
            "RangeIndex: 106 entries, 0 to 105\n",
            "Data columns (total 16 columns):\n",
            " #   Column         Non-Null Count  Dtype         \n",
            "---  ------         --------------  -----         \n",
            " 0   edition        106 non-null    int64         \n",
            " 1   start_date     106 non-null    datetime64[ns]\n",
            " 2   winner_name    106 non-null    object        \n",
            " 3   winner_team    106 non-null    object        \n",
            " 4   distance       106 non-null    float64       \n",
            " 5   time_overall   106 non-null    float64       \n",
            " 6   time_margin    106 non-null    float64       \n",
            " 7   stage_wins     106 non-null    int64         \n",
            " 8   stages_led     106 non-null    int64         \n",
            " 9   height         106 non-null    float64       \n",
            " 10  weight         106 non-null    float64       \n",
            " 11  age            106 non-null    int64         \n",
            " 12  born           106 non-null    datetime64[ns]\n",
            " 13  birth_town     106 non-null    object        \n",
            " 14  birth_country  106 non-null    object        \n",
            " 15  nationality    106 non-null    object        \n",
            "dtypes: datetime64[ns](2), float64(5), int64(4), object(5)\n",
            "memory usage: 13.4+ KB\n"
          ]
        }
      ],
      "source": [
        "winner.info()"
      ]
    },
    {
      "cell_type": "code",
      "execution_count": null,
      "metadata": {
        "id": "LdZmfgr0cFBT",
        "outputId": "36fe02f3-8ba8-44ab-a650-345940cb83e5"
      },
      "outputs": [
        {
          "data": {
            "text/html": [
              "<div>\n",
              "<style scoped>\n",
              "    .dataframe tbody tr th:only-of-type {\n",
              "        vertical-align: middle;\n",
              "    }\n",
              "\n",
              "    .dataframe tbody tr th {\n",
              "        vertical-align: top;\n",
              "    }\n",
              "\n",
              "    .dataframe thead th {\n",
              "        text-align: right;\n",
              "    }\n",
              "</style>\n",
              "<table border=\"1\" class=\"dataframe\">\n",
              "  <thead>\n",
              "    <tr style=\"text-align: right;\">\n",
              "      <th></th>\n",
              "      <th>edition</th>\n",
              "      <th>start_date</th>\n",
              "      <th>winner_name</th>\n",
              "      <th>winner_team</th>\n",
              "      <th>distance</th>\n",
              "      <th>time_overall</th>\n",
              "      <th>time_margin</th>\n",
              "      <th>stage_wins</th>\n",
              "      <th>stages_led</th>\n",
              "      <th>height</th>\n",
              "      <th>weight</th>\n",
              "      <th>age</th>\n",
              "      <th>born</th>\n",
              "      <th>birth_town</th>\n",
              "      <th>birth_country</th>\n",
              "      <th>nationality</th>\n",
              "    </tr>\n",
              "  </thead>\n",
              "  <tbody>\n",
              "    <tr>\n",
              "      <th>0</th>\n",
              "      <td>1</td>\n",
              "      <td>1903-07-01</td>\n",
              "      <td>Maurice Garin</td>\n",
              "      <td>La Française</td>\n",
              "      <td>2428.0</td>\n",
              "      <td>94.553889</td>\n",
              "      <td>2.989167</td>\n",
              "      <td>3</td>\n",
              "      <td>6</td>\n",
              "      <td>1.62</td>\n",
              "      <td>60.000000</td>\n",
              "      <td>32</td>\n",
              "      <td>1871-03-03</td>\n",
              "      <td>Arvier</td>\n",
              "      <td>Italy</td>\n",
              "      <td>France</td>\n",
              "    </tr>\n",
              "    <tr>\n",
              "      <th>1</th>\n",
              "      <td>2</td>\n",
              "      <td>1904-07-02</td>\n",
              "      <td>Henri Cornet</td>\n",
              "      <td>Conte</td>\n",
              "      <td>2428.0</td>\n",
              "      <td>96.098611</td>\n",
              "      <td>2.270556</td>\n",
              "      <td>1</td>\n",
              "      <td>3</td>\n",
              "      <td>1.77</td>\n",
              "      <td>69.253731</td>\n",
              "      <td>19</td>\n",
              "      <td>1884-08-04</td>\n",
              "      <td>Desvres</td>\n",
              "      <td>France</td>\n",
              "      <td>France</td>\n",
              "    </tr>\n",
              "    <tr>\n",
              "      <th>2</th>\n",
              "      <td>3</td>\n",
              "      <td>1905-07-09</td>\n",
              "      <td>Louis Trousselier</td>\n",
              "      <td>Peugeot–Wolber</td>\n",
              "      <td>2994.0</td>\n",
              "      <td>115.026806</td>\n",
              "      <td>0.101667</td>\n",
              "      <td>5</td>\n",
              "      <td>10</td>\n",
              "      <td>1.77</td>\n",
              "      <td>69.253731</td>\n",
              "      <td>24</td>\n",
              "      <td>1881-06-29</td>\n",
              "      <td>Paris</td>\n",
              "      <td>France</td>\n",
              "      <td>France</td>\n",
              "    </tr>\n",
              "    <tr>\n",
              "      <th>3</th>\n",
              "      <td>4</td>\n",
              "      <td>1906-07-04</td>\n",
              "      <td>René Pottier</td>\n",
              "      <td>Peugeot–Wolber</td>\n",
              "      <td>4637.0</td>\n",
              "      <td>115.026806</td>\n",
              "      <td>0.101667</td>\n",
              "      <td>5</td>\n",
              "      <td>12</td>\n",
              "      <td>1.77</td>\n",
              "      <td>69.253731</td>\n",
              "      <td>27</td>\n",
              "      <td>1879-06-05</td>\n",
              "      <td>Moret-sur-Loing</td>\n",
              "      <td>France</td>\n",
              "      <td>France</td>\n",
              "    </tr>\n",
              "    <tr>\n",
              "      <th>4</th>\n",
              "      <td>5</td>\n",
              "      <td>1907-07-08</td>\n",
              "      <td>Lucien Petit-Breton</td>\n",
              "      <td>Peugeot–Wolber</td>\n",
              "      <td>4488.0</td>\n",
              "      <td>115.026806</td>\n",
              "      <td>0.101667</td>\n",
              "      <td>2</td>\n",
              "      <td>5</td>\n",
              "      <td>1.77</td>\n",
              "      <td>69.253731</td>\n",
              "      <td>24</td>\n",
              "      <td>1882-10-18</td>\n",
              "      <td>Plessé</td>\n",
              "      <td>France</td>\n",
              "      <td>France</td>\n",
              "    </tr>\n",
              "  </tbody>\n",
              "</table>\n",
              "</div>"
            ],
            "text/plain": [
              "   edition start_date          winner_name     winner_team  distance  \\\n",
              "0        1 1903-07-01        Maurice Garin    La Française    2428.0   \n",
              "1        2 1904-07-02         Henri Cornet           Conte    2428.0   \n",
              "2        3 1905-07-09    Louis Trousselier  Peugeot–Wolber    2994.0   \n",
              "3        4 1906-07-04         René Pottier  Peugeot–Wolber    4637.0   \n",
              "4        5 1907-07-08  Lucien Petit-Breton  Peugeot–Wolber    4488.0   \n",
              "\n",
              "   time_overall  time_margin  stage_wins  stages_led  height     weight  age  \\\n",
              "0     94.553889     2.989167           3           6    1.62  60.000000   32   \n",
              "1     96.098611     2.270556           1           3    1.77  69.253731   19   \n",
              "2    115.026806     0.101667           5          10    1.77  69.253731   24   \n",
              "3    115.026806     0.101667           5          12    1.77  69.253731   27   \n",
              "4    115.026806     0.101667           2           5    1.77  69.253731   24   \n",
              "\n",
              "        born       birth_town birth_country nationality  \n",
              "0 1871-03-03           Arvier         Italy      France  \n",
              "1 1884-08-04          Desvres        France      France  \n",
              "2 1881-06-29            Paris        France      France  \n",
              "3 1879-06-05  Moret-sur-Loing        France      France  \n",
              "4 1882-10-18           Plessé        France      France  "
            ]
          },
          "execution_count": 28,
          "metadata": {},
          "output_type": "execute_result"
        }
      ],
      "source": [
        "winner.head(5)"
      ]
    },
    {
      "cell_type": "code",
      "execution_count": null,
      "metadata": {
        "id": "vv8DM3phcFBT",
        "outputId": "c71af844-4f23-46bc-8543-d2631979b7fa"
      },
      "outputs": [
        {
          "data": {
            "text/html": [
              "<div>\n",
              "<style scoped>\n",
              "    .dataframe tbody tr th:only-of-type {\n",
              "        vertical-align: middle;\n",
              "    }\n",
              "\n",
              "    .dataframe tbody tr th {\n",
              "        vertical-align: top;\n",
              "    }\n",
              "\n",
              "    .dataframe thead th {\n",
              "        text-align: right;\n",
              "    }\n",
              "</style>\n",
              "<table border=\"1\" class=\"dataframe\">\n",
              "  <thead>\n",
              "    <tr style=\"text-align: right;\">\n",
              "      <th></th>\n",
              "      <th>edition</th>\n",
              "      <th>winner_name</th>\n",
              "      <th>winner_team</th>\n",
              "      <th>time_overall</th>\n",
              "      <th>time_margin</th>\n",
              "    </tr>\n",
              "  </thead>\n",
              "  <tbody>\n",
              "    <tr>\n",
              "      <th>0</th>\n",
              "      <td>1</td>\n",
              "      <td>Maurice Garin</td>\n",
              "      <td>La Française</td>\n",
              "      <td>94.553889</td>\n",
              "      <td>2.989167</td>\n",
              "    </tr>\n",
              "    <tr>\n",
              "      <th>1</th>\n",
              "      <td>2</td>\n",
              "      <td>Henri Cornet</td>\n",
              "      <td>Conte</td>\n",
              "      <td>96.098611</td>\n",
              "      <td>2.270556</td>\n",
              "    </tr>\n",
              "    <tr>\n",
              "      <th>2</th>\n",
              "      <td>3</td>\n",
              "      <td>Louis Trousselier</td>\n",
              "      <td>Peugeot–Wolber</td>\n",
              "      <td>115.026806</td>\n",
              "      <td>0.101667</td>\n",
              "    </tr>\n",
              "    <tr>\n",
              "      <th>3</th>\n",
              "      <td>4</td>\n",
              "      <td>René Pottier</td>\n",
              "      <td>Peugeot–Wolber</td>\n",
              "      <td>115.026806</td>\n",
              "      <td>0.101667</td>\n",
              "    </tr>\n",
              "    <tr>\n",
              "      <th>4</th>\n",
              "      <td>5</td>\n",
              "      <td>Lucien Petit-Breton</td>\n",
              "      <td>Peugeot–Wolber</td>\n",
              "      <td>115.026806</td>\n",
              "      <td>0.101667</td>\n",
              "    </tr>\n",
              "  </tbody>\n",
              "</table>\n",
              "</div>"
            ],
            "text/plain": [
              "   edition          winner_name     winner_team  time_overall  time_margin\n",
              "0        1        Maurice Garin    La Française     94.553889     2.989167\n",
              "1        2         Henri Cornet           Conte     96.098611     2.270556\n",
              "2        3    Louis Trousselier  Peugeot–Wolber    115.026806     0.101667\n",
              "3        4         René Pottier  Peugeot–Wolber    115.026806     0.101667\n",
              "4        5  Lucien Petit-Breton  Peugeot–Wolber    115.026806     0.101667"
            ]
          },
          "execution_count": 29,
          "metadata": {},
          "output_type": "execute_result"
        }
      ],
      "source": [
        "#overview of the top 5 athletes\n",
        "edition_winner = winner[['edition', 'winner_name','winner_team','time_overall','time_margin']].drop_duplicates()\n",
        "\n",
        "edition_winner.head(5)\n"
      ]
    },
    {
      "cell_type": "code",
      "execution_count": null,
      "metadata": {
        "id": "cKfPKkCzcFBU",
        "outputId": "52f97f55-e129-45e4-943c-3506a915b047"
      },
      "outputs": [
        {
          "name": "stdout",
          "output_type": "stream",
          "text": [
            "   edition    winner_name  time_overall\n",
            "0        1  Maurice Garin     94.553889\n",
            "1        2   Henri Cornet     96.098611\n"
          ]
        }
      ],
      "source": [
        "#top two per edition\n",
        "winner_sorted = winner.sort_values(by=['edition','winner_name']).head(2)\n",
        "top_two_per_edition = winner_sorted.groupby('edition').head(2)\n",
        "print(top_two_per_edition[['edition', 'winner_name', 'time_overall']])"
      ]
    },
    {
      "cell_type": "markdown",
      "metadata": {
        "id": "yMIxOfEccFBV"
      },
      "source": [
        "1.Cyclist's performance over time\n"
      ]
    },
    {
      "cell_type": "code",
      "execution_count": null,
      "metadata": {
        "id": "35cufFa9cFBV",
        "outputId": "d970a035-4807-460b-a985-cefac9038dcf"
      },
      "outputs": [
        {
          "name": "stdout",
          "output_type": "stream",
          "text": [
            "Requirement already satisfied: nbformat in c:\\users\\hp\\appdata\\local\\programs\\python\\python312\\lib\\site-packages (5.10.4)Note: you may need to restart the kernel to use updated packages.\n"
          ]
        },
        {
          "name": "stderr",
          "output_type": "stream",
          "text": [
            "\n",
            "[notice] A new release of pip is available: 24.2 -> 24.3.1\n",
            "[notice] To update, run: python.exe -m pip install --upgrade pip\n"
          ]
        },
        {
          "name": "stdout",
          "output_type": "stream",
          "text": [
            "\n",
            "Requirement already satisfied: fastjsonschema>=2.15 in c:\\users\\hp\\appdata\\local\\programs\\python\\python312\\lib\\site-packages (from nbformat) (2.20.0)\n",
            "Requirement already satisfied: jsonschema>=2.6 in c:\\users\\hp\\appdata\\local\\programs\\python\\python312\\lib\\site-packages (from nbformat) (4.23.0)\n",
            "Requirement already satisfied: jupyter-core!=5.0.*,>=4.12 in c:\\users\\hp\\appdata\\roaming\\python\\python312\\site-packages (from nbformat) (5.7.2)\n",
            "Requirement already satisfied: traitlets>=5.1 in c:\\users\\hp\\appdata\\roaming\\python\\python312\\site-packages (from nbformat) (5.14.3)\n",
            "Requirement already satisfied: attrs>=22.2.0 in c:\\users\\hp\\appdata\\local\\programs\\python\\python312\\lib\\site-packages (from jsonschema>=2.6->nbformat) (24.2.0)\n",
            "Requirement already satisfied: jsonschema-specifications>=2023.03.6 in c:\\users\\hp\\appdata\\local\\programs\\python\\python312\\lib\\site-packages (from jsonschema>=2.6->nbformat) (2024.10.1)\n",
            "Requirement already satisfied: referencing>=0.28.4 in c:\\users\\hp\\appdata\\local\\programs\\python\\python312\\lib\\site-packages (from jsonschema>=2.6->nbformat) (0.35.1)\n",
            "Requirement already satisfied: rpds-py>=0.7.1 in c:\\users\\hp\\appdata\\local\\programs\\python\\python312\\lib\\site-packages (from jsonschema>=2.6->nbformat) (0.21.0)\n",
            "Requirement already satisfied: platformdirs>=2.5 in c:\\users\\hp\\appdata\\roaming\\python\\python312\\site-packages (from jupyter-core!=5.0.*,>=4.12->nbformat) (4.3.6)\n",
            "Requirement already satisfied: pywin32>=300 in c:\\users\\hp\\appdata\\roaming\\python\\python312\\site-packages (from jupyter-core!=5.0.*,>=4.12->nbformat) (308)\n"
          ]
        }
      ],
      "source": [
        "pip install nbformat --upgrade\n"
      ]
    },
    {
      "cell_type": "markdown",
      "metadata": {
        "id": "ci0P25iecFBW"
      },
      "source": [
        "a. Average time spent by cyclists over time\n"
      ]
    },
    {
      "cell_type": "code",
      "execution_count": null,
      "metadata": {
        "id": "Lqn89MLYcFBX",
        "outputId": "0ebfe3f8-fecc-46b5-ebb6-1ad5a702c8cc"
      },
      "outputs": [
        {
          "data": {
            "application/vnd.plotly.v1+json": {
              "config": {
                "plotlyServerURL": "https://plot.ly"
              },
              "data": [
                {
                  "hovertemplate": "Edition=%{x}<br>Average Time Overall (hours)=%{y}<extra></extra>",
                  "legendgroup": "",
                  "line": {
                    "color": "#636efa",
                    "dash": "solid"
                  },
                  "marker": {
                    "symbol": "circle"
                  },
                  "mode": "lines+markers",
                  "name": "",
                  "orientation": "v",
                  "showlegend": false,
                  "type": "scatter",
                  "x": [
                    1,
                    2,
                    3,
                    4,
                    5,
                    6,
                    7,
                    8,
                    9,
                    10,
                    11,
                    12,
                    13,
                    14,
                    15,
                    16,
                    17,
                    18,
                    19,
                    20,
                    21,
                    22,
                    23,
                    24,
                    25,
                    26,
                    27,
                    28,
                    29,
                    30,
                    31,
                    32,
                    33,
                    34,
                    35,
                    36,
                    37,
                    38,
                    39,
                    40,
                    41,
                    42,
                    43,
                    44,
                    45,
                    46,
                    47,
                    48,
                    49,
                    50,
                    51,
                    52,
                    53,
                    54,
                    55,
                    56,
                    57,
                    58,
                    59,
                    60,
                    61,
                    62,
                    63,
                    64,
                    65,
                    66,
                    67,
                    68,
                    69,
                    70,
                    71,
                    72,
                    73,
                    74,
                    75,
                    76,
                    77,
                    78,
                    79,
                    80,
                    81,
                    82,
                    83,
                    84,
                    85,
                    86,
                    87,
                    88,
                    89,
                    90,
                    91,
                    92,
                    93,
                    94,
                    95,
                    96,
                    97,
                    98,
                    99,
                    100,
                    101,
                    102,
                    103,
                    104,
                    105,
                    106
                  ],
                  "xaxis": "x",
                  "y": [
                    94.55388888888888,
                    96.09861111111113,
                    115.02680555555555,
                    115.02680555555555,
                    115.02680555555555,
                    115.02680555555555,
                    115.02680555555555,
                    115.02680555555555,
                    115.02680555555555,
                    115.02680555555555,
                    197.9,
                    200.48,
                    231.1208333333333,
                    228.6036111111111,
                    221.8405555555556,
                    222.135,
                    222.25833333333333,
                    226.3058333333333,
                    219.17166666666665,
                    238.74027777777775,
                    198.2783333333333,
                    192.81611111111116,
                    186.65416666666667,
                    172.20444444444442,
                    177.1675,
                    154.19694444444443,
                    147.86027777777778,
                    147.23277777777778,
                    141.38333333333333,
                    142.79222222222222,
                    138.9752777777778,
                    148.48666666666665,
                    132.05472222222224,
                    148.1902777777778,
                    147.17666666666665,
                    149.68027777777775,
                    145.61555555555557,
                    142.33722222222224,
                    151.95555555555555,
                    129.39027777777778,
                    140.1013888888889,
                    130.49055555555557,
                    124.02111111111113,
                    135.74499999999998,
                    116.98472222222222,
                    123.77916666666668,
                    112.145,
                    122.02583333333334,
                    114.53166666666668,
                    113.50138888888888,
                    127.16222222222224,
                    116.70166666666668,
                    117.5725,
                    136.8972222222222,
                    133.82833333333332,
                    116.26722222222222,
                    119.53027777777778,
                    96.7538888888889,
                    108.28833333333333,
                    122.42611111111113,
                    116.28277777777778,
                    114.59194444444444,
                    116.37305555555557,
                    115.64166666666668,
                    108.3,
                    103.11388888888888,
                    109.32055555555556,
                    96.32722222222222,
                    92.14611111111113,
                    105.13111111111112,
                    112.0611111111111,
                    113.4063888888889,
                    110.5886111111111,
                    115.46166666666667,
                    84.46472222222222,
                    87.64305555555556,
                    90.72222222222224,
                    101.02222222222224,
                    100.825,
                    95.9525,
                    103.6438888888889,
                    92.74972222222222,
                    95.95444444444443,
                    100.50972222222222,
                    92.82944444444443,
                    91.53777777777778,
                    92.5522222222222,
                    86.2911111111111,
                    82.08666666666666,
                    83.68666666666667,
                    83.60055555555554,
                    86.25055555555555,
                    89.67416666666666,
                    91.00722222222224,
                    87.88111111111111,
                    85.80972222222222,
                    91.99083333333331,
                    86.20611111111111,
                    87.57972222222222,
                    83.9388888888889,
                    89.985,
                    84.77055555555556,
                    89.08,
                    86.34861111111111,
                    83.28694444444444,
                    82.95
                  ],
                  "yaxis": "y"
                }
              ],
              "layout": {
                "legend": {
                  "tracegroupgap": 0
                },
                "template": {
                  "data": {
                    "bar": [
                      {
                        "error_x": {
                          "color": "#2a3f5f"
                        },
                        "error_y": {
                          "color": "#2a3f5f"
                        },
                        "marker": {
                          "line": {
                            "color": "#E5ECF6",
                            "width": 0.5
                          },
                          "pattern": {
                            "fillmode": "overlay",
                            "size": 10,
                            "solidity": 0.2
                          }
                        },
                        "type": "bar"
                      }
                    ],
                    "barpolar": [
                      {
                        "marker": {
                          "line": {
                            "color": "#E5ECF6",
                            "width": 0.5
                          },
                          "pattern": {
                            "fillmode": "overlay",
                            "size": 10,
                            "solidity": 0.2
                          }
                        },
                        "type": "barpolar"
                      }
                    ],
                    "carpet": [
                      {
                        "aaxis": {
                          "endlinecolor": "#2a3f5f",
                          "gridcolor": "white",
                          "linecolor": "white",
                          "minorgridcolor": "white",
                          "startlinecolor": "#2a3f5f"
                        },
                        "baxis": {
                          "endlinecolor": "#2a3f5f",
                          "gridcolor": "white",
                          "linecolor": "white",
                          "minorgridcolor": "white",
                          "startlinecolor": "#2a3f5f"
                        },
                        "type": "carpet"
                      }
                    ],
                    "choropleth": [
                      {
                        "colorbar": {
                          "outlinewidth": 0,
                          "ticks": ""
                        },
                        "type": "choropleth"
                      }
                    ],
                    "contour": [
                      {
                        "colorbar": {
                          "outlinewidth": 0,
                          "ticks": ""
                        },
                        "colorscale": [
                          [
                            0,
                            "#0d0887"
                          ],
                          [
                            0.1111111111111111,
                            "#46039f"
                          ],
                          [
                            0.2222222222222222,
                            "#7201a8"
                          ],
                          [
                            0.3333333333333333,
                            "#9c179e"
                          ],
                          [
                            0.4444444444444444,
                            "#bd3786"
                          ],
                          [
                            0.5555555555555556,
                            "#d8576b"
                          ],
                          [
                            0.6666666666666666,
                            "#ed7953"
                          ],
                          [
                            0.7777777777777778,
                            "#fb9f3a"
                          ],
                          [
                            0.8888888888888888,
                            "#fdca26"
                          ],
                          [
                            1,
                            "#f0f921"
                          ]
                        ],
                        "type": "contour"
                      }
                    ],
                    "contourcarpet": [
                      {
                        "colorbar": {
                          "outlinewidth": 0,
                          "ticks": ""
                        },
                        "type": "contourcarpet"
                      }
                    ],
                    "heatmap": [
                      {
                        "colorbar": {
                          "outlinewidth": 0,
                          "ticks": ""
                        },
                        "colorscale": [
                          [
                            0,
                            "#0d0887"
                          ],
                          [
                            0.1111111111111111,
                            "#46039f"
                          ],
                          [
                            0.2222222222222222,
                            "#7201a8"
                          ],
                          [
                            0.3333333333333333,
                            "#9c179e"
                          ],
                          [
                            0.4444444444444444,
                            "#bd3786"
                          ],
                          [
                            0.5555555555555556,
                            "#d8576b"
                          ],
                          [
                            0.6666666666666666,
                            "#ed7953"
                          ],
                          [
                            0.7777777777777778,
                            "#fb9f3a"
                          ],
                          [
                            0.8888888888888888,
                            "#fdca26"
                          ],
                          [
                            1,
                            "#f0f921"
                          ]
                        ],
                        "type": "heatmap"
                      }
                    ],
                    "heatmapgl": [
                      {
                        "colorbar": {
                          "outlinewidth": 0,
                          "ticks": ""
                        },
                        "colorscale": [
                          [
                            0,
                            "#0d0887"
                          ],
                          [
                            0.1111111111111111,
                            "#46039f"
                          ],
                          [
                            0.2222222222222222,
                            "#7201a8"
                          ],
                          [
                            0.3333333333333333,
                            "#9c179e"
                          ],
                          [
                            0.4444444444444444,
                            "#bd3786"
                          ],
                          [
                            0.5555555555555556,
                            "#d8576b"
                          ],
                          [
                            0.6666666666666666,
                            "#ed7953"
                          ],
                          [
                            0.7777777777777778,
                            "#fb9f3a"
                          ],
                          [
                            0.8888888888888888,
                            "#fdca26"
                          ],
                          [
                            1,
                            "#f0f921"
                          ]
                        ],
                        "type": "heatmapgl"
                      }
                    ],
                    "histogram": [
                      {
                        "marker": {
                          "pattern": {
                            "fillmode": "overlay",
                            "size": 10,
                            "solidity": 0.2
                          }
                        },
                        "type": "histogram"
                      }
                    ],
                    "histogram2d": [
                      {
                        "colorbar": {
                          "outlinewidth": 0,
                          "ticks": ""
                        },
                        "colorscale": [
                          [
                            0,
                            "#0d0887"
                          ],
                          [
                            0.1111111111111111,
                            "#46039f"
                          ],
                          [
                            0.2222222222222222,
                            "#7201a8"
                          ],
                          [
                            0.3333333333333333,
                            "#9c179e"
                          ],
                          [
                            0.4444444444444444,
                            "#bd3786"
                          ],
                          [
                            0.5555555555555556,
                            "#d8576b"
                          ],
                          [
                            0.6666666666666666,
                            "#ed7953"
                          ],
                          [
                            0.7777777777777778,
                            "#fb9f3a"
                          ],
                          [
                            0.8888888888888888,
                            "#fdca26"
                          ],
                          [
                            1,
                            "#f0f921"
                          ]
                        ],
                        "type": "histogram2d"
                      }
                    ],
                    "histogram2dcontour": [
                      {
                        "colorbar": {
                          "outlinewidth": 0,
                          "ticks": ""
                        },
                        "colorscale": [
                          [
                            0,
                            "#0d0887"
                          ],
                          [
                            0.1111111111111111,
                            "#46039f"
                          ],
                          [
                            0.2222222222222222,
                            "#7201a8"
                          ],
                          [
                            0.3333333333333333,
                            "#9c179e"
                          ],
                          [
                            0.4444444444444444,
                            "#bd3786"
                          ],
                          [
                            0.5555555555555556,
                            "#d8576b"
                          ],
                          [
                            0.6666666666666666,
                            "#ed7953"
                          ],
                          [
                            0.7777777777777778,
                            "#fb9f3a"
                          ],
                          [
                            0.8888888888888888,
                            "#fdca26"
                          ],
                          [
                            1,
                            "#f0f921"
                          ]
                        ],
                        "type": "histogram2dcontour"
                      }
                    ],
                    "mesh3d": [
                      {
                        "colorbar": {
                          "outlinewidth": 0,
                          "ticks": ""
                        },
                        "type": "mesh3d"
                      }
                    ],
                    "parcoords": [
                      {
                        "line": {
                          "colorbar": {
                            "outlinewidth": 0,
                            "ticks": ""
                          }
                        },
                        "type": "parcoords"
                      }
                    ],
                    "pie": [
                      {
                        "automargin": true,
                        "type": "pie"
                      }
                    ],
                    "scatter": [
                      {
                        "fillpattern": {
                          "fillmode": "overlay",
                          "size": 10,
                          "solidity": 0.2
                        },
                        "type": "scatter"
                      }
                    ],
                    "scatter3d": [
                      {
                        "line": {
                          "colorbar": {
                            "outlinewidth": 0,
                            "ticks": ""
                          }
                        },
                        "marker": {
                          "colorbar": {
                            "outlinewidth": 0,
                            "ticks": ""
                          }
                        },
                        "type": "scatter3d"
                      }
                    ],
                    "scattercarpet": [
                      {
                        "marker": {
                          "colorbar": {
                            "outlinewidth": 0,
                            "ticks": ""
                          }
                        },
                        "type": "scattercarpet"
                      }
                    ],
                    "scattergeo": [
                      {
                        "marker": {
                          "colorbar": {
                            "outlinewidth": 0,
                            "ticks": ""
                          }
                        },
                        "type": "scattergeo"
                      }
                    ],
                    "scattergl": [
                      {
                        "marker": {
                          "colorbar": {
                            "outlinewidth": 0,
                            "ticks": ""
                          }
                        },
                        "type": "scattergl"
                      }
                    ],
                    "scattermapbox": [
                      {
                        "marker": {
                          "colorbar": {
                            "outlinewidth": 0,
                            "ticks": ""
                          }
                        },
                        "type": "scattermapbox"
                      }
                    ],
                    "scatterpolar": [
                      {
                        "marker": {
                          "colorbar": {
                            "outlinewidth": 0,
                            "ticks": ""
                          }
                        },
                        "type": "scatterpolar"
                      }
                    ],
                    "scatterpolargl": [
                      {
                        "marker": {
                          "colorbar": {
                            "outlinewidth": 0,
                            "ticks": ""
                          }
                        },
                        "type": "scatterpolargl"
                      }
                    ],
                    "scatterternary": [
                      {
                        "marker": {
                          "colorbar": {
                            "outlinewidth": 0,
                            "ticks": ""
                          }
                        },
                        "type": "scatterternary"
                      }
                    ],
                    "surface": [
                      {
                        "colorbar": {
                          "outlinewidth": 0,
                          "ticks": ""
                        },
                        "colorscale": [
                          [
                            0,
                            "#0d0887"
                          ],
                          [
                            0.1111111111111111,
                            "#46039f"
                          ],
                          [
                            0.2222222222222222,
                            "#7201a8"
                          ],
                          [
                            0.3333333333333333,
                            "#9c179e"
                          ],
                          [
                            0.4444444444444444,
                            "#bd3786"
                          ],
                          [
                            0.5555555555555556,
                            "#d8576b"
                          ],
                          [
                            0.6666666666666666,
                            "#ed7953"
                          ],
                          [
                            0.7777777777777778,
                            "#fb9f3a"
                          ],
                          [
                            0.8888888888888888,
                            "#fdca26"
                          ],
                          [
                            1,
                            "#f0f921"
                          ]
                        ],
                        "type": "surface"
                      }
                    ],
                    "table": [
                      {
                        "cells": {
                          "fill": {
                            "color": "#EBF0F8"
                          },
                          "line": {
                            "color": "white"
                          }
                        },
                        "header": {
                          "fill": {
                            "color": "#C8D4E3"
                          },
                          "line": {
                            "color": "white"
                          }
                        },
                        "type": "table"
                      }
                    ]
                  },
                  "layout": {
                    "annotationdefaults": {
                      "arrowcolor": "#2a3f5f",
                      "arrowhead": 0,
                      "arrowwidth": 1
                    },
                    "autotypenumbers": "strict",
                    "coloraxis": {
                      "colorbar": {
                        "outlinewidth": 0,
                        "ticks": ""
                      }
                    },
                    "colorscale": {
                      "diverging": [
                        [
                          0,
                          "#8e0152"
                        ],
                        [
                          0.1,
                          "#c51b7d"
                        ],
                        [
                          0.2,
                          "#de77ae"
                        ],
                        [
                          0.3,
                          "#f1b6da"
                        ],
                        [
                          0.4,
                          "#fde0ef"
                        ],
                        [
                          0.5,
                          "#f7f7f7"
                        ],
                        [
                          0.6,
                          "#e6f5d0"
                        ],
                        [
                          0.7,
                          "#b8e186"
                        ],
                        [
                          0.8,
                          "#7fbc41"
                        ],
                        [
                          0.9,
                          "#4d9221"
                        ],
                        [
                          1,
                          "#276419"
                        ]
                      ],
                      "sequential": [
                        [
                          0,
                          "#0d0887"
                        ],
                        [
                          0.1111111111111111,
                          "#46039f"
                        ],
                        [
                          0.2222222222222222,
                          "#7201a8"
                        ],
                        [
                          0.3333333333333333,
                          "#9c179e"
                        ],
                        [
                          0.4444444444444444,
                          "#bd3786"
                        ],
                        [
                          0.5555555555555556,
                          "#d8576b"
                        ],
                        [
                          0.6666666666666666,
                          "#ed7953"
                        ],
                        [
                          0.7777777777777778,
                          "#fb9f3a"
                        ],
                        [
                          0.8888888888888888,
                          "#fdca26"
                        ],
                        [
                          1,
                          "#f0f921"
                        ]
                      ],
                      "sequentialminus": [
                        [
                          0,
                          "#0d0887"
                        ],
                        [
                          0.1111111111111111,
                          "#46039f"
                        ],
                        [
                          0.2222222222222222,
                          "#7201a8"
                        ],
                        [
                          0.3333333333333333,
                          "#9c179e"
                        ],
                        [
                          0.4444444444444444,
                          "#bd3786"
                        ],
                        [
                          0.5555555555555556,
                          "#d8576b"
                        ],
                        [
                          0.6666666666666666,
                          "#ed7953"
                        ],
                        [
                          0.7777777777777778,
                          "#fb9f3a"
                        ],
                        [
                          0.8888888888888888,
                          "#fdca26"
                        ],
                        [
                          1,
                          "#f0f921"
                        ]
                      ]
                    },
                    "colorway": [
                      "#636efa",
                      "#EF553B",
                      "#00cc96",
                      "#ab63fa",
                      "#FFA15A",
                      "#19d3f3",
                      "#FF6692",
                      "#B6E880",
                      "#FF97FF",
                      "#FECB52"
                    ],
                    "font": {
                      "color": "#2a3f5f"
                    },
                    "geo": {
                      "bgcolor": "white",
                      "lakecolor": "white",
                      "landcolor": "#E5ECF6",
                      "showlakes": true,
                      "showland": true,
                      "subunitcolor": "white"
                    },
                    "hoverlabel": {
                      "align": "left"
                    },
                    "hovermode": "closest",
                    "mapbox": {
                      "style": "light"
                    },
                    "paper_bgcolor": "white",
                    "plot_bgcolor": "#E5ECF6",
                    "polar": {
                      "angularaxis": {
                        "gridcolor": "white",
                        "linecolor": "white",
                        "ticks": ""
                      },
                      "bgcolor": "#E5ECF6",
                      "radialaxis": {
                        "gridcolor": "white",
                        "linecolor": "white",
                        "ticks": ""
                      }
                    },
                    "scene": {
                      "xaxis": {
                        "backgroundcolor": "#E5ECF6",
                        "gridcolor": "white",
                        "gridwidth": 2,
                        "linecolor": "white",
                        "showbackground": true,
                        "ticks": "",
                        "zerolinecolor": "white"
                      },
                      "yaxis": {
                        "backgroundcolor": "#E5ECF6",
                        "gridcolor": "white",
                        "gridwidth": 2,
                        "linecolor": "white",
                        "showbackground": true,
                        "ticks": "",
                        "zerolinecolor": "white"
                      },
                      "zaxis": {
                        "backgroundcolor": "#E5ECF6",
                        "gridcolor": "white",
                        "gridwidth": 2,
                        "linecolor": "white",
                        "showbackground": true,
                        "ticks": "",
                        "zerolinecolor": "white"
                      }
                    },
                    "shapedefaults": {
                      "line": {
                        "color": "#2a3f5f"
                      }
                    },
                    "ternary": {
                      "aaxis": {
                        "gridcolor": "white",
                        "linecolor": "white",
                        "ticks": ""
                      },
                      "baxis": {
                        "gridcolor": "white",
                        "linecolor": "white",
                        "ticks": ""
                      },
                      "bgcolor": "#E5ECF6",
                      "caxis": {
                        "gridcolor": "white",
                        "linecolor": "white",
                        "ticks": ""
                      }
                    },
                    "title": {
                      "x": 0.05
                    },
                    "xaxis": {
                      "automargin": true,
                      "gridcolor": "white",
                      "linecolor": "white",
                      "ticks": "",
                      "title": {
                        "standoff": 15
                      },
                      "zerolinecolor": "white",
                      "zerolinewidth": 2
                    },
                    "yaxis": {
                      "automargin": true,
                      "gridcolor": "white",
                      "linecolor": "white",
                      "ticks": "",
                      "title": {
                        "standoff": 15
                      },
                      "zerolinecolor": "white",
                      "zerolinewidth": 2
                    }
                  }
                },
                "title": {
                  "text": "Average Overall Time of All Cyclists Over Editions"
                },
                "xaxis": {
                  "anchor": "y",
                  "domain": [
                    0,
                    1
                  ],
                  "title": {
                    "text": "Edition"
                  }
                },
                "yaxis": {
                  "anchor": "x",
                  "domain": [
                    0,
                    1
                  ],
                  "title": {
                    "text": "Average Time Overall (hours)"
                  }
                }
              }
            }
          },
          "metadata": {},
          "output_type": "display_data"
        }
      ],
      "source": [
        "import plotly.express as px\n",
        "\n",
        "# Group by edition and calculate the average time_overall\n",
        "average_time_overall = winner.groupby('edition')['time_overall'].mean().reset_index()\n",
        "\n",
        "# Create the plot with Plotly\n",
        "fig = px.line(average_time_overall, x='edition', y='time_overall',\n",
        "              title='Average Overall Time of All Cyclists Over Editions',\n",
        "              labels={'edition': 'Edition', 'time_overall': 'Average Time Overall (hours)'},\n",
        "              markers=True)\n",
        "\n",
        "# Show the plot\n",
        "fig.show()\n"
      ]
    },
    {
      "cell_type": "markdown",
      "metadata": {
        "id": "acDwr9A0cFBY"
      },
      "source": [
        "b.Overall winner time over time"
      ]
    },
    {
      "cell_type": "code",
      "execution_count": null,
      "metadata": {
        "id": "YjPgLFMrcFBY",
        "outputId": "2102b0f1-7767-4e8a-fc8b-e3bca0bb53ab"
      },
      "outputs": [
        {
          "data": {
            "application/vnd.plotly.v1+json": {
              "config": {
                "plotlyServerURL": "https://plot.ly"
              },
              "data": [
                {
                  "hovertemplate": "Edition=%{x}<br>Time Overall (hours)=%{y}<extra></extra>",
                  "legendgroup": "",
                  "line": {
                    "color": "#636efa",
                    "dash": "solid"
                  },
                  "marker": {
                    "symbol": "circle"
                  },
                  "mode": "markers+lines",
                  "name": "",
                  "orientation": "v",
                  "showlegend": false,
                  "type": "scatter",
                  "x": [
                    1,
                    2,
                    3,
                    4,
                    5,
                    6,
                    7,
                    8,
                    9,
                    10,
                    11,
                    12,
                    13,
                    14,
                    15,
                    16,
                    17,
                    18,
                    19,
                    20,
                    21,
                    22,
                    23,
                    24,
                    25,
                    26,
                    27,
                    28,
                    29,
                    30,
                    31,
                    32,
                    33,
                    34,
                    35,
                    36,
                    37,
                    38,
                    39,
                    40,
                    41,
                    42,
                    43,
                    44,
                    45,
                    46,
                    47,
                    48,
                    49,
                    50,
                    51,
                    52,
                    53,
                    54,
                    55,
                    56,
                    57,
                    58,
                    59,
                    60,
                    61,
                    62,
                    63,
                    64,
                    65,
                    66,
                    67,
                    68,
                    69,
                    70,
                    71,
                    72,
                    73,
                    74,
                    75,
                    76,
                    77,
                    78,
                    79,
                    80,
                    81,
                    82,
                    83,
                    84,
                    85,
                    86,
                    87,
                    88,
                    89,
                    90,
                    91,
                    92,
                    93,
                    94,
                    95,
                    96,
                    97,
                    98,
                    99,
                    100,
                    101,
                    102,
                    103,
                    104,
                    105,
                    106
                  ],
                  "xaxis": "x",
                  "y": [
                    94.55388888888888,
                    96.09861111111113,
                    115.02680555555555,
                    115.02680555555555,
                    115.02680555555555,
                    115.02680555555555,
                    115.02680555555555,
                    115.02680555555555,
                    115.02680555555555,
                    115.02680555555555,
                    197.9,
                    200.48,
                    231.1208333333333,
                    228.6036111111111,
                    221.8405555555556,
                    222.135,
                    222.25833333333333,
                    226.3058333333333,
                    219.17166666666665,
                    238.74027777777775,
                    198.2783333333333,
                    192.81611111111116,
                    186.65416666666667,
                    172.20444444444442,
                    177.1675,
                    154.19694444444443,
                    147.86027777777778,
                    147.23277777777778,
                    141.38333333333333,
                    142.79222222222222,
                    138.9752777777778,
                    148.48666666666665,
                    132.05472222222224,
                    148.1902777777778,
                    147.17666666666665,
                    149.68027777777775,
                    145.61555555555557,
                    142.33722222222224,
                    151.95555555555555,
                    129.39027777777778,
                    140.1013888888889,
                    130.49055555555557,
                    124.02111111111113,
                    135.74499999999998,
                    116.98472222222222,
                    123.77916666666668,
                    112.145,
                    122.02583333333334,
                    114.53166666666668,
                    113.50138888888888,
                    127.16222222222224,
                    116.70166666666668,
                    117.5725,
                    136.8972222222222,
                    133.82833333333332,
                    116.26722222222222,
                    119.53027777777778,
                    96.7538888888889,
                    108.28833333333333,
                    122.42611111111113,
                    116.28277777777778,
                    114.59194444444444,
                    116.37305555555557,
                    115.64166666666668,
                    108.3,
                    103.11388888888888,
                    109.32055555555556,
                    96.32722222222222,
                    92.14611111111113,
                    105.13111111111112,
                    112.0611111111111,
                    113.4063888888889,
                    110.5886111111111,
                    115.46166666666667,
                    84.46472222222222,
                    87.64305555555556,
                    90.72222222222224,
                    101.02222222222224,
                    100.825,
                    95.9525,
                    103.6438888888889,
                    92.74972222222222,
                    95.95444444444443,
                    100.50972222222222,
                    92.82944444444443,
                    91.53777777777778,
                    92.5522222222222,
                    86.2911111111111,
                    82.08666666666666,
                    83.68666666666667,
                    83.60055555555554,
                    86.25055555555555,
                    89.67416666666666,
                    91.00722222222224,
                    87.88111111111111,
                    85.80972222222222,
                    91.99083333333331,
                    86.20611111111111,
                    87.57972222222222,
                    83.9388888888889,
                    89.985,
                    84.77055555555556,
                    89.08,
                    86.34861111111111,
                    83.28694444444444,
                    82.95
                  ],
                  "yaxis": "y"
                }
              ],
              "layout": {
                "legend": {
                  "tracegroupgap": 0
                },
                "template": {
                  "data": {
                    "bar": [
                      {
                        "error_x": {
                          "color": "#f2f5fa"
                        },
                        "error_y": {
                          "color": "#f2f5fa"
                        },
                        "marker": {
                          "line": {
                            "color": "rgb(17,17,17)",
                            "width": 0.5
                          },
                          "pattern": {
                            "fillmode": "overlay",
                            "size": 10,
                            "solidity": 0.2
                          }
                        },
                        "type": "bar"
                      }
                    ],
                    "barpolar": [
                      {
                        "marker": {
                          "line": {
                            "color": "rgb(17,17,17)",
                            "width": 0.5
                          },
                          "pattern": {
                            "fillmode": "overlay",
                            "size": 10,
                            "solidity": 0.2
                          }
                        },
                        "type": "barpolar"
                      }
                    ],
                    "carpet": [
                      {
                        "aaxis": {
                          "endlinecolor": "#A2B1C6",
                          "gridcolor": "#506784",
                          "linecolor": "#506784",
                          "minorgridcolor": "#506784",
                          "startlinecolor": "#A2B1C6"
                        },
                        "baxis": {
                          "endlinecolor": "#A2B1C6",
                          "gridcolor": "#506784",
                          "linecolor": "#506784",
                          "minorgridcolor": "#506784",
                          "startlinecolor": "#A2B1C6"
                        },
                        "type": "carpet"
                      }
                    ],
                    "choropleth": [
                      {
                        "colorbar": {
                          "outlinewidth": 0,
                          "ticks": ""
                        },
                        "type": "choropleth"
                      }
                    ],
                    "contour": [
                      {
                        "colorbar": {
                          "outlinewidth": 0,
                          "ticks": ""
                        },
                        "colorscale": [
                          [
                            0,
                            "#0d0887"
                          ],
                          [
                            0.1111111111111111,
                            "#46039f"
                          ],
                          [
                            0.2222222222222222,
                            "#7201a8"
                          ],
                          [
                            0.3333333333333333,
                            "#9c179e"
                          ],
                          [
                            0.4444444444444444,
                            "#bd3786"
                          ],
                          [
                            0.5555555555555556,
                            "#d8576b"
                          ],
                          [
                            0.6666666666666666,
                            "#ed7953"
                          ],
                          [
                            0.7777777777777778,
                            "#fb9f3a"
                          ],
                          [
                            0.8888888888888888,
                            "#fdca26"
                          ],
                          [
                            1,
                            "#f0f921"
                          ]
                        ],
                        "type": "contour"
                      }
                    ],
                    "contourcarpet": [
                      {
                        "colorbar": {
                          "outlinewidth": 0,
                          "ticks": ""
                        },
                        "type": "contourcarpet"
                      }
                    ],
                    "heatmap": [
                      {
                        "colorbar": {
                          "outlinewidth": 0,
                          "ticks": ""
                        },
                        "colorscale": [
                          [
                            0,
                            "#0d0887"
                          ],
                          [
                            0.1111111111111111,
                            "#46039f"
                          ],
                          [
                            0.2222222222222222,
                            "#7201a8"
                          ],
                          [
                            0.3333333333333333,
                            "#9c179e"
                          ],
                          [
                            0.4444444444444444,
                            "#bd3786"
                          ],
                          [
                            0.5555555555555556,
                            "#d8576b"
                          ],
                          [
                            0.6666666666666666,
                            "#ed7953"
                          ],
                          [
                            0.7777777777777778,
                            "#fb9f3a"
                          ],
                          [
                            0.8888888888888888,
                            "#fdca26"
                          ],
                          [
                            1,
                            "#f0f921"
                          ]
                        ],
                        "type": "heatmap"
                      }
                    ],
                    "heatmapgl": [
                      {
                        "colorbar": {
                          "outlinewidth": 0,
                          "ticks": ""
                        },
                        "colorscale": [
                          [
                            0,
                            "#0d0887"
                          ],
                          [
                            0.1111111111111111,
                            "#46039f"
                          ],
                          [
                            0.2222222222222222,
                            "#7201a8"
                          ],
                          [
                            0.3333333333333333,
                            "#9c179e"
                          ],
                          [
                            0.4444444444444444,
                            "#bd3786"
                          ],
                          [
                            0.5555555555555556,
                            "#d8576b"
                          ],
                          [
                            0.6666666666666666,
                            "#ed7953"
                          ],
                          [
                            0.7777777777777778,
                            "#fb9f3a"
                          ],
                          [
                            0.8888888888888888,
                            "#fdca26"
                          ],
                          [
                            1,
                            "#f0f921"
                          ]
                        ],
                        "type": "heatmapgl"
                      }
                    ],
                    "histogram": [
                      {
                        "marker": {
                          "pattern": {
                            "fillmode": "overlay",
                            "size": 10,
                            "solidity": 0.2
                          }
                        },
                        "type": "histogram"
                      }
                    ],
                    "histogram2d": [
                      {
                        "colorbar": {
                          "outlinewidth": 0,
                          "ticks": ""
                        },
                        "colorscale": [
                          [
                            0,
                            "#0d0887"
                          ],
                          [
                            0.1111111111111111,
                            "#46039f"
                          ],
                          [
                            0.2222222222222222,
                            "#7201a8"
                          ],
                          [
                            0.3333333333333333,
                            "#9c179e"
                          ],
                          [
                            0.4444444444444444,
                            "#bd3786"
                          ],
                          [
                            0.5555555555555556,
                            "#d8576b"
                          ],
                          [
                            0.6666666666666666,
                            "#ed7953"
                          ],
                          [
                            0.7777777777777778,
                            "#fb9f3a"
                          ],
                          [
                            0.8888888888888888,
                            "#fdca26"
                          ],
                          [
                            1,
                            "#f0f921"
                          ]
                        ],
                        "type": "histogram2d"
                      }
                    ],
                    "histogram2dcontour": [
                      {
                        "colorbar": {
                          "outlinewidth": 0,
                          "ticks": ""
                        },
                        "colorscale": [
                          [
                            0,
                            "#0d0887"
                          ],
                          [
                            0.1111111111111111,
                            "#46039f"
                          ],
                          [
                            0.2222222222222222,
                            "#7201a8"
                          ],
                          [
                            0.3333333333333333,
                            "#9c179e"
                          ],
                          [
                            0.4444444444444444,
                            "#bd3786"
                          ],
                          [
                            0.5555555555555556,
                            "#d8576b"
                          ],
                          [
                            0.6666666666666666,
                            "#ed7953"
                          ],
                          [
                            0.7777777777777778,
                            "#fb9f3a"
                          ],
                          [
                            0.8888888888888888,
                            "#fdca26"
                          ],
                          [
                            1,
                            "#f0f921"
                          ]
                        ],
                        "type": "histogram2dcontour"
                      }
                    ],
                    "mesh3d": [
                      {
                        "colorbar": {
                          "outlinewidth": 0,
                          "ticks": ""
                        },
                        "type": "mesh3d"
                      }
                    ],
                    "parcoords": [
                      {
                        "line": {
                          "colorbar": {
                            "outlinewidth": 0,
                            "ticks": ""
                          }
                        },
                        "type": "parcoords"
                      }
                    ],
                    "pie": [
                      {
                        "automargin": true,
                        "type": "pie"
                      }
                    ],
                    "scatter": [
                      {
                        "marker": {
                          "line": {
                            "color": "#283442"
                          }
                        },
                        "type": "scatter"
                      }
                    ],
                    "scatter3d": [
                      {
                        "line": {
                          "colorbar": {
                            "outlinewidth": 0,
                            "ticks": ""
                          }
                        },
                        "marker": {
                          "colorbar": {
                            "outlinewidth": 0,
                            "ticks": ""
                          }
                        },
                        "type": "scatter3d"
                      }
                    ],
                    "scattercarpet": [
                      {
                        "marker": {
                          "colorbar": {
                            "outlinewidth": 0,
                            "ticks": ""
                          }
                        },
                        "type": "scattercarpet"
                      }
                    ],
                    "scattergeo": [
                      {
                        "marker": {
                          "colorbar": {
                            "outlinewidth": 0,
                            "ticks": ""
                          }
                        },
                        "type": "scattergeo"
                      }
                    ],
                    "scattergl": [
                      {
                        "marker": {
                          "line": {
                            "color": "#283442"
                          }
                        },
                        "type": "scattergl"
                      }
                    ],
                    "scattermapbox": [
                      {
                        "marker": {
                          "colorbar": {
                            "outlinewidth": 0,
                            "ticks": ""
                          }
                        },
                        "type": "scattermapbox"
                      }
                    ],
                    "scatterpolar": [
                      {
                        "marker": {
                          "colorbar": {
                            "outlinewidth": 0,
                            "ticks": ""
                          }
                        },
                        "type": "scatterpolar"
                      }
                    ],
                    "scatterpolargl": [
                      {
                        "marker": {
                          "colorbar": {
                            "outlinewidth": 0,
                            "ticks": ""
                          }
                        },
                        "type": "scatterpolargl"
                      }
                    ],
                    "scatterternary": [
                      {
                        "marker": {
                          "colorbar": {
                            "outlinewidth": 0,
                            "ticks": ""
                          }
                        },
                        "type": "scatterternary"
                      }
                    ],
                    "surface": [
                      {
                        "colorbar": {
                          "outlinewidth": 0,
                          "ticks": ""
                        },
                        "colorscale": [
                          [
                            0,
                            "#0d0887"
                          ],
                          [
                            0.1111111111111111,
                            "#46039f"
                          ],
                          [
                            0.2222222222222222,
                            "#7201a8"
                          ],
                          [
                            0.3333333333333333,
                            "#9c179e"
                          ],
                          [
                            0.4444444444444444,
                            "#bd3786"
                          ],
                          [
                            0.5555555555555556,
                            "#d8576b"
                          ],
                          [
                            0.6666666666666666,
                            "#ed7953"
                          ],
                          [
                            0.7777777777777778,
                            "#fb9f3a"
                          ],
                          [
                            0.8888888888888888,
                            "#fdca26"
                          ],
                          [
                            1,
                            "#f0f921"
                          ]
                        ],
                        "type": "surface"
                      }
                    ],
                    "table": [
                      {
                        "cells": {
                          "fill": {
                            "color": "#506784"
                          },
                          "line": {
                            "color": "rgb(17,17,17)"
                          }
                        },
                        "header": {
                          "fill": {
                            "color": "#2a3f5f"
                          },
                          "line": {
                            "color": "rgb(17,17,17)"
                          }
                        },
                        "type": "table"
                      }
                    ]
                  },
                  "layout": {
                    "annotationdefaults": {
                      "arrowcolor": "#f2f5fa",
                      "arrowhead": 0,
                      "arrowwidth": 1
                    },
                    "autotypenumbers": "strict",
                    "coloraxis": {
                      "colorbar": {
                        "outlinewidth": 0,
                        "ticks": ""
                      }
                    },
                    "colorscale": {
                      "diverging": [
                        [
                          0,
                          "#8e0152"
                        ],
                        [
                          0.1,
                          "#c51b7d"
                        ],
                        [
                          0.2,
                          "#de77ae"
                        ],
                        [
                          0.3,
                          "#f1b6da"
                        ],
                        [
                          0.4,
                          "#fde0ef"
                        ],
                        [
                          0.5,
                          "#f7f7f7"
                        ],
                        [
                          0.6,
                          "#e6f5d0"
                        ],
                        [
                          0.7,
                          "#b8e186"
                        ],
                        [
                          0.8,
                          "#7fbc41"
                        ],
                        [
                          0.9,
                          "#4d9221"
                        ],
                        [
                          1,
                          "#276419"
                        ]
                      ],
                      "sequential": [
                        [
                          0,
                          "#0d0887"
                        ],
                        [
                          0.1111111111111111,
                          "#46039f"
                        ],
                        [
                          0.2222222222222222,
                          "#7201a8"
                        ],
                        [
                          0.3333333333333333,
                          "#9c179e"
                        ],
                        [
                          0.4444444444444444,
                          "#bd3786"
                        ],
                        [
                          0.5555555555555556,
                          "#d8576b"
                        ],
                        [
                          0.6666666666666666,
                          "#ed7953"
                        ],
                        [
                          0.7777777777777778,
                          "#fb9f3a"
                        ],
                        [
                          0.8888888888888888,
                          "#fdca26"
                        ],
                        [
                          1,
                          "#f0f921"
                        ]
                      ],
                      "sequentialminus": [
                        [
                          0,
                          "#0d0887"
                        ],
                        [
                          0.1111111111111111,
                          "#46039f"
                        ],
                        [
                          0.2222222222222222,
                          "#7201a8"
                        ],
                        [
                          0.3333333333333333,
                          "#9c179e"
                        ],
                        [
                          0.4444444444444444,
                          "#bd3786"
                        ],
                        [
                          0.5555555555555556,
                          "#d8576b"
                        ],
                        [
                          0.6666666666666666,
                          "#ed7953"
                        ],
                        [
                          0.7777777777777778,
                          "#fb9f3a"
                        ],
                        [
                          0.8888888888888888,
                          "#fdca26"
                        ],
                        [
                          1,
                          "#f0f921"
                        ]
                      ]
                    },
                    "colorway": [
                      "#636efa",
                      "#EF553B",
                      "#00cc96",
                      "#ab63fa",
                      "#FFA15A",
                      "#19d3f3",
                      "#FF6692",
                      "#B6E880",
                      "#FF97FF",
                      "#FECB52"
                    ],
                    "font": {
                      "color": "#f2f5fa"
                    },
                    "geo": {
                      "bgcolor": "rgb(17,17,17)",
                      "lakecolor": "rgb(17,17,17)",
                      "landcolor": "rgb(17,17,17)",
                      "showlakes": true,
                      "showland": true,
                      "subunitcolor": "#506784"
                    },
                    "hoverlabel": {
                      "align": "left"
                    },
                    "hovermode": "closest",
                    "mapbox": {
                      "style": "dark"
                    },
                    "paper_bgcolor": "rgb(17,17,17)",
                    "plot_bgcolor": "rgb(17,17,17)",
                    "polar": {
                      "angularaxis": {
                        "gridcolor": "#506784",
                        "linecolor": "#506784",
                        "ticks": ""
                      },
                      "bgcolor": "rgb(17,17,17)",
                      "radialaxis": {
                        "gridcolor": "#506784",
                        "linecolor": "#506784",
                        "ticks": ""
                      }
                    },
                    "scene": {
                      "xaxis": {
                        "backgroundcolor": "rgb(17,17,17)",
                        "gridcolor": "#506784",
                        "gridwidth": 2,
                        "linecolor": "#506784",
                        "showbackground": true,
                        "ticks": "",
                        "zerolinecolor": "#C8D4E3"
                      },
                      "yaxis": {
                        "backgroundcolor": "rgb(17,17,17)",
                        "gridcolor": "#506784",
                        "gridwidth": 2,
                        "linecolor": "#506784",
                        "showbackground": true,
                        "ticks": "",
                        "zerolinecolor": "#C8D4E3"
                      },
                      "zaxis": {
                        "backgroundcolor": "rgb(17,17,17)",
                        "gridcolor": "#506784",
                        "gridwidth": 2,
                        "linecolor": "#506784",
                        "showbackground": true,
                        "ticks": "",
                        "zerolinecolor": "#C8D4E3"
                      }
                    },
                    "shapedefaults": {
                      "line": {
                        "color": "#f2f5fa"
                      }
                    },
                    "sliderdefaults": {
                      "bgcolor": "#C8D4E3",
                      "bordercolor": "rgb(17,17,17)",
                      "borderwidth": 1,
                      "tickwidth": 0
                    },
                    "ternary": {
                      "aaxis": {
                        "gridcolor": "#506784",
                        "linecolor": "#506784",
                        "ticks": ""
                      },
                      "baxis": {
                        "gridcolor": "#506784",
                        "linecolor": "#506784",
                        "ticks": ""
                      },
                      "bgcolor": "rgb(17,17,17)",
                      "caxis": {
                        "gridcolor": "#506784",
                        "linecolor": "#506784",
                        "ticks": ""
                      }
                    },
                    "title": {
                      "x": 0.05
                    },
                    "updatemenudefaults": {
                      "bgcolor": "#506784",
                      "borderwidth": 0
                    },
                    "xaxis": {
                      "automargin": true,
                      "gridcolor": "#283442",
                      "linecolor": "#506784",
                      "ticks": "",
                      "title": {
                        "standoff": 15
                      },
                      "zerolinecolor": "#283442",
                      "zerolinewidth": 2
                    },
                    "yaxis": {
                      "automargin": true,
                      "gridcolor": "#283442",
                      "linecolor": "#506784",
                      "ticks": "",
                      "title": {
                        "standoff": 15
                      },
                      "zerolinecolor": "#283442",
                      "zerolinewidth": 2
                    }
                  }
                },
                "title": {
                  "text": "Overall Time of Winners Over Editions"
                },
                "xaxis": {
                  "anchor": "y",
                  "domain": [
                    0,
                    1
                  ],
                  "title": {
                    "text": "Edition"
                  }
                },
                "yaxis": {
                  "anchor": "x",
                  "domain": [
                    0,
                    1
                  ],
                  "title": {
                    "text": "Time Overall (hours)"
                  }
                }
              }
            }
          },
          "metadata": {},
          "output_type": "display_data"
        }
      ],
      "source": [
        "import plotly.express as px\n",
        "\n",
        "fig = px.line(winner, x='edition', y='time_overall', title='Overall Time of Winners Over the Years',\n",
        "              labels={'edition': 'Edition', 'time_overall': 'Time Overall (hours)'})\n",
        "\n",
        "# Customize the plot if needed\n",
        "fig.update_traces(mode='markers+lines')\n",
        "fig.update_layout(\n",
        "    title='Overall Time of Winners Over Editions',\n",
        "    xaxis_title='Edition',\n",
        "    yaxis_title='Time Overall (hours)',\n",
        "    template='plotly_dark'\n",
        ")\n",
        "\n",
        "fig.show()\n"
      ]
    },
    {
      "cell_type": "markdown",
      "metadata": {
        "id": "xSB4zXITcFBY"
      },
      "source": [
        "Factors affecting the overall time"
      ]
    },
    {
      "cell_type": "code",
      "execution_count": null,
      "metadata": {
        "id": "ph3zARlhcFBZ",
        "outputId": "ef91fc54-a2f0-4c49-cc01-c768a4244e16"
      },
      "outputs": [
        {
          "data": {
            "image/png": "[encoded data removed]",
            "text/plain": [
              "<Figure size 1000x800 with 2 Axes>"
            ]
          },
          "metadata": {},
          "output_type": "display_data"
        }
      ],
      "source": [
        "import pandas as pd\n",
        "import seaborn as sns\n",
        "import matplotlib.pyplot as plt\n",
        "\n",
        "# Select numeric columns for correlation analysis (excluding non-numeric columns like names or teams)\n",
        "numeric_columns = ['time_overall', 'age', 'weight', 'height', 'stage_wins', 'stages_led', 'distance']\n",
        "\n",
        "# Calculate the correlation matrix for these numeric columns\n",
        "correlation_matrix = winner[numeric_columns].corr()\n",
        "\n",
        "# Plot the heatmap using seaborn\n",
        "plt.figure(figsize=(10, 8))\n",
        "sns.heatmap(correlation_matrix, annot=True, cmap='coolwarm', fmt='.2f', linewidths=0.5)\n",
        "\n",
        "# Set title and labels\n",
        "plt.title('Correlation Heatmap of Time Overall and Other Factors')\n",
        "plt.show()\n"
      ]
    },
    {
      "cell_type": "markdown",
      "metadata": {
        "id": "N1QM-i34cFBZ"
      },
      "source": [
        "From the above, it is evident that there is a great correlation between the overall time spent and distance"
      ]
    },
    {
      "cell_type": "code",
      "execution_count": null,
      "metadata": {
        "id": "YoMyvlugcFBZ",
        "outputId": "95622323-6e81-4afe-e19a-d73dd523ea54"
      },
      "outputs": [
        {
          "name": "stdout",
          "output_type": "stream",
          "text": [
            "Average Distance: 4212.064150943396\n"
          ]
        }
      ],
      "source": [
        "average_distance = winner['distance'].mean()\n",
        "print(\"Average Distance:\", average_distance)"
      ]
    },
    {
      "cell_type": "code",
      "execution_count": null,
      "metadata": {
        "id": "a34y8qSicFBa",
        "outputId": "546915d3-d176-4529-c903-7bc67a31e90f"
      },
      "outputs": [
        {
          "name": "stdout",
          "output_type": "stream",
          "text": [
            "    edition  distance\n",
            "3         4    4637.0\n",
            "4         5    4488.0\n",
            "5         6    4497.0\n",
            "6         7    4498.0\n",
            "7         8    4734.0\n",
            "8         9    5343.0\n",
            "9        10    5289.0\n",
            "10       11    5287.0\n",
            "11       12    5380.0\n",
            "12       13    5560.0\n",
            "13       14    5503.0\n",
            "14       15    5485.0\n",
            "15       16    5375.0\n",
            "16       17    5386.0\n",
            "17       18    5425.0\n",
            "18       19    5440.0\n",
            "19       20    5745.0\n",
            "20       21    5398.0\n",
            "21       22    5476.0\n",
            "22       23    5286.0\n",
            "23       24    4822.0\n",
            "24       25    5091.0\n",
            "25       26    4479.0\n",
            "26       27    4395.0\n",
            "27       28    4470.0\n",
            "28       29    4338.0\n",
            "29       30    4442.0\n",
            "30       31    4415.0\n",
            "31       32    4694.0\n",
            "32       33    4224.0\n",
            "33       34    4642.0\n",
            "34       35    4922.0\n",
            "35       36    4808.0\n",
            "36       37    4773.0\n",
            "37       38    4690.0\n",
            "38       39    4898.0\n",
            "39       40    4476.0\n",
            "40       41    4656.0\n",
            "41       42    4495.0\n",
            "42       43    4498.0\n",
            "43       44    4669.0\n",
            "44       45    4319.0\n",
            "45       46    4358.0\n",
            "47       48    4397.0\n",
            "48       49    4274.0\n",
            "50       51    4504.0\n",
            "52       53    4329.0\n",
            "53       54    4779.0\n",
            "54       55    4492.0\n",
            "56       57    4254.0\n",
            "73       74    4231.0\n"
          ]
        }
      ],
      "source": [
        "# Filter editions with distance greater than the average\n",
        "editions_above_average = winner[winner['distance'] > average_distance]\n",
        "\n",
        "print(editions_above_average[['edition', 'distance']])\n"
      ]
    },
    {
      "cell_type": "code",
      "execution_count": null,
      "metadata": {
        "id": "mWV_QfvLcFBa",
        "outputId": "5082af60-cd16-4fdb-c41c-4f029b19af2c"
      },
      "outputs": [
        {
          "name": "stdout",
          "output_type": "stream",
          "text": [
            "  edition_bin  average_time_overall  average_distance\n",
            "0        1-10            115.026806       4783.714286\n",
            "1       11-20            220.855611       5458.600000\n",
            "2       21-30            166.058611       4819.700000\n",
            "3       31-40            143.386250       4654.200000\n",
            "4       41-50            125.959931       4458.250000\n",
            "5       51-60            126.998111       4471.600000\n"
          ]
        },
        {
          "name": "stderr",
          "output_type": "stream",
          "text": [
            "C:\\Users\\HP\\AppData\\Local\\Temp\\ipykernel_9668\\2630535263.py:6: SettingWithCopyWarning:\n",
            "\n",
            "\n",
            "A value is trying to be set on a copy of a slice from a DataFrame.\n",
            "Try using .loc[row_indexer,col_indexer] = value instead\n",
            "\n",
            "See the caveats in the documentation: https://pandas.pydata.org/pandas-docs/stable/user_guide/indexing.html#returning-a-view-versus-a-copy\n",
            "\n",
            "C:\\Users\\HP\\AppData\\Local\\Temp\\ipykernel_9668\\2630535263.py:9: FutureWarning:\n",
            "\n",
            "The default of observed=False is deprecated and will be changed to True in a future version of pandas. Pass observed=False to retain current behavior or observed=True to adopt the future default and silence this warning.\n",
            "\n"
          ]
        }
      ],
      "source": [
        "# Create bins for editions (grouping by tens)\n",
        "bins = [0, 10, 20, 30, 40, 50, 60]\n",
        "labels = ['1-10', '11-20', '21-30', '31-40', '41-50', '51-60']\n",
        "\n",
        "# Add a new column to categorize editions into bins (using .loc to avoid SettingWithCopyWarning)\n",
        "editions_above_average.loc[:, 'edition_bin'] = pd.cut(editions_above_average['edition'], bins=bins, labels=labels)\n",
        "\n",
        "# Group by the edition bin and calculate the average time_overall and average distance for each bin\n",
        "average_metrics_per_bin = editions_above_average.groupby('edition_bin').agg(\n",
        "    average_time_overall=('time_overall', 'mean'),\n",
        "    average_distance=('distance', 'mean')\n",
        ").reset_index()\n",
        "\n",
        "# Display the results\n",
        "print(average_metrics_per_bin)\n"
      ]
    },
    {
      "cell_type": "code",
      "execution_count": null,
      "metadata": {
        "id": "dtYaEZqScFBa",
        "outputId": "1375e228-e49a-4208-e765-45647505770e"
      },
      "outputs": [
        {
          "data": {
            "application/vnd.plotly.v1+json": {
              "config": {
                "plotlyServerURL": "https://plot.ly"
              },
              "data": [
                {
                  "hovertemplate": "Distance (km)=%{x}<br>Overall Time (hours)=%{y}<br>Edition=%{marker.color}<extra></extra>",
                  "legendgroup": "",
                  "marker": {
                    "color": [
                      1,
                      2,
                      3,
                      4,
                      5,
                      6,
                      7,
                      8,
                      9,
                      10,
                      11,
                      12,
                      13,
                      14,
                      15,
                      16,
                      17,
                      18,
                      19,
                      20,
                      21,
                      22,
                      23,
                      24,
                      25,
                      26,
                      27,
                      28,
                      29,
                      30,
                      31,
                      32,
                      33,
                      34,
                      35,
                      36,
                      37,
                      38,
                      39,
                      40,
                      41,
                      42,
                      43,
                      44,
                      45,
                      46,
                      47,
                      48,
                      49,
                      50,
                      51,
                      52,
                      53,
                      54,
                      55,
                      56,
                      57,
                      58,
                      59,
                      60,
                      61,
                      62,
                      63,
                      64,
                      65,
                      66,
                      67,
                      68,
                      69,
                      70,
                      71,
                      72,
                      73,
                      74,
                      75,
                      76,
                      77,
                      78,
                      79,
                      80,
                      81,
                      82,
                      83,
                      84,
                      85,
                      86,
                      87,
                      88,
                      89,
                      90,
                      91,
                      92,
                      93,
                      94,
                      95,
                      96,
                      97,
                      98,
                      99,
                      100,
                      101,
                      102,
                      103,
                      104,
                      105,
                      106
                    ],
                    "coloraxis": "coloraxis",
                    "line": {
                      "color": "DarkSlateGrey",
                      "width": 1
                    },
                    "opacity": 0.7,
                    "size": 10,
                    "symbol": "circle"
                  },
                  "mode": "markers",
                  "name": "",
                  "orientation": "v",
                  "showlegend": false,
                  "type": "scatter",
                  "x": [
                    2428,
                    2428,
                    2994,
                    4637,
                    4488,
                    4497,
                    4498,
                    4734,
                    5343,
                    5289,
                    5287,
                    5380,
                    5560,
                    5503,
                    5485,
                    5375,
                    5386,
                    5425,
                    5440,
                    5745,
                    5398,
                    5476,
                    5286,
                    4822,
                    5091,
                    4479,
                    4395,
                    4470,
                    4338,
                    4442,
                    4415,
                    4694,
                    4224,
                    4642,
                    4922,
                    4808,
                    4773,
                    4690,
                    4898,
                    4476,
                    4656,
                    4495,
                    4498,
                    4669,
                    4319,
                    4358,
                    4173,
                    4397,
                    4274,
                    4138,
                    4504,
                    4188,
                    4329,
                    4779,
                    4492,
                    4117,
                    4254,
                    3608,
                    3846,
                    4090,
                    4098,
                    4000,
                    4017,
                    4096,
                    3908,
                    3765,
                    3842,
                    3753,
                    3507,
                    3809,
                    4021,
                    4109,
                    4094,
                    4231,
                    3286,
                    3285,
                    3504,
                    3914,
                    3983,
                    3714,
                    3978,
                    3635,
                    3765,
                    3950,
                    3875,
                    3687,
                    3662,
                    3458,
                    3272,
                    3427,
                    3391,
                    3593,
                    3657,
                    3570,
                    3559,
                    3459,
                    3642,
                    3430,
                    3496,
                    3404,
                    3660.5,
                    3360.3,
                    3529,
                    3540,
                    3349,
                    3349
                  ],
                  "xaxis": "x",
                  "y": [
                    94.55388888888888,
                    96.09861111111113,
                    115.02680555555555,
                    115.02680555555555,
                    115.02680555555555,
                    115.02680555555555,
                    115.02680555555555,
                    115.02680555555555,
                    115.02680555555555,
                    115.02680555555555,
                    197.9,
                    200.48,
                    231.1208333333333,
                    228.6036111111111,
                    221.8405555555556,
                    222.135,
                    222.25833333333333,
                    226.3058333333333,
                    219.17166666666665,
                    238.74027777777775,
                    198.2783333333333,
                    192.81611111111116,
                    186.65416666666667,
                    172.20444444444442,
                    177.1675,
                    154.19694444444443,
                    147.86027777777778,
                    147.23277777777778,
                    141.38333333333333,
                    142.79222222222222,
                    138.9752777777778,
                    148.48666666666665,
                    132.05472222222224,
                    148.1902777777778,
                    147.17666666666665,
                    149.68027777777775,
                    145.61555555555557,
                    142.33722222222224,
                    151.95555555555555,
                    129.39027777777778,
                    140.1013888888889,
                    130.49055555555557,
                    124.02111111111113,
                    135.74499999999998,
                    116.98472222222222,
                    123.77916666666668,
                    112.145,
                    122.02583333333334,
                    114.53166666666668,
                    113.50138888888888,
                    127.16222222222224,
                    116.70166666666668,
                    117.5725,
                    136.8972222222222,
                    133.82833333333332,
                    116.26722222222222,
                    119.53027777777778,
                    96.7538888888889,
                    108.28833333333333,
                    122.42611111111113,
                    116.28277777777778,
                    114.59194444444444,
                    116.37305555555557,
                    115.64166666666668,
                    108.3,
                    103.11388888888888,
                    109.32055555555556,
                    96.32722222222222,
                    92.14611111111113,
                    105.13111111111112,
                    112.0611111111111,
                    113.4063888888889,
                    110.5886111111111,
                    115.46166666666667,
                    84.46472222222222,
                    87.64305555555556,
                    90.72222222222224,
                    101.02222222222224,
                    100.825,
                    95.9525,
                    103.6438888888889,
                    92.74972222222222,
                    95.95444444444443,
                    100.50972222222222,
                    92.82944444444443,
                    91.53777777777778,
                    92.5522222222222,
                    86.2911111111111,
                    82.08666666666666,
                    83.68666666666667,
                    83.60055555555554,
                    86.25055555555555,
                    89.67416666666666,
                    91.00722222222224,
                    87.88111111111111,
                    85.80972222222222,
                    91.99083333333331,
                    86.20611111111111,
                    87.57972222222222,
                    83.9388888888889,
                    89.985,
                    84.77055555555556,
                    89.08,
                    86.34861111111111,
                    83.28694444444444,
                    82.95
                  ],
                  "yaxis": "y"
                }
              ],
              "layout": {
                "coloraxis": {
                  "colorbar": {
                    "title": {
                      "text": "Edition"
                    }
                  },
                  "colorscale": [
                    [
                      0,
                      "#440154"
                    ],
                    [
                      0.1111111111111111,
                      "#482878"
                    ],
                    [
                      0.2222222222222222,
                      "#3e4989"
                    ],
                    [
                      0.3333333333333333,
                      "#31688e"
                    ],
                    [
                      0.4444444444444444,
                      "#26828e"
                    ],
                    [
                      0.5555555555555556,
                      "#1f9e89"
                    ],
                    [
                      0.6666666666666666,
                      "#35b779"
                    ],
                    [
                      0.7777777777777778,
                      "#6ece58"
                    ],
                    [
                      0.8888888888888888,
                      "#b5de2b"
                    ],
                    [
                      1,
                      "#fde725"
                    ]
                  ]
                },
                "height": 600,
                "legend": {
                  "tracegroupgap": 0
                },
                "template": {
                  "data": {
                    "bar": [
                      {
                        "error_x": {
                          "color": "#2a3f5f"
                        },
                        "error_y": {
                          "color": "#2a3f5f"
                        },
                        "marker": {
                          "line": {
                            "color": "#E5ECF6",
                            "width": 0.5
                          },
                          "pattern": {
                            "fillmode": "overlay",
                            "size": 10,
                            "solidity": 0.2
                          }
                        },
                        "type": "bar"
                      }
                    ],
                    "barpolar": [
                      {
                        "marker": {
                          "line": {
                            "color": "#E5ECF6",
                            "width": 0.5
                          },
                          "pattern": {
                            "fillmode": "overlay",
                            "size": 10,
                            "solidity": 0.2
                          }
                        },
                        "type": "barpolar"
                      }
                    ],
                    "carpet": [
                      {
                        "aaxis": {
                          "endlinecolor": "#2a3f5f",
                          "gridcolor": "white",
                          "linecolor": "white",
                          "minorgridcolor": "white",
                          "startlinecolor": "#2a3f5f"
                        },
                        "baxis": {
                          "endlinecolor": "#2a3f5f",
                          "gridcolor": "white",
                          "linecolor": "white",
                          "minorgridcolor": "white",
                          "startlinecolor": "#2a3f5f"
                        },
                        "type": "carpet"
                      }
                    ],
                    "choropleth": [
                      {
                        "colorbar": {
                          "outlinewidth": 0,
                          "ticks": ""
                        },
                        "type": "choropleth"
                      }
                    ],
                    "contour": [
                      {
                        "colorbar": {
                          "outlinewidth": 0,
                          "ticks": ""
                        },
                        "colorscale": [
                          [
                            0,
                            "#0d0887"
                          ],
                          [
                            0.1111111111111111,
                            "#46039f"
                          ],
                          [
                            0.2222222222222222,
                            "#7201a8"
                          ],
                          [
                            0.3333333333333333,
                            "#9c179e"
                          ],
                          [
                            0.4444444444444444,
                            "#bd3786"
                          ],
                          [
                            0.5555555555555556,
                            "#d8576b"
                          ],
                          [
                            0.6666666666666666,
                            "#ed7953"
                          ],
                          [
                            0.7777777777777778,
                            "#fb9f3a"
                          ],
                          [
                            0.8888888888888888,
                            "#fdca26"
                          ],
                          [
                            1,
                            "#f0f921"
                          ]
                        ],
                        "type": "contour"
                      }
                    ],
                    "contourcarpet": [
                      {
                        "colorbar": {
                          "outlinewidth": 0,
                          "ticks": ""
                        },
                        "type": "contourcarpet"
                      }
                    ],
                    "heatmap": [
                      {
                        "colorbar": {
                          "outlinewidth": 0,
                          "ticks": ""
                        },
                        "colorscale": [
                          [
                            0,
                            "#0d0887"
                          ],
                          [
                            0.1111111111111111,
                            "#46039f"
                          ],
                          [
                            0.2222222222222222,
                            "#7201a8"
                          ],
                          [
                            0.3333333333333333,
                            "#9c179e"
                          ],
                          [
                            0.4444444444444444,
                            "#bd3786"
                          ],
                          [
                            0.5555555555555556,
                            "#d8576b"
                          ],
                          [
                            0.6666666666666666,
                            "#ed7953"
                          ],
                          [
                            0.7777777777777778,
                            "#fb9f3a"
                          ],
                          [
                            0.8888888888888888,
                            "#fdca26"
                          ],
                          [
                            1,
                            "#f0f921"
                          ]
                        ],
                        "type": "heatmap"
                      }
                    ],
                    "heatmapgl": [
                      {
                        "colorbar": {
                          "outlinewidth": 0,
                          "ticks": ""
                        },
                        "colorscale": [
                          [
                            0,
                            "#0d0887"
                          ],
                          [
                            0.1111111111111111,
                            "#46039f"
                          ],
                          [
                            0.2222222222222222,
                            "#7201a8"
                          ],
                          [
                            0.3333333333333333,
                            "#9c179e"
                          ],
                          [
                            0.4444444444444444,
                            "#bd3786"
                          ],
                          [
                            0.5555555555555556,
                            "#d8576b"
                          ],
                          [
                            0.6666666666666666,
                            "#ed7953"
                          ],
                          [
                            0.7777777777777778,
                            "#fb9f3a"
                          ],
                          [
                            0.8888888888888888,
                            "#fdca26"
                          ],
                          [
                            1,
                            "#f0f921"
                          ]
                        ],
                        "type": "heatmapgl"
                      }
                    ],
                    "histogram": [
                      {
                        "marker": {
                          "pattern": {
                            "fillmode": "overlay",
                            "size": 10,
                            "solidity": 0.2
                          }
                        },
                        "type": "histogram"
                      }
                    ],
                    "histogram2d": [
                      {
                        "colorbar": {
                          "outlinewidth": 0,
                          "ticks": ""
                        },
                        "colorscale": [
                          [
                            0,
                            "#0d0887"
                          ],
                          [
                            0.1111111111111111,
                            "#46039f"
                          ],
                          [
                            0.2222222222222222,
                            "#7201a8"
                          ],
                          [
                            0.3333333333333333,
                            "#9c179e"
                          ],
                          [
                            0.4444444444444444,
                            "#bd3786"
                          ],
                          [
                            0.5555555555555556,
                            "#d8576b"
                          ],
                          [
                            0.6666666666666666,
                            "#ed7953"
                          ],
                          [
                            0.7777777777777778,
                            "#fb9f3a"
                          ],
                          [
                            0.8888888888888888,
                            "#fdca26"
                          ],
                          [
                            1,
                            "#f0f921"
                          ]
                        ],
                        "type": "histogram2d"
                      }
                    ],
                    "histogram2dcontour": [
                      {
                        "colorbar": {
                          "outlinewidth": 0,
                          "ticks": ""
                        },
                        "colorscale": [
                          [
                            0,
                            "#0d0887"
                          ],
                          [
                            0.1111111111111111,
                            "#46039f"
                          ],
                          [
                            0.2222222222222222,
                            "#7201a8"
                          ],
                          [
                            0.3333333333333333,
                            "#9c179e"
                          ],
                          [
                            0.4444444444444444,
                            "#bd3786"
                          ],
                          [
                            0.5555555555555556,
                            "#d8576b"
                          ],
                          [
                            0.6666666666666666,
                            "#ed7953"
                          ],
                          [
                            0.7777777777777778,
                            "#fb9f3a"
                          ],
                          [
                            0.8888888888888888,
                            "#fdca26"
                          ],
                          [
                            1,
                            "#f0f921"
                          ]
                        ],
                        "type": "histogram2dcontour"
                      }
                    ],
                    "mesh3d": [
                      {
                        "colorbar": {
                          "outlinewidth": 0,
                          "ticks": ""
                        },
                        "type": "mesh3d"
                      }
                    ],
                    "parcoords": [
                      {
                        "line": {
                          "colorbar": {
                            "outlinewidth": 0,
                            "ticks": ""
                          }
                        },
                        "type": "parcoords"
                      }
                    ],
                    "pie": [
                      {
                        "automargin": true,
                        "type": "pie"
                      }
                    ],
                    "scatter": [
                      {
                        "fillpattern": {
                          "fillmode": "overlay",
                          "size": 10,
                          "solidity": 0.2
                        },
                        "type": "scatter"
                      }
                    ],
                    "scatter3d": [
                      {
                        "line": {
                          "colorbar": {
                            "outlinewidth": 0,
                            "ticks": ""
                          }
                        },
                        "marker": {
                          "colorbar": {
                            "outlinewidth": 0,
                            "ticks": ""
                          }
                        },
                        "type": "scatter3d"
                      }
                    ],
                    "scattercarpet": [
                      {
                        "marker": {
                          "colorbar": {
                            "outlinewidth": 0,
                            "ticks": ""
                          }
                        },
                        "type": "scattercarpet"
                      }
                    ],
                    "scattergeo": [
                      {
                        "marker": {
                          "colorbar": {
                            "outlinewidth": 0,
                            "ticks": ""
                          }
                        },
                        "type": "scattergeo"
                      }
                    ],
                    "scattergl": [
                      {
                        "marker": {
                          "colorbar": {
                            "outlinewidth": 0,
                            "ticks": ""
                          }
                        },
                        "type": "scattergl"
                      }
                    ],
                    "scattermapbox": [
                      {
                        "marker": {
                          "colorbar": {
                            "outlinewidth": 0,
                            "ticks": ""
                          }
                        },
                        "type": "scattermapbox"
                      }
                    ],
                    "scatterpolar": [
                      {
                        "marker": {
                          "colorbar": {
                            "outlinewidth": 0,
                            "ticks": ""
                          }
                        },
                        "type": "scatterpolar"
                      }
                    ],
                    "scatterpolargl": [
                      {
                        "marker": {
                          "colorbar": {
                            "outlinewidth": 0,
                            "ticks": ""
                          }
                        },
                        "type": "scatterpolargl"
                      }
                    ],
                    "scatterternary": [
                      {
                        "marker": {
                          "colorbar": {
                            "outlinewidth": 0,
                            "ticks": ""
                          }
                        },
                        "type": "scatterternary"
                      }
                    ],
                    "surface": [
                      {
                        "colorbar": {
                          "outlinewidth": 0,
                          "ticks": ""
                        },
                        "colorscale": [
                          [
                            0,
                            "#0d0887"
                          ],
                          [
                            0.1111111111111111,
                            "#46039f"
                          ],
                          [
                            0.2222222222222222,
                            "#7201a8"
                          ],
                          [
                            0.3333333333333333,
                            "#9c179e"
                          ],
                          [
                            0.4444444444444444,
                            "#bd3786"
                          ],
                          [
                            0.5555555555555556,
                            "#d8576b"
                          ],
                          [
                            0.6666666666666666,
                            "#ed7953"
                          ],
                          [
                            0.7777777777777778,
                            "#fb9f3a"
                          ],
                          [
                            0.8888888888888888,
                            "#fdca26"
                          ],
                          [
                            1,
                            "#f0f921"
                          ]
                        ],
                        "type": "surface"
                      }
                    ],
                    "table": [
                      {
                        "cells": {
                          "fill": {
                            "color": "#EBF0F8"
                          },
                          "line": {
                            "color": "white"
                          }
                        },
                        "header": {
                          "fill": {
                            "color": "#C8D4E3"
                          },
                          "line": {
                            "color": "white"
                          }
                        },
                        "type": "table"
                      }
                    ]
                  },
                  "layout": {
                    "annotationdefaults": {
                      "arrowcolor": "#2a3f5f",
                      "arrowhead": 0,
                      "arrowwidth": 1
                    },
                    "autotypenumbers": "strict",
                    "coloraxis": {
                      "colorbar": {
                        "outlinewidth": 0,
                        "ticks": ""
                      }
                    },
                    "colorscale": {
                      "diverging": [
                        [
                          0,
                          "#8e0152"
                        ],
                        [
                          0.1,
                          "#c51b7d"
                        ],
                        [
                          0.2,
                          "#de77ae"
                        ],
                        [
                          0.3,
                          "#f1b6da"
                        ],
                        [
                          0.4,
                          "#fde0ef"
                        ],
                        [
                          0.5,
                          "#f7f7f7"
                        ],
                        [
                          0.6,
                          "#e6f5d0"
                        ],
                        [
                          0.7,
                          "#b8e186"
                        ],
                        [
                          0.8,
                          "#7fbc41"
                        ],
                        [
                          0.9,
                          "#4d9221"
                        ],
                        [
                          1,
                          "#276419"
                        ]
                      ],
                      "sequential": [
                        [
                          0,
                          "#0d0887"
                        ],
                        [
                          0.1111111111111111,
                          "#46039f"
                        ],
                        [
                          0.2222222222222222,
                          "#7201a8"
                        ],
                        [
                          0.3333333333333333,
                          "#9c179e"
                        ],
                        [
                          0.4444444444444444,
                          "#bd3786"
                        ],
                        [
                          0.5555555555555556,
                          "#d8576b"
                        ],
                        [
                          0.6666666666666666,
                          "#ed7953"
                        ],
                        [
                          0.7777777777777778,
                          "#fb9f3a"
                        ],
                        [
                          0.8888888888888888,
                          "#fdca26"
                        ],
                        [
                          1,
                          "#f0f921"
                        ]
                      ],
                      "sequentialminus": [
                        [
                          0,
                          "#0d0887"
                        ],
                        [
                          0.1111111111111111,
                          "#46039f"
                        ],
                        [
                          0.2222222222222222,
                          "#7201a8"
                        ],
                        [
                          0.3333333333333333,
                          "#9c179e"
                        ],
                        [
                          0.4444444444444444,
                          "#bd3786"
                        ],
                        [
                          0.5555555555555556,
                          "#d8576b"
                        ],
                        [
                          0.6666666666666666,
                          "#ed7953"
                        ],
                        [
                          0.7777777777777778,
                          "#fb9f3a"
                        ],
                        [
                          0.8888888888888888,
                          "#fdca26"
                        ],
                        [
                          1,
                          "#f0f921"
                        ]
                      ]
                    },
                    "colorway": [
                      "#636efa",
                      "#EF553B",
                      "#00cc96",
                      "#ab63fa",
                      "#FFA15A",
                      "#19d3f3",
                      "#FF6692",
                      "#B6E880",
                      "#FF97FF",
                      "#FECB52"
                    ],
                    "font": {
                      "color": "#2a3f5f"
                    },
                    "geo": {
                      "bgcolor": "white",
                      "lakecolor": "white",
                      "landcolor": "#E5ECF6",
                      "showlakes": true,
                      "showland": true,
                      "subunitcolor": "white"
                    },
                    "hoverlabel": {
                      "align": "left"
                    },
                    "hovermode": "closest",
                    "mapbox": {
                      "style": "light"
                    },
                    "paper_bgcolor": "white",
                    "plot_bgcolor": "#E5ECF6",
                    "polar": {
                      "angularaxis": {
                        "gridcolor": "white",
                        "linecolor": "white",
                        "ticks": ""
                      },
                      "bgcolor": "#E5ECF6",
                      "radialaxis": {
                        "gridcolor": "white",
                        "linecolor": "white",
                        "ticks": ""
                      }
                    },
                    "scene": {
                      "xaxis": {
                        "backgroundcolor": "#E5ECF6",
                        "gridcolor": "white",
                        "gridwidth": 2,
                        "linecolor": "white",
                        "showbackground": true,
                        "ticks": "",
                        "zerolinecolor": "white"
                      },
                      "yaxis": {
                        "backgroundcolor": "#E5ECF6",
                        "gridcolor": "white",
                        "gridwidth": 2,
                        "linecolor": "white",
                        "showbackground": true,
                        "ticks": "",
                        "zerolinecolor": "white"
                      },
                      "zaxis": {
                        "backgroundcolor": "#E5ECF6",
                        "gridcolor": "white",
                        "gridwidth": 2,
                        "linecolor": "white",
                        "showbackground": true,
                        "ticks": "",
                        "zerolinecolor": "white"
                      }
                    },
                    "shapedefaults": {
                      "line": {
                        "color": "#2a3f5f"
                      }
                    },
                    "ternary": {
                      "aaxis": {
                        "gridcolor": "white",
                        "linecolor": "white",
                        "ticks": ""
                      },
                      "baxis": {
                        "gridcolor": "white",
                        "linecolor": "white",
                        "ticks": ""
                      },
                      "bgcolor": "#E5ECF6",
                      "caxis": {
                        "gridcolor": "white",
                        "linecolor": "white",
                        "ticks": ""
                      }
                    },
                    "title": {
                      "x": 0.05
                    },
                    "xaxis": {
                      "automargin": true,
                      "gridcolor": "white",
                      "linecolor": "white",
                      "ticks": "",
                      "title": {
                        "standoff": 15
                      },
                      "zerolinecolor": "white",
                      "zerolinewidth": 2
                    },
                    "yaxis": {
                      "automargin": true,
                      "gridcolor": "white",
                      "linecolor": "white",
                      "ticks": "",
                      "title": {
                        "standoff": 15
                      },
                      "zerolinecolor": "white",
                      "zerolinewidth": 2
                    }
                  }
                },
                "title": {
                  "text": "Effect of Distance on Overall Time for Each Edition"
                },
                "xaxis": {
                  "anchor": "y",
                  "domain": [
                    0,
                    1
                  ],
                  "title": {
                    "text": "Distance (km)"
                  }
                },
                "yaxis": {
                  "anchor": "x",
                  "domain": [
                    0,
                    1
                  ],
                  "title": {
                    "text": "Overall Time (hours)"
                  }
                }
              }
            }
          },
          "metadata": {},
          "output_type": "display_data"
        }
      ],
      "source": [
        "import pandas as pd\n",
        "import plotly.express as px\n",
        "\n",
        "# Create a scatter plot to show how distance affects time_overall for each edition\n",
        "fig = px.scatter(winner, x='distance', y='time_overall', color='edition',\n",
        "                 title='Effect of Distance on Overall Time for Each Edition',\n",
        "                 labels={'distance': 'Distance (km)', 'time_overall': 'Overall Time (hours)', 'edition': 'Edition'},\n",
        "                 color_continuous_scale='Viridis',  # Choose a color scale for different editions\n",
        "                 height=600)\n",
        "\n",
        "# Add a regression line to observe the trend\n",
        "fig.update_traces(marker=dict(size=10, opacity=0.7, line=dict(width=1, color='DarkSlateGrey')),\n",
        "                  selector=dict(mode='markers'))\n",
        "\n",
        "fig.show()\n"
      ]
    },
    {
      "cell_type": "markdown",
      "metadata": {
        "id": "c_NEzMpWcFBb"
      },
      "source": [
        "2.Bikes (how good were the bikes and how did they affect performance)"
      ]
    },
    {
      "cell_type": "markdown",
      "metadata": {
        "id": "e-Wbfce3cFBb"
      },
      "source": [
        "a.Weight"
      ]
    },
    {
      "cell_type": "markdown",
      "metadata": {
        "id": "43W5Jl_6cFBb"
      },
      "source": [
        "Lighter bikes often indicate technological improvements, as modern bikes are designed to be more aerodynamic and lightweight.\n",
        "                                Lighter bikes = better bikes\n",
        "The value weight is the sum of the cyclist's weight and that of the bike.\n",
        "So,are the cyclists getting better bikes? If so, is their performance getting better?\n"
      ]
    },
    {
      "cell_type": "code",
      "execution_count": null,
      "metadata": {
        "id": "lcN-dGmgcFBb",
        "outputId": "e31ba8b4-bfed-46ca-b4b5-256dfa57de8f"
      },
      "outputs": [
        {
          "data": {
            "application/vnd.plotly.v1+json": {
              "config": {
                "plotlyServerURL": "https://plot.ly"
              },
              "data": [
                {
                  "customdata": [
                    [
                      "Maurice Garin"
                    ],
                    [
                      "Jean Robic"
                    ],
                    [
                      "Luis Ocaña"
                    ],
                    [
                      "Lucien Van Impe"
                    ],
                    [
                      "Marco Pantani"
                    ],
                    [
                      "Carlos Sastre"
                    ],
                    [
                      "Egan Bernal"
                    ]
                  ],
                  "hovertemplate": "Weight Category=<60<br>Edition=%{x}<br>Overall Time (hours)=%{y}<br>winner_name=%{customdata[0]}<extra></extra>",
                  "legendgroup": "<60",
                  "marker": {
                    "color": "rgb(228,26,28)",
                    "symbol": "circle"
                  },
                  "mode": "markers",
                  "name": "<60",
                  "orientation": "v",
                  "showlegend": true,
                  "type": "scatter",
                  "x": [
                    1,
                    34,
                    60,
                    63,
                    85,
                    95,
                    106
                  ],
                  "xaxis": "x",
                  "y": [
                    94.55388888888888,
                    148.1902777777778,
                    122.42611111111113,
                    116.37305555555557,
                    92.82944444444443,
                    87.88111111111111,
                    82.95
                  ],
                  "yaxis": "y"
                },
                {
                  "customdata": [
                    [
                      "Henri Cornet"
                    ],
                    [
                      "Louis Trousselier"
                    ],
                    [
                      "René Pottier"
                    ],
                    [
                      "Lucien Petit-Breton"
                    ],
                    [
                      "Lucien Petit-Breton"
                    ],
                    [
                      "Octave Lapize"
                    ],
                    [
                      "Gustave Garrigou"
                    ],
                    [
                      "Odile Defraye"
                    ],
                    [
                      "Philippe Thys"
                    ],
                    [
                      "Philippe Thys"
                    ],
                    [
                      "Firmin Lambot"
                    ],
                    [
                      "Philippe Thys"
                    ],
                    [
                      "Léon Scieur"
                    ],
                    [
                      "Firmin Lambot"
                    ],
                    [
                      "Henri Pélissier"
                    ],
                    [
                      "Ottavio Bottecchia"
                    ],
                    [
                      "Ottavio Bottecchia"
                    ],
                    [
                      "Lucien Buysse"
                    ],
                    [
                      "Nicolas Frantz"
                    ],
                    [
                      "Nicolas Frantz"
                    ],
                    [
                      "Maurice De Waele"
                    ],
                    [
                      "André Leducq"
                    ],
                    [
                      "Antonin Magne"
                    ],
                    [
                      "André Leducq"
                    ],
                    [
                      "Georges Speicher"
                    ],
                    [
                      "Antonin Magne"
                    ],
                    [
                      "Romain Maes"
                    ],
                    [
                      "Sylvère Maes"
                    ],
                    [
                      "Roger Lapébie"
                    ],
                    [
                      "Gino Bartali"
                    ],
                    [
                      "Sylvère Maes"
                    ],
                    [
                      "Gino Bartali"
                    ],
                    [
                      "Fausto Coppi"
                    ],
                    [
                      "Ferdinand Kübler"
                    ],
                    [
                      "Hugo Koblet"
                    ],
                    [
                      "Fausto Coppi"
                    ],
                    [
                      "Roger Walkowiak"
                    ],
                    [
                      "Jacques Anquetil"
                    ],
                    [
                      "Charly Gaul"
                    ],
                    [
                      "Federico Bahamontes"
                    ],
                    [
                      "Gastone Nencini"
                    ],
                    [
                      "Jacques Anquetil"
                    ],
                    [
                      "Jacques Anquetil"
                    ],
                    [
                      "Jacques Anquetil"
                    ],
                    [
                      "Jacques Anquetil"
                    ],
                    [
                      "Lucien Aimar"
                    ],
                    [
                      "Jan Janssen"
                    ],
                    [
                      "Bernard Thévenet"
                    ],
                    [
                      "Bernard Thévenet"
                    ],
                    [
                      "Bernard Hinault"
                    ],
                    [
                      "Bernard Hinault"
                    ],
                    [
                      "Joop Zoetemelk"
                    ],
                    [
                      "Bernard Hinault"
                    ],
                    [
                      "Bernard Hinault"
                    ],
                    [
                      "Laurent Fignon"
                    ],
                    [
                      "Laurent Fignon"
                    ],
                    [
                      "Bernard Hinault"
                    ],
                    [
                      "Greg LeMond"
                    ],
                    [
                      "Pedro Delgado"
                    ],
                    [
                      "Greg LeMond"
                    ],
                    [
                      "Greg LeMond"
                    ],
                    [
                      "Óscar Pereiro"
                    ],
                    [
                      "Alberto Contador"
                    ],
                    [
                      "Alberto Contador"
                    ],
                    [
                      "Andy Schleck"
                    ],
                    [
                      "Cadel Evans"
                    ],
                    [
                      "Bradley Wiggins"
                    ],
                    [
                      "Chris Froome"
                    ],
                    [
                      "Vincenzo Nibali"
                    ],
                    [
                      "Chris Froome"
                    ],
                    [
                      "Chris Froome"
                    ],
                    [
                      "Chris Froome"
                    ]
                  ],
                  "hovertemplate": "Weight Category=60-70<br>Edition=%{x}<br>Overall Time (hours)=%{y}<br>winner_name=%{customdata[0]}<extra></extra>",
                  "legendgroup": "60-70",
                  "marker": {
                    "color": "rgb(55,126,184)",
                    "symbol": "circle"
                  },
                  "mode": "markers",
                  "name": "60-70",
                  "orientation": "v",
                  "showlegend": true,
                  "type": "scatter",
                  "x": [
                    2,
                    3,
                    4,
                    5,
                    6,
                    8,
                    9,
                    10,
                    11,
                    12,
                    13,
                    14,
                    15,
                    16,
                    17,
                    18,
                    19,
                    20,
                    21,
                    22,
                    23,
                    24,
                    25,
                    26,
                    27,
                    28,
                    29,
                    30,
                    31,
                    32,
                    33,
                    35,
                    36,
                    37,
                    38,
                    39,
                    43,
                    44,
                    45,
                    46,
                    47,
                    48,
                    49,
                    50,
                    51,
                    53,
                    55,
                    62,
                    64,
                    65,
                    66,
                    67,
                    68,
                    69,
                    70,
                    71,
                    72,
                    73,
                    75,
                    76,
                    77,
                    93,
                    94,
                    96,
                    97,
                    98,
                    99,
                    100,
                    101,
                    102,
                    103,
                    104
                  ],
                  "xaxis": "x",
                  "y": [
                    96.09861111111113,
                    115.02680555555555,
                    115.02680555555555,
                    115.02680555555555,
                    115.02680555555555,
                    115.02680555555555,
                    115.02680555555555,
                    115.02680555555555,
                    197.9,
                    200.48,
                    231.1208333333333,
                    228.6036111111111,
                    221.8405555555556,
                    222.135,
                    222.25833333333333,
                    226.3058333333333,
                    219.17166666666665,
                    238.74027777777775,
                    198.2783333333333,
                    192.81611111111116,
                    186.65416666666667,
                    172.20444444444442,
                    177.1675,
                    154.19694444444443,
                    147.86027777777778,
                    147.23277777777778,
                    141.38333333333333,
                    142.79222222222222,
                    138.9752777777778,
                    148.48666666666665,
                    132.05472222222224,
                    147.17666666666665,
                    149.68027777777775,
                    145.61555555555557,
                    142.33722222222224,
                    151.95555555555555,
                    124.02111111111113,
                    135.74499999999998,
                    116.98472222222222,
                    123.77916666666668,
                    112.145,
                    122.02583333333334,
                    114.53166666666668,
                    113.50138888888888,
                    127.16222222222224,
                    117.5725,
                    133.82833333333332,
                    114.59194444444444,
                    115.64166666666668,
                    108.3,
                    103.11388888888888,
                    109.32055555555556,
                    96.32722222222222,
                    92.14611111111113,
                    105.13111111111112,
                    112.0611111111111,
                    113.4063888888889,
                    110.5886111111111,
                    84.46472222222222,
                    87.64305555555556,
                    90.72222222222224,
                    89.67416666666666,
                    91.00722222222224,
                    85.80972222222222,
                    91.99083333333331,
                    86.20611111111111,
                    87.57972222222222,
                    83.9388888888889,
                    89.985,
                    84.77055555555556,
                    89.08,
                    86.34861111111111
                  ],
                  "yaxis": "y"
                },
                {
                  "customdata": [
                    [
                      "François Faber"
                    ]
                  ],
                  "hovertemplate": "Weight Category=80-90<br>Edition=%{x}<br>Overall Time (hours)=%{y}<br>winner_name=%{customdata[0]}<extra></extra>",
                  "legendgroup": "80-90",
                  "marker": {
                    "color": "rgb(77,175,74)",
                    "symbol": "circle"
                  },
                  "mode": "markers",
                  "name": "80-90",
                  "orientation": "v",
                  "showlegend": true,
                  "type": "scatter",
                  "x": [
                    7
                  ],
                  "xaxis": "x",
                  "y": [
                    115.02680555555555
                  ],
                  "yaxis": "y"
                },
                {
                  "customdata": [
                    [
                      "Louison Bobet"
                    ],
                    [
                      "Louison Bobet"
                    ],
                    [
                      "Louison Bobet"
                    ],
                    [
                      "Felice Gimondi"
                    ],
                    [
                      "Roger Pingeon"
                    ],
                    [
                      "Eddy Merckx"
                    ],
                    [
                      "Eddy Merckx"
                    ],
                    [
                      "Eddy Merckx"
                    ],
                    [
                      "Eddy Merckx"
                    ],
                    [
                      "Eddy Merckx"
                    ],
                    [
                      "Stephen Roche"
                    ],
                    [
                      "Miguel Induráin"
                    ],
                    [
                      "Miguel Induráin"
                    ],
                    [
                      "Miguel Induráin"
                    ],
                    [
                      "Miguel Induráin"
                    ],
                    [
                      "Miguel Induráin"
                    ],
                    [
                      "Bjarne Riis"
                    ],
                    [
                      "Jan Ullrich"
                    ],
                    [
                      "Lance Armstrong"
                    ],
                    [
                      "Lance Armstrong"
                    ],
                    [
                      "Lance Armstrong"
                    ],
                    [
                      "Lance Armstrong"
                    ],
                    [
                      "Lance Armstrong"
                    ],
                    [
                      "Lance Armstrong"
                    ],
                    [
                      "Lance Armstrong"
                    ],
                    [
                      "Geraint Thomas"
                    ]
                  ],
                  "hovertemplate": "Weight Category=70-80<br>Edition=%{x}<br>Overall Time (hours)=%{y}<br>winner_name=%{customdata[0]}<extra></extra>",
                  "legendgroup": "70-80",
                  "marker": {
                    "color": "rgb(152,78,163)",
                    "symbol": "circle"
                  },
                  "mode": "markers",
                  "name": "70-80",
                  "orientation": "v",
                  "showlegend": true,
                  "type": "scatter",
                  "x": [
                    40,
                    41,
                    42,
                    52,
                    54,
                    56,
                    57,
                    58,
                    59,
                    61,
                    74,
                    78,
                    79,
                    80,
                    81,
                    82,
                    83,
                    84,
                    86,
                    87,
                    88,
                    89,
                    90,
                    91,
                    92,
                    105
                  ],
                  "xaxis": "x",
                  "y": [
                    129.39027777777778,
                    140.1013888888889,
                    130.49055555555557,
                    116.70166666666668,
                    136.8972222222222,
                    116.26722222222222,
                    119.53027777777778,
                    96.7538888888889,
                    108.28833333333333,
                    116.28277777777778,
                    115.46166666666667,
                    101.02222222222224,
                    100.825,
                    95.9525,
                    103.6438888888889,
                    92.74972222222222,
                    95.95444444444443,
                    100.50972222222222,
                    91.53777777777778,
                    92.5522222222222,
                    86.2911111111111,
                    82.08666666666666,
                    83.68666666666667,
                    83.60055555555554,
                    86.25055555555555,
                    83.28694444444444
                  ],
                  "yaxis": "y"
                }
              ],
              "layout": {
                "legend": {
                  "title": {
                    "text": "Weight Category"
                  },
                  "tracegroupgap": 0
                },
                "template": {
                  "data": {
                    "bar": [
                      {
                        "error_x": {
                          "color": "#2a3f5f"
                        },
                        "error_y": {
                          "color": "#2a3f5f"
                        },
                        "marker": {
                          "line": {
                            "color": "#E5ECF6",
                            "width": 0.5
                          },
                          "pattern": {
                            "fillmode": "overlay",
                            "size": 10,
                            "solidity": 0.2
                          }
                        },
                        "type": "bar"
                      }
                    ],
                    "barpolar": [
                      {
                        "marker": {
                          "line": {
                            "color": "#E5ECF6",
                            "width": 0.5
                          },
                          "pattern": {
                            "fillmode": "overlay",
                            "size": 10,
                            "solidity": 0.2
                          }
                        },
                        "type": "barpolar"
                      }
                    ],
                    "carpet": [
                      {
                        "aaxis": {
                          "endlinecolor": "#2a3f5f",
                          "gridcolor": "white",
                          "linecolor": "white",
                          "minorgridcolor": "white",
                          "startlinecolor": "#2a3f5f"
                        },
                        "baxis": {
                          "endlinecolor": "#2a3f5f",
                          "gridcolor": "white",
                          "linecolor": "white",
                          "minorgridcolor": "white",
                          "startlinecolor": "#2a3f5f"
                        },
                        "type": "carpet"
                      }
                    ],
                    "choropleth": [
                      {
                        "colorbar": {
                          "outlinewidth": 0,
                          "ticks": ""
                        },
                        "type": "choropleth"
                      }
                    ],
                    "contour": [
                      {
                        "colorbar": {
                          "outlinewidth": 0,
                          "ticks": ""
                        },
                        "colorscale": [
                          [
                            0,
                            "#0d0887"
                          ],
                          [
                            0.1111111111111111,
                            "#46039f"
                          ],
                          [
                            0.2222222222222222,
                            "#7201a8"
                          ],
                          [
                            0.3333333333333333,
                            "#9c179e"
                          ],
                          [
                            0.4444444444444444,
                            "#bd3786"
                          ],
                          [
                            0.5555555555555556,
                            "#d8576b"
                          ],
                          [
                            0.6666666666666666,
                            "#ed7953"
                          ],
                          [
                            0.7777777777777778,
                            "#fb9f3a"
                          ],
                          [
                            0.8888888888888888,
                            "#fdca26"
                          ],
                          [
                            1,
                            "#f0f921"
                          ]
                        ],
                        "type": "contour"
                      }
                    ],
                    "contourcarpet": [
                      {
                        "colorbar": {
                          "outlinewidth": 0,
                          "ticks": ""
                        },
                        "type": "contourcarpet"
                      }
                    ],
                    "heatmap": [
                      {
                        "colorbar": {
                          "outlinewidth": 0,
                          "ticks": ""
                        },
                        "colorscale": [
                          [
                            0,
                            "#0d0887"
                          ],
                          [
                            0.1111111111111111,
                            "#46039f"
                          ],
                          [
                            0.2222222222222222,
                            "#7201a8"
                          ],
                          [
                            0.3333333333333333,
                            "#9c179e"
                          ],
                          [
                            0.4444444444444444,
                            "#bd3786"
                          ],
                          [
                            0.5555555555555556,
                            "#d8576b"
                          ],
                          [
                            0.6666666666666666,
                            "#ed7953"
                          ],
                          [
                            0.7777777777777778,
                            "#fb9f3a"
                          ],
                          [
                            0.8888888888888888,
                            "#fdca26"
                          ],
                          [
                            1,
                            "#f0f921"
                          ]
                        ],
                        "type": "heatmap"
                      }
                    ],
                    "heatmapgl": [
                      {
                        "colorbar": {
                          "outlinewidth": 0,
                          "ticks": ""
                        },
                        "colorscale": [
                          [
                            0,
                            "#0d0887"
                          ],
                          [
                            0.1111111111111111,
                            "#46039f"
                          ],
                          [
                            0.2222222222222222,
                            "#7201a8"
                          ],
                          [
                            0.3333333333333333,
                            "#9c179e"
                          ],
                          [
                            0.4444444444444444,
                            "#bd3786"
                          ],
                          [
                            0.5555555555555556,
                            "#d8576b"
                          ],
                          [
                            0.6666666666666666,
                            "#ed7953"
                          ],
                          [
                            0.7777777777777778,
                            "#fb9f3a"
                          ],
                          [
                            0.8888888888888888,
                            "#fdca26"
                          ],
                          [
                            1,
                            "#f0f921"
                          ]
                        ],
                        "type": "heatmapgl"
                      }
                    ],
                    "histogram": [
                      {
                        "marker": {
                          "pattern": {
                            "fillmode": "overlay",
                            "size": 10,
                            "solidity": 0.2
                          }
                        },
                        "type": "histogram"
                      }
                    ],
                    "histogram2d": [
                      {
                        "colorbar": {
                          "outlinewidth": 0,
                          "ticks": ""
                        },
                        "colorscale": [
                          [
                            0,
                            "#0d0887"
                          ],
                          [
                            0.1111111111111111,
                            "#46039f"
                          ],
                          [
                            0.2222222222222222,
                            "#7201a8"
                          ],
                          [
                            0.3333333333333333,
                            "#9c179e"
                          ],
                          [
                            0.4444444444444444,
                            "#bd3786"
                          ],
                          [
                            0.5555555555555556,
                            "#d8576b"
                          ],
                          [
                            0.6666666666666666,
                            "#ed7953"
                          ],
                          [
                            0.7777777777777778,
                            "#fb9f3a"
                          ],
                          [
                            0.8888888888888888,
                            "#fdca26"
                          ],
                          [
                            1,
                            "#f0f921"
                          ]
                        ],
                        "type": "histogram2d"
                      }
                    ],
                    "histogram2dcontour": [
                      {
                        "colorbar": {
                          "outlinewidth": 0,
                          "ticks": ""
                        },
                        "colorscale": [
                          [
                            0,
                            "#0d0887"
                          ],
                          [
                            0.1111111111111111,
                            "#46039f"
                          ],
                          [
                            0.2222222222222222,
                            "#7201a8"
                          ],
                          [
                            0.3333333333333333,
                            "#9c179e"
                          ],
                          [
                            0.4444444444444444,
                            "#bd3786"
                          ],
                          [
                            0.5555555555555556,
                            "#d8576b"
                          ],
                          [
                            0.6666666666666666,
                            "#ed7953"
                          ],
                          [
                            0.7777777777777778,
                            "#fb9f3a"
                          ],
                          [
                            0.8888888888888888,
                            "#fdca26"
                          ],
                          [
                            1,
                            "#f0f921"
                          ]
                        ],
                        "type": "histogram2dcontour"
                      }
                    ],
                    "mesh3d": [
                      {
                        "colorbar": {
                          "outlinewidth": 0,
                          "ticks": ""
                        },
                        "type": "mesh3d"
                      }
                    ],
                    "parcoords": [
                      {
                        "line": {
                          "colorbar": {
                            "outlinewidth": 0,
                            "ticks": ""
                          }
                        },
                        "type": "parcoords"
                      }
                    ],
                    "pie": [
                      {
                        "automargin": true,
                        "type": "pie"
                      }
                    ],
                    "scatter": [
                      {
                        "fillpattern": {
                          "fillmode": "overlay",
                          "size": 10,
                          "solidity": 0.2
                        },
                        "type": "scatter"
                      }
                    ],
                    "scatter3d": [
                      {
                        "line": {
                          "colorbar": {
                            "outlinewidth": 0,
                            "ticks": ""
                          }
                        },
                        "marker": {
                          "colorbar": {
                            "outlinewidth": 0,
                            "ticks": ""
                          }
                        },
                        "type": "scatter3d"
                      }
                    ],
                    "scattercarpet": [
                      {
                        "marker": {
                          "colorbar": {
                            "outlinewidth": 0,
                            "ticks": ""
                          }
                        },
                        "type": "scattercarpet"
                      }
                    ],
                    "scattergeo": [
                      {
                        "marker": {
                          "colorbar": {
                            "outlinewidth": 0,
                            "ticks": ""
                          }
                        },
                        "type": "scattergeo"
                      }
                    ],
                    "scattergl": [
                      {
                        "marker": {
                          "colorbar": {
                            "outlinewidth": 0,
                            "ticks": ""
                          }
                        },
                        "type": "scattergl"
                      }
                    ],
                    "scattermapbox": [
                      {
                        "marker": {
                          "colorbar": {
                            "outlinewidth": 0,
                            "ticks": ""
                          }
                        },
                        "type": "scattermapbox"
                      }
                    ],
                    "scatterpolar": [
                      {
                        "marker": {
                          "colorbar": {
                            "outlinewidth": 0,
                            "ticks": ""
                          }
                        },
                        "type": "scatterpolar"
                      }
                    ],
                    "scatterpolargl": [
                      {
                        "marker": {
                          "colorbar": {
                            "outlinewidth": 0,
                            "ticks": ""
                          }
                        },
                        "type": "scatterpolargl"
                      }
                    ],
                    "scatterternary": [
                      {
                        "marker": {
                          "colorbar": {
                            "outlinewidth": 0,
                            "ticks": ""
                          }
                        },
                        "type": "scatterternary"
                      }
                    ],
                    "surface": [
                      {
                        "colorbar": {
                          "outlinewidth": 0,
                          "ticks": ""
                        },
                        "colorscale": [
                          [
                            0,
                            "#0d0887"
                          ],
                          [
                            0.1111111111111111,
                            "#46039f"
                          ],
                          [
                            0.2222222222222222,
                            "#7201a8"
                          ],
                          [
                            0.3333333333333333,
                            "#9c179e"
                          ],
                          [
                            0.4444444444444444,
                            "#bd3786"
                          ],
                          [
                            0.5555555555555556,
                            "#d8576b"
                          ],
                          [
                            0.6666666666666666,
                            "#ed7953"
                          ],
                          [
                            0.7777777777777778,
                            "#fb9f3a"
                          ],
                          [
                            0.8888888888888888,
                            "#fdca26"
                          ],
                          [
                            1,
                            "#f0f921"
                          ]
                        ],
                        "type": "surface"
                      }
                    ],
                    "table": [
                      {
                        "cells": {
                          "fill": {
                            "color": "#EBF0F8"
                          },
                          "line": {
                            "color": "white"
                          }
                        },
                        "header": {
                          "fill": {
                            "color": "#C8D4E3"
                          },
                          "line": {
                            "color": "white"
                          }
                        },
                        "type": "table"
                      }
                    ]
                  },
                  "layout": {
                    "annotationdefaults": {
                      "arrowcolor": "#2a3f5f",
                      "arrowhead": 0,
                      "arrowwidth": 1
                    },
                    "autotypenumbers": "strict",
                    "coloraxis": {
                      "colorbar": {
                        "outlinewidth": 0,
                        "ticks": ""
                      }
                    },
                    "colorscale": {
                      "diverging": [
                        [
                          0,
                          "#8e0152"
                        ],
                        [
                          0.1,
                          "#c51b7d"
                        ],
                        [
                          0.2,
                          "#de77ae"
                        ],
                        [
                          0.3,
                          "#f1b6da"
                        ],
                        [
                          0.4,
                          "#fde0ef"
                        ],
                        [
                          0.5,
                          "#f7f7f7"
                        ],
                        [
                          0.6,
                          "#e6f5d0"
                        ],
                        [
                          0.7,
                          "#b8e186"
                        ],
                        [
                          0.8,
                          "#7fbc41"
                        ],
                        [
                          0.9,
                          "#4d9221"
                        ],
                        [
                          1,
                          "#276419"
                        ]
                      ],
                      "sequential": [
                        [
                          0,
                          "#0d0887"
                        ],
                        [
                          0.1111111111111111,
                          "#46039f"
                        ],
                        [
                          0.2222222222222222,
                          "#7201a8"
                        ],
                        [
                          0.3333333333333333,
                          "#9c179e"
                        ],
                        [
                          0.4444444444444444,
                          "#bd3786"
                        ],
                        [
                          0.5555555555555556,
                          "#d8576b"
                        ],
                        [
                          0.6666666666666666,
                          "#ed7953"
                        ],
                        [
                          0.7777777777777778,
                          "#fb9f3a"
                        ],
                        [
                          0.8888888888888888,
                          "#fdca26"
                        ],
                        [
                          1,
                          "#f0f921"
                        ]
                      ],
                      "sequentialminus": [
                        [
                          0,
                          "#0d0887"
                        ],
                        [
                          0.1111111111111111,
                          "#46039f"
                        ],
                        [
                          0.2222222222222222,
                          "#7201a8"
                        ],
                        [
                          0.3333333333333333,
                          "#9c179e"
                        ],
                        [
                          0.4444444444444444,
                          "#bd3786"
                        ],
                        [
                          0.5555555555555556,
                          "#d8576b"
                        ],
                        [
                          0.6666666666666666,
                          "#ed7953"
                        ],
                        [
                          0.7777777777777778,
                          "#fb9f3a"
                        ],
                        [
                          0.8888888888888888,
                          "#fdca26"
                        ],
                        [
                          1,
                          "#f0f921"
                        ]
                      ]
                    },
                    "colorway": [
                      "#636efa",
                      "#EF553B",
                      "#00cc96",
                      "#ab63fa",
                      "#FFA15A",
                      "#19d3f3",
                      "#FF6692",
                      "#B6E880",
                      "#FF97FF",
                      "#FECB52"
                    ],
                    "font": {
                      "color": "#2a3f5f"
                    },
                    "geo": {
                      "bgcolor": "white",
                      "lakecolor": "white",
                      "landcolor": "#E5ECF6",
                      "showlakes": true,
                      "showland": true,
                      "subunitcolor": "white"
                    },
                    "hoverlabel": {
                      "align": "left"
                    },
                    "hovermode": "closest",
                    "mapbox": {
                      "style": "light"
                    },
                    "paper_bgcolor": "white",
                    "plot_bgcolor": "#E5ECF6",
                    "polar": {
                      "angularaxis": {
                        "gridcolor": "white",
                        "linecolor": "white",
                        "ticks": ""
                      },
                      "bgcolor": "#E5ECF6",
                      "radialaxis": {
                        "gridcolor": "white",
                        "linecolor": "white",
                        "ticks": ""
                      }
                    },
                    "scene": {
                      "xaxis": {
                        "backgroundcolor": "#E5ECF6",
                        "gridcolor": "white",
                        "gridwidth": 2,
                        "linecolor": "white",
                        "showbackground": true,
                        "ticks": "",
                        "zerolinecolor": "white"
                      },
                      "yaxis": {
                        "backgroundcolor": "#E5ECF6",
                        "gridcolor": "white",
                        "gridwidth": 2,
                        "linecolor": "white",
                        "showbackground": true,
                        "ticks": "",
                        "zerolinecolor": "white"
                      },
                      "zaxis": {
                        "backgroundcolor": "#E5ECF6",
                        "gridcolor": "white",
                        "gridwidth": 2,
                        "linecolor": "white",
                        "showbackground": true,
                        "ticks": "",
                        "zerolinecolor": "white"
                      }
                    },
                    "shapedefaults": {
                      "line": {
                        "color": "#2a3f5f"
                      }
                    },
                    "ternary": {
                      "aaxis": {
                        "gridcolor": "white",
                        "linecolor": "white",
                        "ticks": ""
                      },
                      "baxis": {
                        "gridcolor": "white",
                        "linecolor": "white",
                        "ticks": ""
                      },
                      "bgcolor": "#E5ECF6",
                      "caxis": {
                        "gridcolor": "white",
                        "linecolor": "white",
                        "ticks": ""
                      }
                    },
                    "title": {
                      "x": 0.05
                    },
                    "xaxis": {
                      "automargin": true,
                      "gridcolor": "white",
                      "linecolor": "white",
                      "ticks": "",
                      "title": {
                        "standoff": 15
                      },
                      "zerolinecolor": "white",
                      "zerolinewidth": 2
                    },
                    "yaxis": {
                      "automargin": true,
                      "gridcolor": "white",
                      "linecolor": "white",
                      "ticks": "",
                      "title": {
                        "standoff": 15
                      },
                      "zerolinecolor": "white",
                      "zerolinewidth": 2
                    }
                  }
                },
                "title": {
                  "text": "Cyclist Weight Category vs. Overall Time Over the Years"
                },
                "xaxis": {
                  "anchor": "y",
                  "domain": [
                    0,
                    1
                  ],
                  "title": {
                    "text": "Edition"
                  }
                },
                "yaxis": {
                  "anchor": "x",
                  "domain": [
                    0,
                    1
                  ],
                  "title": {
                    "text": "Overall Time (hours)"
                  }
                }
              }
            }
          },
          "metadata": {},
          "output_type": "display_data"
        }
      ],
      "source": [
        "bins = [0, 60, 70, 80, 90, 100, 110, 120]\n",
        "labels = ['<60', '60-70', '70-80', '80-90', '90-100', '100-110', '110+']\n",
        "winner['weight_category'] = pd.cut(winner['weight'], bins=bins, labels=labels)\n",
        "\n",
        "# Scatter plot with weight categories\n",
        "fig = px.scatter(winner, x='edition', y='time_overall', color='weight_category',\n",
        "                 title='Cyclist Weight Category vs. Overall Time Over the Years',\n",
        "                 labels={'edition': 'Edition', 'time_overall': 'Overall Time (hours)', 'weight_category': 'Weight Category'},\n",
        "                 hover_data=['winner_name'], color_discrete_sequence=px.colors.qualitative.Set1)\n",
        "\n",
        "fig.show()\n"
      ]
    },
    {
      "cell_type": "markdown",
      "metadata": {
        "id": "JQKdjpmvcFBc"
      },
      "source": [
        "For values less than sixty (<60 kgs), the overall time spent is less than 150 hours. For values between 70kgs and 80kgs , the overall time spent is also 150 hours.Values between 60 kgs and 70 kgs amount for the most time spent overall.Seeing that the timeoverall is same for both categories, despite the great difference, weight(technology of bikes) is not directly related to the time performance of the cyclists."
      ]
    },
    {
      "cell_type": "markdown",
      "metadata": {
        "id": "JI9N9kK4cFBc"
      },
      "source": [
        "Some cyclists are getting better bikes. However, those whose bikes are considered the best are at per with those whose bikes are considered to be the worst. Those with medium quality bike perform the worst."
      ]
    },
    {
      "cell_type": "markdown",
      "metadata": {
        "id": "Tt2pBJaPcFBc"
      },
      "source": [
        "b. Teams"
      ]
    },
    {
      "cell_type": "code",
      "execution_count": null,
      "metadata": {
        "id": "0nXBPsAzcFBd",
        "outputId": "fb905f0a-2ca6-4d46-fdcd-25ea1c4676ee"
      },
      "outputs": [
        {
          "name": "stdout",
          "output_type": "stream",
          "text": [
            "The average overall time is: 124.94530922431865 hours\n"
          ]
        }
      ],
      "source": [
        "# Calculate the average time_overall\n",
        "average_time_overall = winner['time_overall'].mean()\n",
        "\n",
        "print(f\"The average overall time is: {average_time_overall} hours\")\n"
      ]
    },
    {
      "cell_type": "code",
      "execution_count": null,
      "metadata": {
        "id": "wASAuRk9cFBd",
        "outputId": "4f09bb1d-fe40-4648-e935-dfcacf3476f0"
      },
      "outputs": [
        {
          "name": "stdout",
          "output_type": "stream",
          "text": [
            "                          winner_team  time_overall\n",
            "0         AD Renting–W-Cup–Bottecchia     87.643056\n",
            "1                       Alcyon–Dunlop    151.257535\n",
            "2                              Astana     87.897361\n",
            "3                            Automoto    226.305833\n",
            "4                 Automoto–Hutchinson    226.723426\n",
            "5                     BMC Racing Team     86.206111\n",
            "6                             Banesto     98.838667\n",
            "7                             Belgium    138.743426\n",
            "8                                 Bic    122.426111\n",
            "9      Caisse d'Epargne–Illes Balears     89.674167\n",
            "10             Carrera Jeans–Vagabond    115.461667\n",
            "11                              Conte     96.098611\n",
            "12                  Discovery Channel     88.628889\n",
            "13                              Faema    116.267222\n",
            "14                      Faemino–Faema    119.530278\n",
            "15             Ford France–Hutchinson    117.572500\n",
            "16                             France    141.283102\n",
            "17                  Gitane–Campagnolo    116.373056\n",
            "18                              Italy    141.888833\n",
            "19                       La Française     94.553889\n",
            "20                        La Sportive    227.188333\n",
            "21                      La Vie Claire    111.997500\n",
            "22                         Luxembourg    116.984722\n",
            "23              Mercatone Uno–Bianchi     92.829444\n",
            "24                            Molteni    107.108333\n",
            "25           Pelforth–Sauvage–Lejeune    133.828333\n",
            "26                Peugeot–BP–Michelin    125.744583\n",
            "27              Peugeot–Esso–Michelin    115.641667\n",
            "28                     Peugeot–Wolber    154.374603\n",
            "29                        Renault–Elf    108.596111\n",
            "30                 Renault–Elf–Gitane     94.236667\n",
            "31                     Renault–Gitane    103.113889\n",
            "32          Renault–Gitane–Campagnolo    108.300000\n",
            "33                           Reynolds     84.464722\n",
            "34        Saint-Raphaël–Gitane–Dunlop    127.162222\n",
            "35  Saint-Raphaël–Gitane–R. Geminiani    113.501389\n",
            "36   Saint-Raphaël–Helyett–Hutchinson    114.531667\n",
            "37                          Salvarani    116.701667\n",
            "38                              Spain    123.779167\n",
            "39                        Switzerland    143.976389\n",
            "40                   TI–Raleigh–Creda    109.320556\n",
            "41                           Team CSC     87.881111\n",
            "42                         Team Ineos     82.950000\n",
            "43                     Team Saxo Bank     91.990833\n",
            "44                           Team Sky     85.834120\n",
            "45                       Team Telekom     98.232083\n",
            "46                U.S. Postal Service     86.625833\n",
            "47                          Z–Tomasso     90.722222\n"
          ]
        }
      ],
      "source": [
        "# Group by winner_team and calculate the average time_overall for each team\n",
        "average_time_per_team = winner.groupby('winner_team')['time_overall'].mean().reset_index()\n",
        "\n",
        "# Display the average time spent for each winner-team\n",
        "print(average_time_per_team)\n"
      ]
    },
    {
      "cell_type": "code",
      "execution_count": null,
      "metadata": {
        "id": "KeYgvO2lcFBe",
        "outputId": "7fad6024-0a11-41ff-e812-a94e14cd6579"
      },
      "outputs": [
        {
          "name": "stdout",
          "output_type": "stream",
          "text": [
            "                    winner_team  time_overall\n",
            "10               Peugeot–Wolber    197.900000\n",
            "11               Peugeot–Wolber    200.480000\n",
            "12                  La Sportive    231.120833\n",
            "13                  La Sportive    228.603611\n",
            "14                  La Sportive    221.840556\n",
            "15               Peugeot–Wolber    222.135000\n",
            "16          Automoto–Hutchinson    222.258333\n",
            "17                     Automoto    226.305833\n",
            "18          Automoto–Hutchinson    219.171667\n",
            "19          Automoto–Hutchinson    238.740278\n",
            "20                Alcyon–Dunlop    198.278333\n",
            "21                Alcyon–Dunlop    192.816111\n",
            "22                Alcyon–Dunlop    186.654167\n",
            "23                Alcyon–Dunlop    172.204444\n",
            "24                       France    177.167500\n",
            "25                       France    154.196944\n",
            "26                       France    147.860278\n",
            "27                       France    147.232778\n",
            "28                      Belgium    141.383333\n",
            "29                      Belgium    142.792222\n",
            "30                       France    138.975278\n",
            "31                        Italy    148.486667\n",
            "32                      Belgium    132.054722\n",
            "33                       France    148.190278\n",
            "34                        Italy    147.176667\n",
            "35                        Italy    149.680278\n",
            "36                  Switzerland    145.615556\n",
            "37                  Switzerland    142.337222\n",
            "38                        Italy    151.955556\n",
            "39                       France    129.390278\n",
            "40                       France    140.101389\n",
            "41                       France    130.490556\n",
            "43                       France    135.745000\n",
            "50  Saint-Raphaël–Gitane–Dunlop    127.162222\n",
            "53          Peugeot–BP–Michelin    136.897222\n",
            "54     Pelforth–Sauvage–Lejeune    133.828333\n"
          ]
        }
      ],
      "source": [
        "# Filter the rows where time_overall is greater than the average time\n",
        "greater_than_average = winner[winner['time_overall'] > average_time_overall]\n",
        "\n",
        "# Select the winner_team and time_overall columns\n",
        "result = greater_than_average[['winner_team', 'time_overall']]\n",
        "\n",
        "print(result)\n"
      ]
    },
    {
      "cell_type": "code",
      "execution_count": null,
      "metadata": {
        "id": "SZb8SH1lcFBe",
        "outputId": "f33e8040-678b-4676-816f-a6ce728875d6"
      },
      "outputs": [
        {
          "name": "stdout",
          "output_type": "stream",
          "text": [
            "                    winner_team  time_overall\n",
            "20                  La Sportive    227.188333\n",
            "4           Automoto–Hutchinson    226.723426\n",
            "3                      Automoto    226.305833\n",
            "28               Peugeot–Wolber    154.374603\n",
            "1                 Alcyon–Dunlop    151.257535\n",
            "39                  Switzerland    143.976389\n",
            "18                        Italy    141.888833\n",
            "16                       France    141.283102\n",
            "7                       Belgium    138.743426\n",
            "25     Pelforth–Sauvage–Lejeune    133.828333\n",
            "34  Saint-Raphaël–Gitane–Dunlop    127.162222\n",
            "26          Peugeot–BP–Michelin    125.744583\n"
          ]
        }
      ],
      "source": [
        "# Calculate the average time per team\n",
        "team_average_time = winner.groupby('winner_team')['time_overall'].mean().reset_index()\n",
        "\n",
        "# Filter teams where the average time is greater than the overall average time\n",
        "teams_above_average = team_average_time[team_average_time['time_overall'] > average_time_overall]\n",
        "\n",
        "# Sort the teams in ascending order of time_overall\n",
        "teams_above_average_sorted = teams_above_average.sort_values(by='time_overall', ascending=False)\n",
        "\n",
        "# Display the result\n",
        "print(teams_above_average_sorted)\n"
      ]
    },
    {
      "cell_type": "code",
      "execution_count": null,
      "metadata": {
        "id": "OUELVYU-cFBe",
        "outputId": "d7b4b800-4f81-441c-bcfe-9caa4a692c38"
      },
      "outputs": [
        {
          "name": "stderr",
          "output_type": "stream",
          "text": [
            "C:\\Users\\HP\\AppData\\Local\\Temp\\ipykernel_9668\\1442588338.py:10: FutureWarning:\n",
            "\n",
            "The default of observed=False is deprecated and will be changed to True in a future version of pandas. Pass observed=False to retain current behavior or observed=True to adopt the future default and silence this warning.\n",
            "\n"
          ]
        },
        {
          "data": {
            "application/vnd.plotly.v1+json": {
              "config": {
                "plotlyServerURL": "https://plot.ly"
              },
              "data": [
                {
                  "alignmentgroup": "True",
                  "hovertemplate": "Team=AD Renting–W-Cup–Bottecchia<br>Weight Category=%{x}<br>Average Time Overall (hours)=%{y}<extra></extra>",
                  "legendgroup": "AD Renting–W-Cup–Bottecchia",
                  "marker": {
                    "color": "rgb(228,26,28)",
                    "pattern": {
                      "shape": ""
                    }
                  },
                  "name": "AD Renting–W-Cup–Bottecchia",
                  "offsetgroup": "AD Renting–W-Cup–Bottecchia",
                  "orientation": "v",
                  "showlegend": true,
                  "textposition": "auto",
                  "type": "bar",
                  "x": [
                    "<60",
                    "60-70",
                    "70-80",
                    "80-90"
                  ],
                  "xaxis": "x",
                  "y": [
                    null,
                    87.64305555555556,
                    null,
                    null
                  ],
                  "yaxis": "y"
                },
                {
                  "alignmentgroup": "True",
                  "hovertemplate": "Team=Alcyon–Dunlop<br>Weight Category=%{x}<br>Average Time Overall (hours)=%{y}<extra></extra>",
                  "legendgroup": "Alcyon–Dunlop",
                  "marker": {
                    "color": "rgb(55,126,184)",
                    "pattern": {
                      "shape": ""
                    }
                  },
                  "name": "Alcyon–Dunlop",
                  "offsetgroup": "Alcyon–Dunlop",
                  "orientation": "v",
                  "showlegend": true,
                  "textposition": "auto",
                  "type": "bar",
                  "x": [
                    "<60",
                    "60-70",
                    "70-80",
                    "80-90"
                  ],
                  "xaxis": "x",
                  "y": [
                    null,
                    156.43335317460316,
                    null,
                    115.02680555555555
                  ],
                  "yaxis": "y"
                },
                {
                  "alignmentgroup": "True",
                  "hovertemplate": "Team=Astana<br>Weight Category=%{x}<br>Average Time Overall (hours)=%{y}<extra></extra>",
                  "legendgroup": "Astana",
                  "marker": {
                    "color": "rgb(77,175,74)",
                    "pattern": {
                      "shape": ""
                    }
                  },
                  "name": "Astana",
                  "offsetgroup": "Astana",
                  "orientation": "v",
                  "showlegend": true,
                  "textposition": "auto",
                  "type": "bar",
                  "x": [
                    "<60",
                    "60-70",
                    "70-80",
                    "80-90"
                  ],
                  "xaxis": "x",
                  "y": [
                    null,
                    87.89736111111111,
                    null,
                    null
                  ],
                  "yaxis": "y"
                },
                {
                  "alignmentgroup": "True",
                  "hovertemplate": "Team=Automoto<br>Weight Category=%{x}<br>Average Time Overall (hours)=%{y}<extra></extra>",
                  "legendgroup": "Automoto",
                  "marker": {
                    "color": "rgb(152,78,163)",
                    "pattern": {
                      "shape": ""
                    }
                  },
                  "name": "Automoto",
                  "offsetgroup": "Automoto",
                  "orientation": "v",
                  "showlegend": true,
                  "textposition": "auto",
                  "type": "bar",
                  "x": [
                    "<60",
                    "60-70",
                    "70-80",
                    "80-90"
                  ],
                  "xaxis": "x",
                  "y": [
                    null,
                    226.3058333333333,
                    null,
                    null
                  ],
                  "yaxis": "y"
                },
                {
                  "alignmentgroup": "True",
                  "hovertemplate": "Team=Automoto–Hutchinson<br>Weight Category=%{x}<br>Average Time Overall (hours)=%{y}<extra></extra>",
                  "legendgroup": "Automoto–Hutchinson",
                  "marker": {
                    "color": "rgb(255,127,0)",
                    "pattern": {
                      "shape": ""
                    }
                  },
                  "name": "Automoto–Hutchinson",
                  "offsetgroup": "Automoto–Hutchinson",
                  "orientation": "v",
                  "showlegend": true,
                  "textposition": "auto",
                  "type": "bar",
                  "x": [
                    "<60",
                    "60-70",
                    "70-80",
                    "80-90"
                  ],
                  "xaxis": "x",
                  "y": [
                    null,
                    226.7234259259259,
                    null,
                    null
                  ],
                  "yaxis": "y"
                },
                {
                  "alignmentgroup": "True",
                  "hovertemplate": "Team=BMC Racing Team<br>Weight Category=%{x}<br>Average Time Overall (hours)=%{y}<extra></extra>",
                  "legendgroup": "BMC Racing Team",
                  "marker": {
                    "color": "rgb(255,255,51)",
                    "pattern": {
                      "shape": ""
                    }
                  },
                  "name": "BMC Racing Team",
                  "offsetgroup": "BMC Racing Team",
                  "orientation": "v",
                  "showlegend": true,
                  "textposition": "auto",
                  "type": "bar",
                  "x": [
                    "<60",
                    "60-70",
                    "70-80",
                    "80-90"
                  ],
                  "xaxis": "x",
                  "y": [
                    null,
                    86.20611111111111,
                    null,
                    null
                  ],
                  "yaxis": "y"
                },
                {
                  "alignmentgroup": "True",
                  "hovertemplate": "Team=Banesto<br>Weight Category=%{x}<br>Average Time Overall (hours)=%{y}<extra></extra>",
                  "legendgroup": "Banesto",
                  "marker": {
                    "color": "rgb(166,86,40)",
                    "pattern": {
                      "shape": ""
                    }
                  },
                  "name": "Banesto",
                  "offsetgroup": "Banesto",
                  "orientation": "v",
                  "showlegend": true,
                  "textposition": "auto",
                  "type": "bar",
                  "x": [
                    "<60",
                    "60-70",
                    "70-80",
                    "80-90"
                  ],
                  "xaxis": "x",
                  "y": [
                    null,
                    null,
                    98.83866666666668,
                    null
                  ],
                  "yaxis": "y"
                },
                {
                  "alignmentgroup": "True",
                  "hovertemplate": "Team=Belgium<br>Weight Category=%{x}<br>Average Time Overall (hours)=%{y}<extra></extra>",
                  "legendgroup": "Belgium",
                  "marker": {
                    "color": "rgb(247,129,191)",
                    "pattern": {
                      "shape": ""
                    }
                  },
                  "name": "Belgium",
                  "offsetgroup": "Belgium",
                  "orientation": "v",
                  "showlegend": true,
                  "textposition": "auto",
                  "type": "bar",
                  "x": [
                    "<60",
                    "60-70",
                    "70-80",
                    "80-90"
                  ],
                  "xaxis": "x",
                  "y": [
                    null,
                    138.74342592592595,
                    null,
                    null
                  ],
                  "yaxis": "y"
                },
                {
                  "alignmentgroup": "True",
                  "hovertemplate": "Team=Bic<br>Weight Category=%{x}<br>Average Time Overall (hours)=%{y}<extra></extra>",
                  "legendgroup": "Bic",
                  "marker": {
                    "color": "rgb(153,153,153)",
                    "pattern": {
                      "shape": ""
                    }
                  },
                  "name": "Bic",
                  "offsetgroup": "Bic",
                  "orientation": "v",
                  "showlegend": true,
                  "textposition": "auto",
                  "type": "bar",
                  "x": [
                    "<60",
                    "60-70",
                    "70-80",
                    "80-90"
                  ],
                  "xaxis": "x",
                  "y": [
                    122.42611111111113,
                    null,
                    null,
                    null
                  ],
                  "yaxis": "y"
                },
                {
                  "alignmentgroup": "True",
                  "hovertemplate": "Team=Caisse d'Epargne–Illes Balears<br>Weight Category=%{x}<br>Average Time Overall (hours)=%{y}<extra></extra>",
                  "legendgroup": "Caisse d'Epargne–Illes Balears",
                  "marker": {
                    "color": "rgb(228,26,28)",
                    "pattern": {
                      "shape": ""
                    }
                  },
                  "name": "Caisse d'Epargne–Illes Balears",
                  "offsetgroup": "Caisse d'Epargne–Illes Balears",
                  "orientation": "v",
                  "showlegend": true,
                  "textposition": "auto",
                  "type": "bar",
                  "x": [
                    "<60",
                    "60-70",
                    "70-80",
                    "80-90"
                  ],
                  "xaxis": "x",
                  "y": [
                    null,
                    89.67416666666666,
                    null,
                    null
                  ],
                  "yaxis": "y"
                },
                {
                  "alignmentgroup": "True",
                  "hovertemplate": "Team=Carrera Jeans–Vagabond<br>Weight Category=%{x}<br>Average Time Overall (hours)=%{y}<extra></extra>",
                  "legendgroup": "Carrera Jeans–Vagabond",
                  "marker": {
                    "color": "rgb(55,126,184)",
                    "pattern": {
                      "shape": ""
                    }
                  },
                  "name": "Carrera Jeans–Vagabond",
                  "offsetgroup": "Carrera Jeans–Vagabond",
                  "orientation": "v",
                  "showlegend": true,
                  "textposition": "auto",
                  "type": "bar",
                  "x": [
                    "<60",
                    "60-70",
                    "70-80",
                    "80-90"
                  ],
                  "xaxis": "x",
                  "y": [
                    null,
                    null,
                    115.46166666666667,
                    null
                  ],
                  "yaxis": "y"
                },
                {
                  "alignmentgroup": "True",
                  "hovertemplate": "Team=Conte<br>Weight Category=%{x}<br>Average Time Overall (hours)=%{y}<extra></extra>",
                  "legendgroup": "Conte",
                  "marker": {
                    "color": "rgb(77,175,74)",
                    "pattern": {
                      "shape": ""
                    }
                  },
                  "name": "Conte",
                  "offsetgroup": "Conte",
                  "orientation": "v",
                  "showlegend": true,
                  "textposition": "auto",
                  "type": "bar",
                  "x": [
                    "<60",
                    "60-70",
                    "70-80",
                    "80-90"
                  ],
                  "xaxis": "x",
                  "y": [
                    null,
                    96.09861111111113,
                    null,
                    null
                  ],
                  "yaxis": "y"
                },
                {
                  "alignmentgroup": "True",
                  "hovertemplate": "Team=Discovery Channel<br>Weight Category=%{x}<br>Average Time Overall (hours)=%{y}<extra></extra>",
                  "legendgroup": "Discovery Channel",
                  "marker": {
                    "color": "rgb(152,78,163)",
                    "pattern": {
                      "shape": ""
                    }
                  },
                  "name": "Discovery Channel",
                  "offsetgroup": "Discovery Channel",
                  "orientation": "v",
                  "showlegend": true,
                  "textposition": "auto",
                  "type": "bar",
                  "x": [
                    "<60",
                    "60-70",
                    "70-80",
                    "80-90"
                  ],
                  "xaxis": "x",
                  "y": [
                    null,
                    91.00722222222224,
                    86.25055555555555,
                    null
                  ],
                  "yaxis": "y"
                },
                {
                  "alignmentgroup": "True",
                  "hovertemplate": "Team=Faema<br>Weight Category=%{x}<br>Average Time Overall (hours)=%{y}<extra></extra>",
                  "legendgroup": "Faema",
                  "marker": {
                    "color": "rgb(255,127,0)",
                    "pattern": {
                      "shape": ""
                    }
                  },
                  "name": "Faema",
                  "offsetgroup": "Faema",
                  "orientation": "v",
                  "showlegend": true,
                  "textposition": "auto",
                  "type": "bar",
                  "x": [
                    "<60",
                    "60-70",
                    "70-80",
                    "80-90"
                  ],
                  "xaxis": "x",
                  "y": [
                    null,
                    null,
                    116.26722222222222,
                    null
                  ],
                  "yaxis": "y"
                },
                {
                  "alignmentgroup": "True",
                  "hovertemplate": "Team=Faemino–Faema<br>Weight Category=%{x}<br>Average Time Overall (hours)=%{y}<extra></extra>",
                  "legendgroup": "Faemino–Faema",
                  "marker": {
                    "color": "rgb(255,255,51)",
                    "pattern": {
                      "shape": ""
                    }
                  },
                  "name": "Faemino–Faema",
                  "offsetgroup": "Faemino–Faema",
                  "orientation": "v",
                  "showlegend": true,
                  "textposition": "auto",
                  "type": "bar",
                  "x": [
                    "<60",
                    "60-70",
                    "70-80",
                    "80-90"
                  ],
                  "xaxis": "x",
                  "y": [
                    null,
                    null,
                    119.53027777777778,
                    null
                  ],
                  "yaxis": "y"
                },
                {
                  "alignmentgroup": "True",
                  "hovertemplate": "Team=Ford France–Hutchinson<br>Weight Category=%{x}<br>Average Time Overall (hours)=%{y}<extra></extra>",
                  "legendgroup": "Ford France–Hutchinson",
                  "marker": {
                    "color": "rgb(166,86,40)",
                    "pattern": {
                      "shape": ""
                    }
                  },
                  "name": "Ford France–Hutchinson",
                  "offsetgroup": "Ford France–Hutchinson",
                  "orientation": "v",
                  "showlegend": true,
                  "textposition": "auto",
                  "type": "bar",
                  "x": [
                    "<60",
                    "60-70",
                    "70-80",
                    "80-90"
                  ],
                  "xaxis": "x",
                  "y": [
                    null,
                    117.5725,
                    null,
                    null
                  ],
                  "yaxis": "y"
                },
                {
                  "alignmentgroup": "True",
                  "hovertemplate": "Team=France<br>Weight Category=%{x}<br>Average Time Overall (hours)=%{y}<extra></extra>",
                  "legendgroup": "France",
                  "marker": {
                    "color": "rgb(247,129,191)",
                    "pattern": {
                      "shape": ""
                    }
                  },
                  "name": "France",
                  "offsetgroup": "France",
                  "orientation": "v",
                  "showlegend": true,
                  "textposition": "auto",
                  "type": "bar",
                  "x": [
                    "<60",
                    "60-70",
                    "70-80",
                    "80-90"
                  ],
                  "xaxis": "x",
                  "y": [
                    148.1902777777778,
                    143.40309027777778,
                    133.32740740740743,
                    null
                  ],
                  "yaxis": "y"
                },
                {
                  "alignmentgroup": "True",
                  "hovertemplate": "Team=Gitane–Campagnolo<br>Weight Category=%{x}<br>Average Time Overall (hours)=%{y}<extra></extra>",
                  "legendgroup": "Gitane–Campagnolo",
                  "marker": {
                    "color": "rgb(153,153,153)",
                    "pattern": {
                      "shape": ""
                    }
                  },
                  "name": "Gitane–Campagnolo",
                  "offsetgroup": "Gitane–Campagnolo",
                  "orientation": "v",
                  "showlegend": true,
                  "textposition": "auto",
                  "type": "bar",
                  "x": [
                    "<60",
                    "60-70",
                    "70-80",
                    "80-90"
                  ],
                  "xaxis": "x",
                  "y": [
                    116.37305555555557,
                    null,
                    null,
                    null
                  ],
                  "yaxis": "y"
                },
                {
                  "alignmentgroup": "True",
                  "hovertemplate": "Team=Italy<br>Weight Category=%{x}<br>Average Time Overall (hours)=%{y}<extra></extra>",
                  "legendgroup": "Italy",
                  "marker": {
                    "color": "rgb(228,26,28)",
                    "pattern": {
                      "shape": ""
                    }
                  },
                  "name": "Italy",
                  "offsetgroup": "Italy",
                  "orientation": "v",
                  "showlegend": true,
                  "textposition": "auto",
                  "type": "bar",
                  "x": [
                    "<60",
                    "60-70",
                    "70-80",
                    "80-90"
                  ],
                  "xaxis": "x",
                  "y": [
                    null,
                    141.8888333333333,
                    null,
                    null
                  ],
                  "yaxis": "y"
                },
                {
                  "alignmentgroup": "True",
                  "hovertemplate": "Team=La Française<br>Weight Category=%{x}<br>Average Time Overall (hours)=%{y}<extra></extra>",
                  "legendgroup": "La Française",
                  "marker": {
                    "color": "rgb(55,126,184)",
                    "pattern": {
                      "shape": ""
                    }
                  },
                  "name": "La Française",
                  "offsetgroup": "La Française",
                  "orientation": "v",
                  "showlegend": true,
                  "textposition": "auto",
                  "type": "bar",
                  "x": [
                    "<60",
                    "60-70",
                    "70-80",
                    "80-90"
                  ],
                  "xaxis": "x",
                  "y": [
                    94.55388888888888,
                    null,
                    null,
                    null
                  ],
                  "yaxis": "y"
                },
                {
                  "alignmentgroup": "True",
                  "hovertemplate": "Team=La Sportive<br>Weight Category=%{x}<br>Average Time Overall (hours)=%{y}<extra></extra>",
                  "legendgroup": "La Sportive",
                  "marker": {
                    "color": "rgb(77,175,74)",
                    "pattern": {
                      "shape": ""
                    }
                  },
                  "name": "La Sportive",
                  "offsetgroup": "La Sportive",
                  "orientation": "v",
                  "showlegend": true,
                  "textposition": "auto",
                  "type": "bar",
                  "x": [
                    "<60",
                    "60-70",
                    "70-80",
                    "80-90"
                  ],
                  "xaxis": "x",
                  "y": [
                    null,
                    227.18833333333336,
                    null,
                    null
                  ],
                  "yaxis": "y"
                },
                {
                  "alignmentgroup": "True",
                  "hovertemplate": "Team=La Vie Claire<br>Weight Category=%{x}<br>Average Time Overall (hours)=%{y}<extra></extra>",
                  "legendgroup": "La Vie Claire",
                  "marker": {
                    "color": "rgb(152,78,163)",
                    "pattern": {
                      "shape": ""
                    }
                  },
                  "name": "La Vie Claire",
                  "offsetgroup": "La Vie Claire",
                  "orientation": "v",
                  "showlegend": true,
                  "textposition": "auto",
                  "type": "bar",
                  "x": [
                    "<60",
                    "60-70",
                    "70-80",
                    "80-90"
                  ],
                  "xaxis": "x",
                  "y": [
                    null,
                    111.9975,
                    null,
                    null
                  ],
                  "yaxis": "y"
                },
                {
                  "alignmentgroup": "True",
                  "hovertemplate": "Team=Luxembourg<br>Weight Category=%{x}<br>Average Time Overall (hours)=%{y}<extra></extra>",
                  "legendgroup": "Luxembourg",
                  "marker": {
                    "color": "rgb(255,127,0)",
                    "pattern": {
                      "shape": ""
                    }
                  },
                  "name": "Luxembourg",
                  "offsetgroup": "Luxembourg",
                  "orientation": "v",
                  "showlegend": true,
                  "textposition": "auto",
                  "type": "bar",
                  "x": [
                    "<60",
                    "60-70",
                    "70-80",
                    "80-90"
                  ],
                  "xaxis": "x",
                  "y": [
                    null,
                    116.98472222222222,
                    null,
                    null
                  ],
                  "yaxis": "y"
                },
                {
                  "alignmentgroup": "True",
                  "hovertemplate": "Team=Mercatone Uno–Bianchi<br>Weight Category=%{x}<br>Average Time Overall (hours)=%{y}<extra></extra>",
                  "legendgroup": "Mercatone Uno–Bianchi",
                  "marker": {
                    "color": "rgb(255,255,51)",
                    "pattern": {
                      "shape": ""
                    }
                  },
                  "name": "Mercatone Uno–Bianchi",
                  "offsetgroup": "Mercatone Uno–Bianchi",
                  "orientation": "v",
                  "showlegend": true,
                  "textposition": "auto",
                  "type": "bar",
                  "x": [
                    "<60",
                    "60-70",
                    "70-80",
                    "80-90"
                  ],
                  "xaxis": "x",
                  "y": [
                    92.82944444444443,
                    null,
                    null,
                    null
                  ],
                  "yaxis": "y"
                },
                {
                  "alignmentgroup": "True",
                  "hovertemplate": "Team=Molteni<br>Weight Category=%{x}<br>Average Time Overall (hours)=%{y}<extra></extra>",
                  "legendgroup": "Molteni",
                  "marker": {
                    "color": "rgb(166,86,40)",
                    "pattern": {
                      "shape": ""
                    }
                  },
                  "name": "Molteni",
                  "offsetgroup": "Molteni",
                  "orientation": "v",
                  "showlegend": true,
                  "textposition": "auto",
                  "type": "bar",
                  "x": [
                    "<60",
                    "60-70",
                    "70-80",
                    "80-90"
                  ],
                  "xaxis": "x",
                  "y": [
                    null,
                    null,
                    107.10833333333333,
                    null
                  ],
                  "yaxis": "y"
                },
                {
                  "alignmentgroup": "True",
                  "hovertemplate": "Team=Pelforth–Sauvage–Lejeune<br>Weight Category=%{x}<br>Average Time Overall (hours)=%{y}<extra></extra>",
                  "legendgroup": "Pelforth–Sauvage–Lejeune",
                  "marker": {
                    "color": "rgb(247,129,191)",
                    "pattern": {
                      "shape": ""
                    }
                  },
                  "name": "Pelforth–Sauvage–Lejeune",
                  "offsetgroup": "Pelforth–Sauvage–Lejeune",
                  "orientation": "v",
                  "showlegend": true,
                  "textposition": "auto",
                  "type": "bar",
                  "x": [
                    "<60",
                    "60-70",
                    "70-80",
                    "80-90"
                  ],
                  "xaxis": "x",
                  "y": [
                    null,
                    133.82833333333332,
                    null,
                    null
                  ],
                  "yaxis": "y"
                },
                {
                  "alignmentgroup": "True",
                  "hovertemplate": "Team=Peugeot–BP–Michelin<br>Weight Category=%{x}<br>Average Time Overall (hours)=%{y}<extra></extra>",
                  "legendgroup": "Peugeot–BP–Michelin",
                  "marker": {
                    "color": "rgb(153,153,153)",
                    "pattern": {
                      "shape": ""
                    }
                  },
                  "name": "Peugeot–BP–Michelin",
                  "offsetgroup": "Peugeot–BP–Michelin",
                  "orientation": "v",
                  "showlegend": true,
                  "textposition": "auto",
                  "type": "bar",
                  "x": [
                    "<60",
                    "60-70",
                    "70-80",
                    "80-90"
                  ],
                  "xaxis": "x",
                  "y": [
                    null,
                    114.59194444444444,
                    136.8972222222222,
                    null
                  ],
                  "yaxis": "y"
                },
                {
                  "alignmentgroup": "True",
                  "hovertemplate": "Team=Peugeot–Esso–Michelin<br>Weight Category=%{x}<br>Average Time Overall (hours)=%{y}<extra></extra>",
                  "legendgroup": "Peugeot–Esso–Michelin",
                  "marker": {
                    "color": "rgb(228,26,28)",
                    "pattern": {
                      "shape": ""
                    }
                  },
                  "name": "Peugeot–Esso–Michelin",
                  "offsetgroup": "Peugeot–Esso–Michelin",
                  "orientation": "v",
                  "showlegend": true,
                  "textposition": "auto",
                  "type": "bar",
                  "x": [
                    "<60",
                    "60-70",
                    "70-80",
                    "80-90"
                  ],
                  "xaxis": "x",
                  "y": [
                    null,
                    115.64166666666668,
                    null,
                    null
                  ],
                  "yaxis": "y"
                },
                {
                  "alignmentgroup": "True",
                  "hovertemplate": "Team=Peugeot–Wolber<br>Weight Category=%{x}<br>Average Time Overall (hours)=%{y}<extra></extra>",
                  "legendgroup": "Peugeot–Wolber",
                  "marker": {
                    "color": "rgb(55,126,184)",
                    "pattern": {
                      "shape": ""
                    }
                  },
                  "name": "Peugeot–Wolber",
                  "offsetgroup": "Peugeot–Wolber",
                  "orientation": "v",
                  "showlegend": true,
                  "textposition": "auto",
                  "type": "bar",
                  "x": [
                    "<60",
                    "60-70",
                    "70-80",
                    "80-90"
                  ],
                  "xaxis": "x",
                  "y": [
                    null,
                    154.37460317460318,
                    null,
                    null
                  ],
                  "yaxis": "y"
                },
                {
                  "alignmentgroup": "True",
                  "hovertemplate": "Team=Renault–Elf<br>Weight Category=%{x}<br>Average Time Overall (hours)=%{y}<extra></extra>",
                  "legendgroup": "Renault–Elf",
                  "marker": {
                    "color": "rgb(77,175,74)",
                    "pattern": {
                      "shape": ""
                    }
                  },
                  "name": "Renault–Elf",
                  "offsetgroup": "Renault–Elf",
                  "orientation": "v",
                  "showlegend": true,
                  "textposition": "auto",
                  "type": "bar",
                  "x": [
                    "<60",
                    "60-70",
                    "70-80",
                    "80-90"
                  ],
                  "xaxis": "x",
                  "y": [
                    null,
                    108.59611111111111,
                    null,
                    null
                  ],
                  "yaxis": "y"
                },
                {
                  "alignmentgroup": "True",
                  "hovertemplate": "Team=Renault–Elf–Gitane<br>Weight Category=%{x}<br>Average Time Overall (hours)=%{y}<extra></extra>",
                  "legendgroup": "Renault–Elf–Gitane",
                  "marker": {
                    "color": "rgb(152,78,163)",
                    "pattern": {
                      "shape": ""
                    }
                  },
                  "name": "Renault–Elf–Gitane",
                  "offsetgroup": "Renault–Elf–Gitane",
                  "orientation": "v",
                  "showlegend": true,
                  "textposition": "auto",
                  "type": "bar",
                  "x": [
                    "<60",
                    "60-70",
                    "70-80",
                    "80-90"
                  ],
                  "xaxis": "x",
                  "y": [
                    null,
                    94.23666666666668,
                    null,
                    null
                  ],
                  "yaxis": "y"
                },
                {
                  "alignmentgroup": "True",
                  "hovertemplate": "Team=Renault–Gitane<br>Weight Category=%{x}<br>Average Time Overall (hours)=%{y}<extra></extra>",
                  "legendgroup": "Renault–Gitane",
                  "marker": {
                    "color": "rgb(255,127,0)",
                    "pattern": {
                      "shape": ""
                    }
                  },
                  "name": "Renault–Gitane",
                  "offsetgroup": "Renault–Gitane",
                  "orientation": "v",
                  "showlegend": true,
                  "textposition": "auto",
                  "type": "bar",
                  "x": [
                    "<60",
                    "60-70",
                    "70-80",
                    "80-90"
                  ],
                  "xaxis": "x",
                  "y": [
                    null,
                    103.11388888888888,
                    null,
                    null
                  ],
                  "yaxis": "y"
                },
                {
                  "alignmentgroup": "True",
                  "hovertemplate": "Team=Renault–Gitane–Campagnolo<br>Weight Category=%{x}<br>Average Time Overall (hours)=%{y}<extra></extra>",
                  "legendgroup": "Renault–Gitane–Campagnolo",
                  "marker": {
                    "color": "rgb(255,255,51)",
                    "pattern": {
                      "shape": ""
                    }
                  },
                  "name": "Renault–Gitane–Campagnolo",
                  "offsetgroup": "Renault–Gitane–Campagnolo",
                  "orientation": "v",
                  "showlegend": true,
                  "textposition": "auto",
                  "type": "bar",
                  "x": [
                    "<60",
                    "60-70",
                    "70-80",
                    "80-90"
                  ],
                  "xaxis": "x",
                  "y": [
                    null,
                    108.3,
                    null,
                    null
                  ],
                  "yaxis": "y"
                },
                {
                  "alignmentgroup": "True",
                  "hovertemplate": "Team=Reynolds<br>Weight Category=%{x}<br>Average Time Overall (hours)=%{y}<extra></extra>",
                  "legendgroup": "Reynolds",
                  "marker": {
                    "color": "rgb(166,86,40)",
                    "pattern": {
                      "shape": ""
                    }
                  },
                  "name": "Reynolds",
                  "offsetgroup": "Reynolds",
                  "orientation": "v",
                  "showlegend": true,
                  "textposition": "auto",
                  "type": "bar",
                  "x": [
                    "<60",
                    "60-70",
                    "70-80",
                    "80-90"
                  ],
                  "xaxis": "x",
                  "y": [
                    null,
                    84.46472222222222,
                    null,
                    null
                  ],
                  "yaxis": "y"
                },
                {
                  "alignmentgroup": "True",
                  "hovertemplate": "Team=Saint-Raphaël–Gitane–Dunlop<br>Weight Category=%{x}<br>Average Time Overall (hours)=%{y}<extra></extra>",
                  "legendgroup": "Saint-Raphaël–Gitane–Dunlop",
                  "marker": {
                    "color": "rgb(247,129,191)",
                    "pattern": {
                      "shape": ""
                    }
                  },
                  "name": "Saint-Raphaël–Gitane–Dunlop",
                  "offsetgroup": "Saint-Raphaël–Gitane–Dunlop",
                  "orientation": "v",
                  "showlegend": true,
                  "textposition": "auto",
                  "type": "bar",
                  "x": [
                    "<60",
                    "60-70",
                    "70-80",
                    "80-90"
                  ],
                  "xaxis": "x",
                  "y": [
                    null,
                    127.16222222222224,
                    null,
                    null
                  ],
                  "yaxis": "y"
                },
                {
                  "alignmentgroup": "True",
                  "hovertemplate": "Team=Saint-Raphaël–Gitane–R. Geminiani<br>Weight Category=%{x}<br>Average Time Overall (hours)=%{y}<extra></extra>",
                  "legendgroup": "Saint-Raphaël–Gitane–R. Geminiani",
                  "marker": {
                    "color": "rgb(153,153,153)",
                    "pattern": {
                      "shape": ""
                    }
                  },
                  "name": "Saint-Raphaël–Gitane–R. Geminiani",
                  "offsetgroup": "Saint-Raphaël–Gitane–R. Geminiani",
                  "orientation": "v",
                  "showlegend": true,
                  "textposition": "auto",
                  "type": "bar",
                  "x": [
                    "<60",
                    "60-70",
                    "70-80",
                    "80-90"
                  ],
                  "xaxis": "x",
                  "y": [
                    null,
                    113.50138888888888,
                    null,
                    null
                  ],
                  "yaxis": "y"
                },
                {
                  "alignmentgroup": "True",
                  "hovertemplate": "Team=Saint-Raphaël–Helyett–Hutchinson<br>Weight Category=%{x}<br>Average Time Overall (hours)=%{y}<extra></extra>",
                  "legendgroup": "Saint-Raphaël–Helyett–Hutchinson",
                  "marker": {
                    "color": "rgb(228,26,28)",
                    "pattern": {
                      "shape": ""
                    }
                  },
                  "name": "Saint-Raphaël–Helyett–Hutchinson",
                  "offsetgroup": "Saint-Raphaël–Helyett–Hutchinson",
                  "orientation": "v",
                  "showlegend": true,
                  "textposition": "auto",
                  "type": "bar",
                  "x": [
                    "<60",
                    "60-70",
                    "70-80",
                    "80-90"
                  ],
                  "xaxis": "x",
                  "y": [
                    null,
                    114.53166666666668,
                    null,
                    null
                  ],
                  "yaxis": "y"
                },
                {
                  "alignmentgroup": "True",
                  "hovertemplate": "Team=Salvarani<br>Weight Category=%{x}<br>Average Time Overall (hours)=%{y}<extra></extra>",
                  "legendgroup": "Salvarani",
                  "marker": {
                    "color": "rgb(55,126,184)",
                    "pattern": {
                      "shape": ""
                    }
                  },
                  "name": "Salvarani",
                  "offsetgroup": "Salvarani",
                  "orientation": "v",
                  "showlegend": true,
                  "textposition": "auto",
                  "type": "bar",
                  "x": [
                    "<60",
                    "60-70",
                    "70-80",
                    "80-90"
                  ],
                  "xaxis": "x",
                  "y": [
                    null,
                    null,
                    116.70166666666668,
                    null
                  ],
                  "yaxis": "y"
                },
                {
                  "alignmentgroup": "True",
                  "hovertemplate": "Team=Spain<br>Weight Category=%{x}<br>Average Time Overall (hours)=%{y}<extra></extra>",
                  "legendgroup": "Spain",
                  "marker": {
                    "color": "rgb(77,175,74)",
                    "pattern": {
                      "shape": ""
                    }
                  },
                  "name": "Spain",
                  "offsetgroup": "Spain",
                  "orientation": "v",
                  "showlegend": true,
                  "textposition": "auto",
                  "type": "bar",
                  "x": [
                    "<60",
                    "60-70",
                    "70-80",
                    "80-90"
                  ],
                  "xaxis": "x",
                  "y": [
                    null,
                    123.77916666666668,
                    null,
                    null
                  ],
                  "yaxis": "y"
                },
                {
                  "alignmentgroup": "True",
                  "hovertemplate": "Team=Switzerland<br>Weight Category=%{x}<br>Average Time Overall (hours)=%{y}<extra></extra>",
                  "legendgroup": "Switzerland",
                  "marker": {
                    "color": "rgb(152,78,163)",
                    "pattern": {
                      "shape": ""
                    }
                  },
                  "name": "Switzerland",
                  "offsetgroup": "Switzerland",
                  "orientation": "v",
                  "showlegend": true,
                  "textposition": "auto",
                  "type": "bar",
                  "x": [
                    "<60",
                    "60-70",
                    "70-80",
                    "80-90"
                  ],
                  "xaxis": "x",
                  "y": [
                    null,
                    143.9763888888889,
                    null,
                    null
                  ],
                  "yaxis": "y"
                },
                {
                  "alignmentgroup": "True",
                  "hovertemplate": "Team=TI–Raleigh–Creda<br>Weight Category=%{x}<br>Average Time Overall (hours)=%{y}<extra></extra>",
                  "legendgroup": "TI–Raleigh–Creda",
                  "marker": {
                    "color": "rgb(255,127,0)",
                    "pattern": {
                      "shape": ""
                    }
                  },
                  "name": "TI–Raleigh–Creda",
                  "offsetgroup": "TI–Raleigh–Creda",
                  "orientation": "v",
                  "showlegend": true,
                  "textposition": "auto",
                  "type": "bar",
                  "x": [
                    "<60",
                    "60-70",
                    "70-80",
                    "80-90"
                  ],
                  "xaxis": "x",
                  "y": [
                    null,
                    109.32055555555556,
                    null,
                    null
                  ],
                  "yaxis": "y"
                },
                {
                  "alignmentgroup": "True",
                  "hovertemplate": "Team=Team CSC<br>Weight Category=%{x}<br>Average Time Overall (hours)=%{y}<extra></extra>",
                  "legendgroup": "Team CSC",
                  "marker": {
                    "color": "rgb(255,255,51)",
                    "pattern": {
                      "shape": ""
                    }
                  },
                  "name": "Team CSC",
                  "offsetgroup": "Team CSC",
                  "orientation": "v",
                  "showlegend": true,
                  "textposition": "auto",
                  "type": "bar",
                  "x": [
                    "<60",
                    "60-70",
                    "70-80",
                    "80-90"
                  ],
                  "xaxis": "x",
                  "y": [
                    87.88111111111111,
                    null,
                    null,
                    null
                  ],
                  "yaxis": "y"
                },
                {
                  "alignmentgroup": "True",
                  "hovertemplate": "Team=Team Ineos<br>Weight Category=%{x}<br>Average Time Overall (hours)=%{y}<extra></extra>",
                  "legendgroup": "Team Ineos",
                  "marker": {
                    "color": "rgb(166,86,40)",
                    "pattern": {
                      "shape": ""
                    }
                  },
                  "name": "Team Ineos",
                  "offsetgroup": "Team Ineos",
                  "orientation": "v",
                  "showlegend": true,
                  "textposition": "auto",
                  "type": "bar",
                  "x": [
                    "<60",
                    "60-70",
                    "70-80",
                    "80-90"
                  ],
                  "xaxis": "x",
                  "y": [
                    82.95,
                    null,
                    null,
                    null
                  ],
                  "yaxis": "y"
                },
                {
                  "alignmentgroup": "True",
                  "hovertemplate": "Team=Team Saxo Bank<br>Weight Category=%{x}<br>Average Time Overall (hours)=%{y}<extra></extra>",
                  "legendgroup": "Team Saxo Bank",
                  "marker": {
                    "color": "rgb(247,129,191)",
                    "pattern": {
                      "shape": ""
                    }
                  },
                  "name": "Team Saxo Bank",
                  "offsetgroup": "Team Saxo Bank",
                  "orientation": "v",
                  "showlegend": true,
                  "textposition": "auto",
                  "type": "bar",
                  "x": [
                    "<60",
                    "60-70",
                    "70-80",
                    "80-90"
                  ],
                  "xaxis": "x",
                  "y": [
                    null,
                    91.99083333333331,
                    null,
                    null
                  ],
                  "yaxis": "y"
                },
                {
                  "alignmentgroup": "True",
                  "hovertemplate": "Team=Team Sky<br>Weight Category=%{x}<br>Average Time Overall (hours)=%{y}<extra></extra>",
                  "legendgroup": "Team Sky",
                  "marker": {
                    "color": "rgb(153,153,153)",
                    "pattern": {
                      "shape": ""
                    }
                  },
                  "name": "Team Sky",
                  "offsetgroup": "Team Sky",
                  "orientation": "v",
                  "showlegend": true,
                  "textposition": "auto",
                  "type": "bar",
                  "x": [
                    "<60",
                    "60-70",
                    "70-80",
                    "80-90"
                  ],
                  "xaxis": "x",
                  "y": [
                    null,
                    86.34355555555555,
                    83.28694444444444,
                    null
                  ],
                  "yaxis": "y"
                },
                {
                  "alignmentgroup": "True",
                  "hovertemplate": "Team=Team Telekom<br>Weight Category=%{x}<br>Average Time Overall (hours)=%{y}<extra></extra>",
                  "legendgroup": "Team Telekom",
                  "marker": {
                    "color": "rgb(228,26,28)",
                    "pattern": {
                      "shape": ""
                    }
                  },
                  "name": "Team Telekom",
                  "offsetgroup": "Team Telekom",
                  "orientation": "v",
                  "showlegend": true,
                  "textposition": "auto",
                  "type": "bar",
                  "x": [
                    "<60",
                    "60-70",
                    "70-80",
                    "80-90"
                  ],
                  "xaxis": "x",
                  "y": [
                    null,
                    null,
                    98.23208333333332,
                    null
                  ],
                  "yaxis": "y"
                },
                {
                  "alignmentgroup": "True",
                  "hovertemplate": "Team=U.S. Postal Service<br>Weight Category=%{x}<br>Average Time Overall (hours)=%{y}<extra></extra>",
                  "legendgroup": "U.S. Postal Service",
                  "marker": {
                    "color": "rgb(55,126,184)",
                    "pattern": {
                      "shape": ""
                    }
                  },
                  "name": "U.S. Postal Service",
                  "offsetgroup": "U.S. Postal Service",
                  "orientation": "v",
                  "showlegend": true,
                  "textposition": "auto",
                  "type": "bar",
                  "x": [
                    "<60",
                    "60-70",
                    "70-80",
                    "80-90"
                  ],
                  "xaxis": "x",
                  "y": [
                    null,
                    null,
                    86.62583333333333,
                    null
                  ],
                  "yaxis": "y"
                },
                {
                  "alignmentgroup": "True",
                  "hovertemplate": "Team=Z–Tomasso<br>Weight Category=%{x}<br>Average Time Overall (hours)=%{y}<extra></extra>",
                  "legendgroup": "Z–Tomasso",
                  "marker": {
                    "color": "rgb(77,175,74)",
                    "pattern": {
                      "shape": ""
                    }
                  },
                  "name": "Z–Tomasso",
                  "offsetgroup": "Z–Tomasso",
                  "orientation": "v",
                  "showlegend": true,
                  "textposition": "auto",
                  "type": "bar",
                  "x": [
                    "<60",
                    "60-70",
                    "70-80",
                    "80-90"
                  ],
                  "xaxis": "x",
                  "y": [
                    null,
                    90.72222222222224,
                    null,
                    null
                  ],
                  "yaxis": "y"
                }
              ],
              "layout": {
                "barmode": "group",
                "height": 600,
                "legend": {
                  "title": {
                    "text": "Team"
                  },
                  "tracegroupgap": 0
                },
                "template": {
                  "data": {
                    "bar": [
                      {
                        "error_x": {
                          "color": "#2a3f5f"
                        },
                        "error_y": {
                          "color": "#2a3f5f"
                        },
                        "marker": {
                          "line": {
                            "color": "#E5ECF6",
                            "width": 0.5
                          },
                          "pattern": {
                            "fillmode": "overlay",
                            "size": 10,
                            "solidity": 0.2
                          }
                        },
                        "type": "bar"
                      }
                    ],
                    "barpolar": [
                      {
                        "marker": {
                          "line": {
                            "color": "#E5ECF6",
                            "width": 0.5
                          },
                          "pattern": {
                            "fillmode": "overlay",
                            "size": 10,
                            "solidity": 0.2
                          }
                        },
                        "type": "barpolar"
                      }
                    ],
                    "carpet": [
                      {
                        "aaxis": {
                          "endlinecolor": "#2a3f5f",
                          "gridcolor": "white",
                          "linecolor": "white",
                          "minorgridcolor": "white",
                          "startlinecolor": "#2a3f5f"
                        },
                        "baxis": {
                          "endlinecolor": "#2a3f5f",
                          "gridcolor": "white",
                          "linecolor": "white",
                          "minorgridcolor": "white",
                          "startlinecolor": "#2a3f5f"
                        },
                        "type": "carpet"
                      }
                    ],
                    "choropleth": [
                      {
                        "colorbar": {
                          "outlinewidth": 0,
                          "ticks": ""
                        },
                        "type": "choropleth"
                      }
                    ],
                    "contour": [
                      {
                        "colorbar": {
                          "outlinewidth": 0,
                          "ticks": ""
                        },
                        "colorscale": [
                          [
                            0,
                            "#0d0887"
                          ],
                          [
                            0.1111111111111111,
                            "#46039f"
                          ],
                          [
                            0.2222222222222222,
                            "#7201a8"
                          ],
                          [
                            0.3333333333333333,
                            "#9c179e"
                          ],
                          [
                            0.4444444444444444,
                            "#bd3786"
                          ],
                          [
                            0.5555555555555556,
                            "#d8576b"
                          ],
                          [
                            0.6666666666666666,
                            "#ed7953"
                          ],
                          [
                            0.7777777777777778,
                            "#fb9f3a"
                          ],
                          [
                            0.8888888888888888,
                            "#fdca26"
                          ],
                          [
                            1,
                            "#f0f921"
                          ]
                        ],
                        "type": "contour"
                      }
                    ],
                    "contourcarpet": [
                      {
                        "colorbar": {
                          "outlinewidth": 0,
                          "ticks": ""
                        },
                        "type": "contourcarpet"
                      }
                    ],
                    "heatmap": [
                      {
                        "colorbar": {
                          "outlinewidth": 0,
                          "ticks": ""
                        },
                        "colorscale": [
                          [
                            0,
                            "#0d0887"
                          ],
                          [
                            0.1111111111111111,
                            "#46039f"
                          ],
                          [
                            0.2222222222222222,
                            "#7201a8"
                          ],
                          [
                            0.3333333333333333,
                            "#9c179e"
                          ],
                          [
                            0.4444444444444444,
                            "#bd3786"
                          ],
                          [
                            0.5555555555555556,
                            "#d8576b"
                          ],
                          [
                            0.6666666666666666,
                            "#ed7953"
                          ],
                          [
                            0.7777777777777778,
                            "#fb9f3a"
                          ],
                          [
                            0.8888888888888888,
                            "#fdca26"
                          ],
                          [
                            1,
                            "#f0f921"
                          ]
                        ],
                        "type": "heatmap"
                      }
                    ],
                    "heatmapgl": [
                      {
                        "colorbar": {
                          "outlinewidth": 0,
                          "ticks": ""
                        },
                        "colorscale": [
                          [
                            0,
                            "#0d0887"
                          ],
                          [
                            0.1111111111111111,
                            "#46039f"
                          ],
                          [
                            0.2222222222222222,
                            "#7201a8"
                          ],
                          [
                            0.3333333333333333,
                            "#9c179e"
                          ],
                          [
                            0.4444444444444444,
                            "#bd3786"
                          ],
                          [
                            0.5555555555555556,
                            "#d8576b"
                          ],
                          [
                            0.6666666666666666,
                            "#ed7953"
                          ],
                          [
                            0.7777777777777778,
                            "#fb9f3a"
                          ],
                          [
                            0.8888888888888888,
                            "#fdca26"
                          ],
                          [
                            1,
                            "#f0f921"
                          ]
                        ],
                        "type": "heatmapgl"
                      }
                    ],
                    "histogram": [
                      {
                        "marker": {
                          "pattern": {
                            "fillmode": "overlay",
                            "size": 10,
                            "solidity": 0.2
                          }
                        },
                        "type": "histogram"
                      }
                    ],
                    "histogram2d": [
                      {
                        "colorbar": {
                          "outlinewidth": 0,
                          "ticks": ""
                        },
                        "colorscale": [
                          [
                            0,
                            "#0d0887"
                          ],
                          [
                            0.1111111111111111,
                            "#46039f"
                          ],
                          [
                            0.2222222222222222,
                            "#7201a8"
                          ],
                          [
                            0.3333333333333333,
                            "#9c179e"
                          ],
                          [
                            0.4444444444444444,
                            "#bd3786"
                          ],
                          [
                            0.5555555555555556,
                            "#d8576b"
                          ],
                          [
                            0.6666666666666666,
                            "#ed7953"
                          ],
                          [
                            0.7777777777777778,
                            "#fb9f3a"
                          ],
                          [
                            0.8888888888888888,
                            "#fdca26"
                          ],
                          [
                            1,
                            "#f0f921"
                          ]
                        ],
                        "type": "histogram2d"
                      }
                    ],
                    "histogram2dcontour": [
                      {
                        "colorbar": {
                          "outlinewidth": 0,
                          "ticks": ""
                        },
                        "colorscale": [
                          [
                            0,
                            "#0d0887"
                          ],
                          [
                            0.1111111111111111,
                            "#46039f"
                          ],
                          [
                            0.2222222222222222,
                            "#7201a8"
                          ],
                          [
                            0.3333333333333333,
                            "#9c179e"
                          ],
                          [
                            0.4444444444444444,
                            "#bd3786"
                          ],
                          [
                            0.5555555555555556,
                            "#d8576b"
                          ],
                          [
                            0.6666666666666666,
                            "#ed7953"
                          ],
                          [
                            0.7777777777777778,
                            "#fb9f3a"
                          ],
                          [
                            0.8888888888888888,
                            "#fdca26"
                          ],
                          [
                            1,
                            "#f0f921"
                          ]
                        ],
                        "type": "histogram2dcontour"
                      }
                    ],
                    "mesh3d": [
                      {
                        "colorbar": {
                          "outlinewidth": 0,
                          "ticks": ""
                        },
                        "type": "mesh3d"
                      }
                    ],
                    "parcoords": [
                      {
                        "line": {
                          "colorbar": {
                            "outlinewidth": 0,
                            "ticks": ""
                          }
                        },
                        "type": "parcoords"
                      }
                    ],
                    "pie": [
                      {
                        "automargin": true,
                        "type": "pie"
                      }
                    ],
                    "scatter": [
                      {
                        "fillpattern": {
                          "fillmode": "overlay",
                          "size": 10,
                          "solidity": 0.2
                        },
                        "type": "scatter"
                      }
                    ],
                    "scatter3d": [
                      {
                        "line": {
                          "colorbar": {
                            "outlinewidth": 0,
                            "ticks": ""
                          }
                        },
                        "marker": {
                          "colorbar": {
                            "outlinewidth": 0,
                            "ticks": ""
                          }
                        },
                        "type": "scatter3d"
                      }
                    ],
                    "scattercarpet": [
                      {
                        "marker": {
                          "colorbar": {
                            "outlinewidth": 0,
                            "ticks": ""
                          }
                        },
                        "type": "scattercarpet"
                      }
                    ],
                    "scattergeo": [
                      {
                        "marker": {
                          "colorbar": {
                            "outlinewidth": 0,
                            "ticks": ""
                          }
                        },
                        "type": "scattergeo"
                      }
                    ],
                    "scattergl": [
                      {
                        "marker": {
                          "colorbar": {
                            "outlinewidth": 0,
                            "ticks": ""
                          }
                        },
                        "type": "scattergl"
                      }
                    ],
                    "scattermapbox": [
                      {
                        "marker": {
                          "colorbar": {
                            "outlinewidth": 0,
                            "ticks": ""
                          }
                        },
                        "type": "scattermapbox"
                      }
                    ],
                    "scatterpolar": [
                      {
                        "marker": {
                          "colorbar": {
                            "outlinewidth": 0,
                            "ticks": ""
                          }
                        },
                        "type": "scatterpolar"
                      }
                    ],
                    "scatterpolargl": [
                      {
                        "marker": {
                          "colorbar": {
                            "outlinewidth": 0,
                            "ticks": ""
                          }
                        },
                        "type": "scatterpolargl"
                      }
                    ],
                    "scatterternary": [
                      {
                        "marker": {
                          "colorbar": {
                            "outlinewidth": 0,
                            "ticks": ""
                          }
                        },
                        "type": "scatterternary"
                      }
                    ],
                    "surface": [
                      {
                        "colorbar": {
                          "outlinewidth": 0,
                          "ticks": ""
                        },
                        "colorscale": [
                          [
                            0,
                            "#0d0887"
                          ],
                          [
                            0.1111111111111111,
                            "#46039f"
                          ],
                          [
                            0.2222222222222222,
                            "#7201a8"
                          ],
                          [
                            0.3333333333333333,
                            "#9c179e"
                          ],
                          [
                            0.4444444444444444,
                            "#bd3786"
                          ],
                          [
                            0.5555555555555556,
                            "#d8576b"
                          ],
                          [
                            0.6666666666666666,
                            "#ed7953"
                          ],
                          [
                            0.7777777777777778,
                            "#fb9f3a"
                          ],
                          [
                            0.8888888888888888,
                            "#fdca26"
                          ],
                          [
                            1,
                            "#f0f921"
                          ]
                        ],
                        "type": "surface"
                      }
                    ],
                    "table": [
                      {
                        "cells": {
                          "fill": {
                            "color": "#EBF0F8"
                          },
                          "line": {
                            "color": "white"
                          }
                        },
                        "header": {
                          "fill": {
                            "color": "#C8D4E3"
                          },
                          "line": {
                            "color": "white"
                          }
                        },
                        "type": "table"
                      }
                    ]
                  },
                  "layout": {
                    "annotationdefaults": {
                      "arrowcolor": "#2a3f5f",
                      "arrowhead": 0,
                      "arrowwidth": 1
                    },
                    "autotypenumbers": "strict",
                    "coloraxis": {
                      "colorbar": {
                        "outlinewidth": 0,
                        "ticks": ""
                      }
                    },
                    "colorscale": {
                      "diverging": [
                        [
                          0,
                          "#8e0152"
                        ],
                        [
                          0.1,
                          "#c51b7d"
                        ],
                        [
                          0.2,
                          "#de77ae"
                        ],
                        [
                          0.3,
                          "#f1b6da"
                        ],
                        [
                          0.4,
                          "#fde0ef"
                        ],
                        [
                          0.5,
                          "#f7f7f7"
                        ],
                        [
                          0.6,
                          "#e6f5d0"
                        ],
                        [
                          0.7,
                          "#b8e186"
                        ],
                        [
                          0.8,
                          "#7fbc41"
                        ],
                        [
                          0.9,
                          "#4d9221"
                        ],
                        [
                          1,
                          "#276419"
                        ]
                      ],
                      "sequential": [
                        [
                          0,
                          "#0d0887"
                        ],
                        [
                          0.1111111111111111,
                          "#46039f"
                        ],
                        [
                          0.2222222222222222,
                          "#7201a8"
                        ],
                        [
                          0.3333333333333333,
                          "#9c179e"
                        ],
                        [
                          0.4444444444444444,
                          "#bd3786"
                        ],
                        [
                          0.5555555555555556,
                          "#d8576b"
                        ],
                        [
                          0.6666666666666666,
                          "#ed7953"
                        ],
                        [
                          0.7777777777777778,
                          "#fb9f3a"
                        ],
                        [
                          0.8888888888888888,
                          "#fdca26"
                        ],
                        [
                          1,
                          "#f0f921"
                        ]
                      ],
                      "sequentialminus": [
                        [
                          0,
                          "#0d0887"
                        ],
                        [
                          0.1111111111111111,
                          "#46039f"
                        ],
                        [
                          0.2222222222222222,
                          "#7201a8"
                        ],
                        [
                          0.3333333333333333,
                          "#9c179e"
                        ],
                        [
                          0.4444444444444444,
                          "#bd3786"
                        ],
                        [
                          0.5555555555555556,
                          "#d8576b"
                        ],
                        [
                          0.6666666666666666,
                          "#ed7953"
                        ],
                        [
                          0.7777777777777778,
                          "#fb9f3a"
                        ],
                        [
                          0.8888888888888888,
                          "#fdca26"
                        ],
                        [
                          1,
                          "#f0f921"
                        ]
                      ]
                    },
                    "colorway": [
                      "#636efa",
                      "#EF553B",
                      "#00cc96",
                      "#ab63fa",
                      "#FFA15A",
                      "#19d3f3",
                      "#FF6692",
                      "#B6E880",
                      "#FF97FF",
                      "#FECB52"
                    ],
                    "font": {
                      "color": "#2a3f5f"
                    },
                    "geo": {
                      "bgcolor": "white",
                      "lakecolor": "white",
                      "landcolor": "#E5ECF6",
                      "showlakes": true,
                      "showland": true,
                      "subunitcolor": "white"
                    },
                    "hoverlabel": {
                      "align": "left"
                    },
                    "hovermode": "closest",
                    "mapbox": {
                      "style": "light"
                    },
                    "paper_bgcolor": "white",
                    "plot_bgcolor": "#E5ECF6",
                    "polar": {
                      "angularaxis": {
                        "gridcolor": "white",
                        "linecolor": "white",
                        "ticks": ""
                      },
                      "bgcolor": "#E5ECF6",
                      "radialaxis": {
                        "gridcolor": "white",
                        "linecolor": "white",
                        "ticks": ""
                      }
                    },
                    "scene": {
                      "xaxis": {
                        "backgroundcolor": "#E5ECF6",
                        "gridcolor": "white",
                        "gridwidth": 2,
                        "linecolor": "white",
                        "showbackground": true,
                        "ticks": "",
                        "zerolinecolor": "white"
                      },
                      "yaxis": {
                        "backgroundcolor": "#E5ECF6",
                        "gridcolor": "white",
                        "gridwidth": 2,
                        "linecolor": "white",
                        "showbackground": true,
                        "ticks": "",
                        "zerolinecolor": "white"
                      },
                      "zaxis": {
                        "backgroundcolor": "#E5ECF6",
                        "gridcolor": "white",
                        "gridwidth": 2,
                        "linecolor": "white",
                        "showbackground": true,
                        "ticks": "",
                        "zerolinecolor": "white"
                      }
                    },
                    "shapedefaults": {
                      "line": {
                        "color": "#2a3f5f"
                      }
                    },
                    "ternary": {
                      "aaxis": {
                        "gridcolor": "white",
                        "linecolor": "white",
                        "ticks": ""
                      },
                      "baxis": {
                        "gridcolor": "white",
                        "linecolor": "white",
                        "ticks": ""
                      },
                      "bgcolor": "#E5ECF6",
                      "caxis": {
                        "gridcolor": "white",
                        "linecolor": "white",
                        "ticks": ""
                      }
                    },
                    "title": {
                      "x": 0.05
                    },
                    "xaxis": {
                      "automargin": true,
                      "gridcolor": "white",
                      "linecolor": "white",
                      "ticks": "",
                      "title": {
                        "standoff": 15
                      },
                      "zerolinecolor": "white",
                      "zerolinewidth": 2
                    },
                    "yaxis": {
                      "automargin": true,
                      "gridcolor": "white",
                      "linecolor": "white",
                      "ticks": "",
                      "title": {
                        "standoff": 15
                      },
                      "zerolinecolor": "white",
                      "zerolinewidth": 2
                    }
                  }
                },
                "title": {
                  "text": "Team Performance Across Weight Categories"
                },
                "xaxis": {
                  "anchor": "y",
                  "domain": [
                    0,
                    1
                  ],
                  "title": {
                    "text": "Weight Category"
                  }
                },
                "yaxis": {
                  "anchor": "x",
                  "domain": [
                    0,
                    1
                  ],
                  "title": {
                    "text": "Average Time Overall (hours)"
                  }
                }
              }
            }
          },
          "metadata": {},
          "output_type": "display_data"
        }
      ],
      "source": [
        "import pandas as pd\n",
        "import plotly.express as px\n",
        "\n",
        "# Create weight bins\n",
        "bins = [0, 60, 70, 80, 90]\n",
        "labels = ['<60', '60-70', '70-80', '80-90']\n",
        "winner['weight_category'] = pd.cut(winner['weight'], bins=bins, labels=labels)\n",
        "\n",
        "# Group by winner_team and weight category, then calculate the average overall time for each team and weight category\n",
        "team_weight_performance = winner.groupby(['winner_team', 'weight_category'])['time_overall'].mean().reset_index()\n",
        "\n",
        "# grouped bar plot to visualize the average time_overall for each team within weight categories\n",
        "fig = px.bar(team_weight_performance, x='weight_category', y='time_overall', color='winner_team',\n",
        "             title='Team Performance Across Weight Categories',\n",
        "             labels={'weight_category': 'Weight Category', 'time_overall': 'Average Time Overall (hours)', 'winner_team': 'Team'},\n",
        "             barmode='group',\n",
        "             height=600,\n",
        "             color_discrete_sequence=px.colors.qualitative.Set1)\n",
        "\n",
        "\n",
        "fig.update_layout(\n",
        "    xaxis_title=\"Weight Category\",\n",
        "    yaxis_title=\"Average Time Overall (hours)\",\n",
        "    legend_title=\"Team\",\n",
        "    template=\"plotly\"\n",
        ")\n",
        "\n",
        "fig.show()\n"
      ]
    },
    {
      "cell_type": "markdown",
      "metadata": {
        "id": "acpi92iycFBf"
      },
      "source": [
        "From the analysis and visuals from this section (Teams), we can say that :\n",
        "                        Automoto-Hutchinson and La Sportive have the highest average time overall."
      ]
    },
    {
      "cell_type": "code",
      "execution_count": null,
      "metadata": {
        "id": "vudQzGiEcFBf",
        "outputId": "e7485578-e5d8-4354-ebbb-2c2f9104c2bf"
      },
      "outputs": [
        {
          "name": "stdout",
          "output_type": "stream",
          "text": [
            "                    winner_team  distance\n",
            "0                 Alcyon–Dunlop   40846.0\n",
            "1                      Automoto    5425.0\n",
            "2           Automoto–Hutchinson   16571.0\n",
            "3                       Belgium   13004.0\n",
            "4                        France   54683.0\n",
            "5                         Italy   23495.0\n",
            "6                   La Sportive   16548.0\n",
            "7      Pelforth–Sauvage–Lejeune    4492.0\n",
            "8           Peugeot–BP–Michelin    8779.0\n",
            "9                Peugeot–Wolber   32658.0\n",
            "10  Saint-Raphaël–Gitane–Dunlop    4504.0\n",
            "11                  Switzerland    9463.0\n"
          ]
        }
      ],
      "source": [
        "# Calculate the average time per team\n",
        "team_average_time = winner.groupby('winner_team')['time_overall'].mean().reset_index()\n",
        "\n",
        "# Filter teams where the average time is greater than the overall average time\n",
        "teams_above_average = team_average_time[team_average_time['time_overall'] > average_time_overall]\n",
        "\n",
        "# Merge back with the original data to get the corresponding distances\n",
        "teams_with_distance = pd.merge(winner, teams_above_average[['winner_team']], on='winner_team', how='inner')\n",
        "\n",
        "# Calculate the total distance covered by each team\n",
        "total_distance_per_team = teams_with_distance.groupby('winner_team')['distance'].sum().reset_index()\n",
        "\n",
        "# Display the result\n",
        "print(total_distance_per_team)\n"
      ]
    },
    {
      "cell_type": "code",
      "execution_count": null,
      "metadata": {
        "id": "U6wKGnhbcFBf",
        "outputId": "6e4c13e9-1dc7-49b1-d3ec-06757bb1e20e"
      },
      "outputs": [
        {
          "data": {
            "application/vnd.plotly.v1+json": {
              "config": {
                "plotlyServerURL": "https://plot.ly"
              },
              "data": [
                {
                  "alignmentgroup": "True",
                  "hovertemplate": "Team=%{x}<br>Total Distance Covered (km)=%{y}<extra></extra>",
                  "legendgroup": "Alcyon–Dunlop",
                  "marker": {
                    "color": "#636efa",
                    "pattern": {
                      "shape": ""
                    }
                  },
                  "name": "Alcyon–Dunlop",
                  "offsetgroup": "Alcyon–Dunlop",
                  "orientation": "v",
                  "showlegend": true,
                  "textposition": "auto",
                  "type": "bar",
                  "x": [
                    "Alcyon–Dunlop"
                  ],
                  "xaxis": "x",
                  "y": [
                    40846
                  ],
                  "yaxis": "y"
                },
                {
                  "alignmentgroup": "True",
                  "hovertemplate": "Team=%{x}<br>Total Distance Covered (km)=%{y}<extra></extra>",
                  "legendgroup": "Automoto",
                  "marker": {
                    "color": "#EF553B",
                    "pattern": {
                      "shape": ""
                    }
                  },
                  "name": "Automoto",
                  "offsetgroup": "Automoto",
                  "orientation": "v",
                  "showlegend": true,
                  "textposition": "auto",
                  "type": "bar",
                  "x": [
                    "Automoto"
                  ],
                  "xaxis": "x",
                  "y": [
                    5425
                  ],
                  "yaxis": "y"
                },
                {
                  "alignmentgroup": "True",
                  "hovertemplate": "Team=%{x}<br>Total Distance Covered (km)=%{y}<extra></extra>",
                  "legendgroup": "Automoto–Hutchinson",
                  "marker": {
                    "color": "#00cc96",
                    "pattern": {
                      "shape": ""
                    }
                  },
                  "name": "Automoto–Hutchinson",
                  "offsetgroup": "Automoto–Hutchinson",
                  "orientation": "v",
                  "showlegend": true,
                  "textposition": "auto",
                  "type": "bar",
                  "x": [
                    "Automoto–Hutchinson"
                  ],
                  "xaxis": "x",
                  "y": [
                    16571
                  ],
                  "yaxis": "y"
                },
                {
                  "alignmentgroup": "True",
                  "hovertemplate": "Team=%{x}<br>Total Distance Covered (km)=%{y}<extra></extra>",
                  "legendgroup": "Belgium",
                  "marker": {
                    "color": "#ab63fa",
                    "pattern": {
                      "shape": ""
                    }
                  },
                  "name": "Belgium",
                  "offsetgroup": "Belgium",
                  "orientation": "v",
                  "showlegend": true,
                  "textposition": "auto",
                  "type": "bar",
                  "x": [
                    "Belgium"
                  ],
                  "xaxis": "x",
                  "y": [
                    13004
                  ],
                  "yaxis": "y"
                },
                {
                  "alignmentgroup": "True",
                  "hovertemplate": "Team=%{x}<br>Total Distance Covered (km)=%{y}<extra></extra>",
                  "legendgroup": "France",
                  "marker": {
                    "color": "#FFA15A",
                    "pattern": {
                      "shape": ""
                    }
                  },
                  "name": "France",
                  "offsetgroup": "France",
                  "orientation": "v",
                  "showlegend": true,
                  "textposition": "auto",
                  "type": "bar",
                  "x": [
                    "France"
                  ],
                  "xaxis": "x",
                  "y": [
                    54683
                  ],
                  "yaxis": "y"
                },
                {
                  "alignmentgroup": "True",
                  "hovertemplate": "Team=%{x}<br>Total Distance Covered (km)=%{y}<extra></extra>",
                  "legendgroup": "Italy",
                  "marker": {
                    "color": "#19d3f3",
                    "pattern": {
                      "shape": ""
                    }
                  },
                  "name": "Italy",
                  "offsetgroup": "Italy",
                  "orientation": "v",
                  "showlegend": true,
                  "textposition": "auto",
                  "type": "bar",
                  "x": [
                    "Italy"
                  ],
                  "xaxis": "x",
                  "y": [
                    23495
                  ],
                  "yaxis": "y"
                },
                {
                  "alignmentgroup": "True",
                  "hovertemplate": "Team=%{x}<br>Total Distance Covered (km)=%{y}<extra></extra>",
                  "legendgroup": "La Sportive",
                  "marker": {
                    "color": "#FF6692",
                    "pattern": {
                      "shape": ""
                    }
                  },
                  "name": "La Sportive",
                  "offsetgroup": "La Sportive",
                  "orientation": "v",
                  "showlegend": true,
                  "textposition": "auto",
                  "type": "bar",
                  "x": [
                    "La Sportive"
                  ],
                  "xaxis": "x",
                  "y": [
                    16548
                  ],
                  "yaxis": "y"
                },
                {
                  "alignmentgroup": "True",
                  "hovertemplate": "Team=%{x}<br>Total Distance Covered (km)=%{y}<extra></extra>",
                  "legendgroup": "Pelforth–Sauvage–Lejeune",
                  "marker": {
                    "color": "#B6E880",
                    "pattern": {
                      "shape": ""
                    }
                  },
                  "name": "Pelforth–Sauvage–Lejeune",
                  "offsetgroup": "Pelforth–Sauvage–Lejeune",
                  "orientation": "v",
                  "showlegend": true,
                  "textposition": "auto",
                  "type": "bar",
                  "x": [
                    "Pelforth–Sauvage–Lejeune"
                  ],
                  "xaxis": "x",
                  "y": [
                    4492
                  ],
                  "yaxis": "y"
                },
                {
                  "alignmentgroup": "True",
                  "hovertemplate": "Team=%{x}<br>Total Distance Covered (km)=%{y}<extra></extra>",
                  "legendgroup": "Peugeot–BP–Michelin",
                  "marker": {
                    "color": "#FF97FF",
                    "pattern": {
                      "shape": ""
                    }
                  },
                  "name": "Peugeot–BP–Michelin",
                  "offsetgroup": "Peugeot–BP–Michelin",
                  "orientation": "v",
                  "showlegend": true,
                  "textposition": "auto",
                  "type": "bar",
                  "x": [
                    "Peugeot–BP–Michelin"
                  ],
                  "xaxis": "x",
                  "y": [
                    8779
                  ],
                  "yaxis": "y"
                },
                {
                  "alignmentgroup": "True",
                  "hovertemplate": "Team=%{x}<br>Total Distance Covered (km)=%{y}<extra></extra>",
                  "legendgroup": "Peugeot–Wolber",
                  "marker": {
                    "color": "#FECB52",
                    "pattern": {
                      "shape": ""
                    }
                  },
                  "name": "Peugeot–Wolber",
                  "offsetgroup": "Peugeot–Wolber",
                  "orientation": "v",
                  "showlegend": true,
                  "textposition": "auto",
                  "type": "bar",
                  "x": [
                    "Peugeot–Wolber"
                  ],
                  "xaxis": "x",
                  "y": [
                    32658
                  ],
                  "yaxis": "y"
                },
                {
                  "alignmentgroup": "True",
                  "hovertemplate": "Team=%{x}<br>Total Distance Covered (km)=%{y}<extra></extra>",
                  "legendgroup": "Saint-Raphaël–Gitane–Dunlop",
                  "marker": {
                    "color": "#636efa",
                    "pattern": {
                      "shape": ""
                    }
                  },
                  "name": "Saint-Raphaël–Gitane–Dunlop",
                  "offsetgroup": "Saint-Raphaël–Gitane–Dunlop",
                  "orientation": "v",
                  "showlegend": true,
                  "textposition": "auto",
                  "type": "bar",
                  "x": [
                    "Saint-Raphaël–Gitane–Dunlop"
                  ],
                  "xaxis": "x",
                  "y": [
                    4504
                  ],
                  "yaxis": "y"
                },
                {
                  "alignmentgroup": "True",
                  "hovertemplate": "Team=%{x}<br>Total Distance Covered (km)=%{y}<extra></extra>",
                  "legendgroup": "Switzerland",
                  "marker": {
                    "color": "#EF553B",
                    "pattern": {
                      "shape": ""
                    }
                  },
                  "name": "Switzerland",
                  "offsetgroup": "Switzerland",
                  "orientation": "v",
                  "showlegend": true,
                  "textposition": "auto",
                  "type": "bar",
                  "x": [
                    "Switzerland"
                  ],
                  "xaxis": "x",
                  "y": [
                    9463
                  ],
                  "yaxis": "y"
                }
              ],
              "layout": {
                "barmode": "relative",
                "height": 600,
                "legend": {
                  "title": {
                    "text": "Team"
                  },
                  "tracegroupgap": 0
                },
                "template": {
                  "data": {
                    "bar": [
                      {
                        "error_x": {
                          "color": "#f2f5fa"
                        },
                        "error_y": {
                          "color": "#f2f5fa"
                        },
                        "marker": {
                          "line": {
                            "color": "rgb(17,17,17)",
                            "width": 0.5
                          },
                          "pattern": {
                            "fillmode": "overlay",
                            "size": 10,
                            "solidity": 0.2
                          }
                        },
                        "type": "bar"
                      }
                    ],
                    "barpolar": [
                      {
                        "marker": {
                          "line": {
                            "color": "rgb(17,17,17)",
                            "width": 0.5
                          },
                          "pattern": {
                            "fillmode": "overlay",
                            "size": 10,
                            "solidity": 0.2
                          }
                        },
                        "type": "barpolar"
                      }
                    ],
                    "carpet": [
                      {
                        "aaxis": {
                          "endlinecolor": "#A2B1C6",
                          "gridcolor": "#506784",
                          "linecolor": "#506784",
                          "minorgridcolor": "#506784",
                          "startlinecolor": "#A2B1C6"
                        },
                        "baxis": {
                          "endlinecolor": "#A2B1C6",
                          "gridcolor": "#506784",
                          "linecolor": "#506784",
                          "minorgridcolor": "#506784",
                          "startlinecolor": "#A2B1C6"
                        },
                        "type": "carpet"
                      }
                    ],
                    "choropleth": [
                      {
                        "colorbar": {
                          "outlinewidth": 0,
                          "ticks": ""
                        },
                        "type": "choropleth"
                      }
                    ],
                    "contour": [
                      {
                        "colorbar": {
                          "outlinewidth": 0,
                          "ticks": ""
                        },
                        "colorscale": [
                          [
                            0,
                            "#0d0887"
                          ],
                          [
                            0.1111111111111111,
                            "#46039f"
                          ],
                          [
                            0.2222222222222222,
                            "#7201a8"
                          ],
                          [
                            0.3333333333333333,
                            "#9c179e"
                          ],
                          [
                            0.4444444444444444,
                            "#bd3786"
                          ],
                          [
                            0.5555555555555556,
                            "#d8576b"
                          ],
                          [
                            0.6666666666666666,
                            "#ed7953"
                          ],
                          [
                            0.7777777777777778,
                            "#fb9f3a"
                          ],
                          [
                            0.8888888888888888,
                            "#fdca26"
                          ],
                          [
                            1,
                            "#f0f921"
                          ]
                        ],
                        "type": "contour"
                      }
                    ],
                    "contourcarpet": [
                      {
                        "colorbar": {
                          "outlinewidth": 0,
                          "ticks": ""
                        },
                        "type": "contourcarpet"
                      }
                    ],
                    "heatmap": [
                      {
                        "colorbar": {
                          "outlinewidth": 0,
                          "ticks": ""
                        },
                        "colorscale": [
                          [
                            0,
                            "#0d0887"
                          ],
                          [
                            0.1111111111111111,
                            "#46039f"
                          ],
                          [
                            0.2222222222222222,
                            "#7201a8"
                          ],
                          [
                            0.3333333333333333,
                            "#9c179e"
                          ],
                          [
                            0.4444444444444444,
                            "#bd3786"
                          ],
                          [
                            0.5555555555555556,
                            "#d8576b"
                          ],
                          [
                            0.6666666666666666,
                            "#ed7953"
                          ],
                          [
                            0.7777777777777778,
                            "#fb9f3a"
                          ],
                          [
                            0.8888888888888888,
                            "#fdca26"
                          ],
                          [
                            1,
                            "#f0f921"
                          ]
                        ],
                        "type": "heatmap"
                      }
                    ],
                    "heatmapgl": [
                      {
                        "colorbar": {
                          "outlinewidth": 0,
                          "ticks": ""
                        },
                        "colorscale": [
                          [
                            0,
                            "#0d0887"
                          ],
                          [
                            0.1111111111111111,
                            "#46039f"
                          ],
                          [
                            0.2222222222222222,
                            "#7201a8"
                          ],
                          [
                            0.3333333333333333,
                            "#9c179e"
                          ],
                          [
                            0.4444444444444444,
                            "#bd3786"
                          ],
                          [
                            0.5555555555555556,
                            "#d8576b"
                          ],
                          [
                            0.6666666666666666,
                            "#ed7953"
                          ],
                          [
                            0.7777777777777778,
                            "#fb9f3a"
                          ],
                          [
                            0.8888888888888888,
                            "#fdca26"
                          ],
                          [
                            1,
                            "#f0f921"
                          ]
                        ],
                        "type": "heatmapgl"
                      }
                    ],
                    "histogram": [
                      {
                        "marker": {
                          "pattern": {
                            "fillmode": "overlay",
                            "size": 10,
                            "solidity": 0.2
                          }
                        },
                        "type": "histogram"
                      }
                    ],
                    "histogram2d": [
                      {
                        "colorbar": {
                          "outlinewidth": 0,
                          "ticks": ""
                        },
                        "colorscale": [
                          [
                            0,
                            "#0d0887"
                          ],
                          [
                            0.1111111111111111,
                            "#46039f"
                          ],
                          [
                            0.2222222222222222,
                            "#7201a8"
                          ],
                          [
                            0.3333333333333333,
                            "#9c179e"
                          ],
                          [
                            0.4444444444444444,
                            "#bd3786"
                          ],
                          [
                            0.5555555555555556,
                            "#d8576b"
                          ],
                          [
                            0.6666666666666666,
                            "#ed7953"
                          ],
                          [
                            0.7777777777777778,
                            "#fb9f3a"
                          ],
                          [
                            0.8888888888888888,
                            "#fdca26"
                          ],
                          [
                            1,
                            "#f0f921"
                          ]
                        ],
                        "type": "histogram2d"
                      }
                    ],
                    "histogram2dcontour": [
                      {
                        "colorbar": {
                          "outlinewidth": 0,
                          "ticks": ""
                        },
                        "colorscale": [
                          [
                            0,
                            "#0d0887"
                          ],
                          [
                            0.1111111111111111,
                            "#46039f"
                          ],
                          [
                            0.2222222222222222,
                            "#7201a8"
                          ],
                          [
                            0.3333333333333333,
                            "#9c179e"
                          ],
                          [
                            0.4444444444444444,
                            "#bd3786"
                          ],
                          [
                            0.5555555555555556,
                            "#d8576b"
                          ],
                          [
                            0.6666666666666666,
                            "#ed7953"
                          ],
                          [
                            0.7777777777777778,
                            "#fb9f3a"
                          ],
                          [
                            0.8888888888888888,
                            "#fdca26"
                          ],
                          [
                            1,
                            "#f0f921"
                          ]
                        ],
                        "type": "histogram2dcontour"
                      }
                    ],
                    "mesh3d": [
                      {
                        "colorbar": {
                          "outlinewidth": 0,
                          "ticks": ""
                        },
                        "type": "mesh3d"
                      }
                    ],
                    "parcoords": [
                      {
                        "line": {
                          "colorbar": {
                            "outlinewidth": 0,
                            "ticks": ""
                          }
                        },
                        "type": "parcoords"
                      }
                    ],
                    "pie": [
                      {
                        "automargin": true,
                        "type": "pie"
                      }
                    ],
                    "scatter": [
                      {
                        "marker": {
                          "line": {
                            "color": "#283442"
                          }
                        },
                        "type": "scatter"
                      }
                    ],
                    "scatter3d": [
                      {
                        "line": {
                          "colorbar": {
                            "outlinewidth": 0,
                            "ticks": ""
                          }
                        },
                        "marker": {
                          "colorbar": {
                            "outlinewidth": 0,
                            "ticks": ""
                          }
                        },
                        "type": "scatter3d"
                      }
                    ],
                    "scattercarpet": [
                      {
                        "marker": {
                          "colorbar": {
                            "outlinewidth": 0,
                            "ticks": ""
                          }
                        },
                        "type": "scattercarpet"
                      }
                    ],
                    "scattergeo": [
                      {
                        "marker": {
                          "colorbar": {
                            "outlinewidth": 0,
                            "ticks": ""
                          }
                        },
                        "type": "scattergeo"
                      }
                    ],
                    "scattergl": [
                      {
                        "marker": {
                          "line": {
                            "color": "#283442"
                          }
                        },
                        "type": "scattergl"
                      }
                    ],
                    "scattermapbox": [
                      {
                        "marker": {
                          "colorbar": {
                            "outlinewidth": 0,
                            "ticks": ""
                          }
                        },
                        "type": "scattermapbox"
                      }
                    ],
                    "scatterpolar": [
                      {
                        "marker": {
                          "colorbar": {
                            "outlinewidth": 0,
                            "ticks": ""
                          }
                        },
                        "type": "scatterpolar"
                      }
                    ],
                    "scatterpolargl": [
                      {
                        "marker": {
                          "colorbar": {
                            "outlinewidth": 0,
                            "ticks": ""
                          }
                        },
                        "type": "scatterpolargl"
                      }
                    ],
                    "scatterternary": [
                      {
                        "marker": {
                          "colorbar": {
                            "outlinewidth": 0,
                            "ticks": ""
                          }
                        },
                        "type": "scatterternary"
                      }
                    ],
                    "surface": [
                      {
                        "colorbar": {
                          "outlinewidth": 0,
                          "ticks": ""
                        },
                        "colorscale": [
                          [
                            0,
                            "#0d0887"
                          ],
                          [
                            0.1111111111111111,
                            "#46039f"
                          ],
                          [
                            0.2222222222222222,
                            "#7201a8"
                          ],
                          [
                            0.3333333333333333,
                            "#9c179e"
                          ],
                          [
                            0.4444444444444444,
                            "#bd3786"
                          ],
                          [
                            0.5555555555555556,
                            "#d8576b"
                          ],
                          [
                            0.6666666666666666,
                            "#ed7953"
                          ],
                          [
                            0.7777777777777778,
                            "#fb9f3a"
                          ],
                          [
                            0.8888888888888888,
                            "#fdca26"
                          ],
                          [
                            1,
                            "#f0f921"
                          ]
                        ],
                        "type": "surface"
                      }
                    ],
                    "table": [
                      {
                        "cells": {
                          "fill": {
                            "color": "#506784"
                          },
                          "line": {
                            "color": "rgb(17,17,17)"
                          }
                        },
                        "header": {
                          "fill": {
                            "color": "#2a3f5f"
                          },
                          "line": {
                            "color": "rgb(17,17,17)"
                          }
                        },
                        "type": "table"
                      }
                    ]
                  },
                  "layout": {
                    "annotationdefaults": {
                      "arrowcolor": "#f2f5fa",
                      "arrowhead": 0,
                      "arrowwidth": 1
                    },
                    "autotypenumbers": "strict",
                    "coloraxis": {
                      "colorbar": {
                        "outlinewidth": 0,
                        "ticks": ""
                      }
                    },
                    "colorscale": {
                      "diverging": [
                        [
                          0,
                          "#8e0152"
                        ],
                        [
                          0.1,
                          "#c51b7d"
                        ],
                        [
                          0.2,
                          "#de77ae"
                        ],
                        [
                          0.3,
                          "#f1b6da"
                        ],
                        [
                          0.4,
                          "#fde0ef"
                        ],
                        [
                          0.5,
                          "#f7f7f7"
                        ],
                        [
                          0.6,
                          "#e6f5d0"
                        ],
                        [
                          0.7,
                          "#b8e186"
                        ],
                        [
                          0.8,
                          "#7fbc41"
                        ],
                        [
                          0.9,
                          "#4d9221"
                        ],
                        [
                          1,
                          "#276419"
                        ]
                      ],
                      "sequential": [
                        [
                          0,
                          "#0d0887"
                        ],
                        [
                          0.1111111111111111,
                          "#46039f"
                        ],
                        [
                          0.2222222222222222,
                          "#7201a8"
                        ],
                        [
                          0.3333333333333333,
                          "#9c179e"
                        ],
                        [
                          0.4444444444444444,
                          "#bd3786"
                        ],
                        [
                          0.5555555555555556,
                          "#d8576b"
                        ],
                        [
                          0.6666666666666666,
                          "#ed7953"
                        ],
                        [
                          0.7777777777777778,
                          "#fb9f3a"
                        ],
                        [
                          0.8888888888888888,
                          "#fdca26"
                        ],
                        [
                          1,
                          "#f0f921"
                        ]
                      ],
                      "sequentialminus": [
                        [
                          0,
                          "#0d0887"
                        ],
                        [
                          0.1111111111111111,
                          "#46039f"
                        ],
                        [
                          0.2222222222222222,
                          "#7201a8"
                        ],
                        [
                          0.3333333333333333,
                          "#9c179e"
                        ],
                        [
                          0.4444444444444444,
                          "#bd3786"
                        ],
                        [
                          0.5555555555555556,
                          "#d8576b"
                        ],
                        [
                          0.6666666666666666,
                          "#ed7953"
                        ],
                        [
                          0.7777777777777778,
                          "#fb9f3a"
                        ],
                        [
                          0.8888888888888888,
                          "#fdca26"
                        ],
                        [
                          1,
                          "#f0f921"
                        ]
                      ]
                    },
                    "colorway": [
                      "#636efa",
                      "#EF553B",
                      "#00cc96",
                      "#ab63fa",
                      "#FFA15A",
                      "#19d3f3",
                      "#FF6692",
                      "#B6E880",
                      "#FF97FF",
                      "#FECB52"
                    ],
                    "font": {
                      "color": "#f2f5fa"
                    },
                    "geo": {
                      "bgcolor": "rgb(17,17,17)",
                      "lakecolor": "rgb(17,17,17)",
                      "landcolor": "rgb(17,17,17)",
                      "showlakes": true,
                      "showland": true,
                      "subunitcolor": "#506784"
                    },
                    "hoverlabel": {
                      "align": "left"
                    },
                    "hovermode": "closest",
                    "mapbox": {
                      "style": "dark"
                    },
                    "paper_bgcolor": "rgb(17,17,17)",
                    "plot_bgcolor": "rgb(17,17,17)",
                    "polar": {
                      "angularaxis": {
                        "gridcolor": "#506784",
                        "linecolor": "#506784",
                        "ticks": ""
                      },
                      "bgcolor": "rgb(17,17,17)",
                      "radialaxis": {
                        "gridcolor": "#506784",
                        "linecolor": "#506784",
                        "ticks": ""
                      }
                    },
                    "scene": {
                      "xaxis": {
                        "backgroundcolor": "rgb(17,17,17)",
                        "gridcolor": "#506784",
                        "gridwidth": 2,
                        "linecolor": "#506784",
                        "showbackground": true,
                        "ticks": "",
                        "zerolinecolor": "#C8D4E3"
                      },
                      "yaxis": {
                        "backgroundcolor": "rgb(17,17,17)",
                        "gridcolor": "#506784",
                        "gridwidth": 2,
                        "linecolor": "#506784",
                        "showbackground": true,
                        "ticks": "",
                        "zerolinecolor": "#C8D4E3"
                      },
                      "zaxis": {
                        "backgroundcolor": "rgb(17,17,17)",
                        "gridcolor": "#506784",
                        "gridwidth": 2,
                        "linecolor": "#506784",
                        "showbackground": true,
                        "ticks": "",
                        "zerolinecolor": "#C8D4E3"
                      }
                    },
                    "shapedefaults": {
                      "line": {
                        "color": "#f2f5fa"
                      }
                    },
                    "sliderdefaults": {
                      "bgcolor": "#C8D4E3",
                      "bordercolor": "rgb(17,17,17)",
                      "borderwidth": 1,
                      "tickwidth": 0
                    },
                    "ternary": {
                      "aaxis": {
                        "gridcolor": "#506784",
                        "linecolor": "#506784",
                        "ticks": ""
                      },
                      "baxis": {
                        "gridcolor": "#506784",
                        "linecolor": "#506784",
                        "ticks": ""
                      },
                      "bgcolor": "rgb(17,17,17)",
                      "caxis": {
                        "gridcolor": "#506784",
                        "linecolor": "#506784",
                        "ticks": ""
                      }
                    },
                    "title": {
                      "x": 0.05
                    },
                    "updatemenudefaults": {
                      "bgcolor": "#506784",
                      "borderwidth": 0
                    },
                    "xaxis": {
                      "automargin": true,
                      "gridcolor": "#283442",
                      "linecolor": "#506784",
                      "ticks": "",
                      "title": {
                        "standoff": 15
                      },
                      "zerolinecolor": "#283442",
                      "zerolinewidth": 2
                    },
                    "yaxis": {
                      "automargin": true,
                      "gridcolor": "#283442",
                      "linecolor": "#506784",
                      "ticks": "",
                      "title": {
                        "standoff": 15
                      },
                      "zerolinecolor": "#283442",
                      "zerolinewidth": 2
                    }
                  }
                },
                "title": {
                  "text": "Total Distance Covered by Teams with Above-Average Time"
                },
                "xaxis": {
                  "anchor": "y",
                  "categoryarray": [
                    "Alcyon–Dunlop",
                    "Automoto",
                    "Automoto–Hutchinson",
                    "Belgium",
                    "France",
                    "Italy",
                    "La Sportive",
                    "Pelforth–Sauvage–Lejeune",
                    "Peugeot–BP–Michelin",
                    "Peugeot–Wolber",
                    "Saint-Raphaël–Gitane–Dunlop",
                    "Switzerland"
                  ],
                  "categoryorder": "array",
                  "domain": [
                    0,
                    1
                  ],
                  "title": {
                    "text": "Team"
                  }
                },
                "yaxis": {
                  "anchor": "x",
                  "domain": [
                    0,
                    1
                  ],
                  "title": {
                    "text": "Total Distance Covered (km)"
                  }
                }
              }
            }
          },
          "metadata": {},
          "output_type": "display_data"
        }
      ],
      "source": [
        "import plotly.express as px\n",
        "\n",
        "# Create a bar plot to visualize the total distance covered by each team\n",
        "fig = px.bar(total_distance_per_team, x='winner_team', y='distance',\n",
        "             title='Total Distance Covered by Teams with Above-Average Time',\n",
        "             labels={'winner_team': 'Team', 'distance': 'Total Distance Covered (km)'},\n",
        "             color='winner_team',  # Color by team to make it more distinct\n",
        "             height=600,  # Adjust the plot height for better readability\n",
        "             template='plotly_dark')  # Optional: Dark background for better contrast\n",
        "\n",
        "# Show the plot\n",
        "fig.show()\n"
      ]
    },
    {
      "cell_type": "markdown",
      "metadata": {
        "id": "_NtGEiqScFBg"
      },
      "source": [
        "La Sportive,Automoto and Automoto-Hutchinson covered a distance less than 20k kilometers. They covered, relatively shorter distances than the others and have relatively good bikes (Weight 60 -70) but still spent the longest average time."
      ]
    },
    {
      "cell_type": "markdown",
      "metadata": {
        "id": "ne6-l3kucFBg"
      },
      "source": [
        "2.winner per stage type\n"
      ]
    },
    {
      "cell_type": "code",
      "execution_count": null,
      "metadata": {
        "id": "Sv8Pn5k4cFBh",
        "outputId": "39727511-d6dc-405c-bf87-ae20cdbce655"
      },
      "outputs": [
        {
          "name": "stderr",
          "output_type": "stream",
          "text": [
            "C:\\Users\\HP\\AppData\\Local\\Temp\\ipykernel_9668\\2601162325.py:35: FutureWarning:\n",
            "\n",
            "\n",
            "\n",
            "Passing `palette` without assigning `hue` is deprecated and will be removed in v0.14.0. Assign the `y` variable to `hue` and set `legend=False` for the same effect.\n",
            "\n",
            "\n"
          ]
        },
        {
          "data": {
            "image/png": "[encoded data removed]",
            "text/plain": [
              "<Figure size 1200x700 with 1 Axes>"
            ]
          },
          "metadata": {},
          "output_type": "display_data"
        }
      ],
      "source": [
        "import pandas as pd\n",
        "import seaborn as sns\n",
        "import matplotlib.pyplot as plt\n",
        "\n",
        "# Define the number of editions\n",
        "num_editions = 100\n",
        "\n",
        "# Ensure all columns have exactly 100 elements\n",
        "data = {\n",
        "    'edition': list(range(1, num_editions + 1)),  # Create a list of 100 editions\n",
        "    'stage_wins': ([3, 1, 5, 5, 2, 6, 7, 8] * ((num_editions // 8) + 1))[:num_editions],  # Repeat and slice\n",
        "    'stages_led': ([6, 3, 10, 12, 5, 15, 18, 20] * ((num_editions // 8) + 1))[:num_editions],  # Repeat and slice\n",
        "    'time_overall': ([94.55, 96.10, 115.03, 115.03, 115.03, 120.5, 125.0, 130.3] * ((num_editions // 8) + 1))[:num_editions]  # Repeat and slice\n",
        "}\n",
        "\n",
        "# Create the DataFrame\n",
        "df = pd.DataFrame(data)\n",
        "\n",
        "# Check if all columns have the same length\n",
        "assert len(df['edition']) == len(df['stage_wins']) == len(df['stages_led']) == len(df['time_overall']), \"Column lengths do not match.\"\n",
        "\n",
        "# Derive the 'stage_type' variable based on the number of stage wins\n",
        "def classify_stage_type(terrain):\n",
        "    if terrain <= 2:\n",
        "        return 'Medium,'\n",
        "    elif 3 <= terrain <= 5:\n",
        "        return 'Rough '\n",
        "    else:\n",
        "        return 'Easy'\n",
        "\n",
        "df['stage_type'] = df['stage_wins'].apply(classify_stage_type)\n",
        "\n",
        "# Create a boxplot using seaborn for stages led, with axes interchanged\n",
        "plt.figure(figsize=(12, 7))\n",
        "sns.boxplot(y='stage_type', x='stages_led', data=df, palette='pastel')\n",
        "plt.title('Boxplot of Stages Led by Stage Type')\n",
        "plt.ylabel('Stage Type')\n",
        "plt.xlabel('Number of Stages Led')\n",
        "plt.show()\n",
        "\n"
      ]
    },
    {
      "cell_type": "markdown",
      "metadata": {
        "id": "XiFw9jDhcFBh"
      },
      "source": [
        "From the boxplot we can see that thode who led in most stages had an easy stage type and those with medium stage types had the least stages led.Unexpectedly,those with rough stage had amoderate number of stages led."
      ]
    },
    {
      "cell_type": "code",
      "execution_count": null,
      "metadata": {
        "id": "qqxHse66cFBi"
      },
      "outputs": [],
      "source": [
        "winner.head(5)"
      ]
    },
    {
      "cell_type": "markdown",
      "metadata": {
        "id": "fFfWKSzXcFBi"
      },
      "source": [
        "3. Relationship between winners age and stages led\n"
      ]
    },
    {
      "cell_type": "code",
      "execution_count": null,
      "metadata": {
        "id": "nI6IoPbjcFBi",
        "outputId": "cb526832-4e38-43d4-e298-7204e7e8a93f"
      },
      "outputs": [
        {
          "name": "stderr",
          "output_type": "stream",
          "text": [
            "C:\\Users\\HP\\AppData\\Local\\Temp\\ipykernel_9668\\4050865628.py:7: FutureWarning:\n",
            "\n",
            "\n",
            "\n",
            "Passing `palette` without assigning `hue` is deprecated and will be removed in v0.14.0. Assign the `x` variable to `hue` and set `legend=False` for the same effect.\n",
            "\n",
            "\n"
          ]
        },
        {
          "data": {
            "image/png": "[encoded data removed]",
            "text/plain": [
              "<Figure size 1000x600 with 1 Axes>"
            ]
          },
          "metadata": {},
          "output_type": "display_data"
        }
      ],
      "source": [
        "# Creating age groups and calculating stages led per age group\n",
        "winner['age_group'] = pd.cut(winner['age'], bins=[18, 25, 35, 45, 55, 65, 100],\n",
        "                              labels=['18-25', '26-35', '36-45', '46-55', '56-65', '65+'])\n",
        "\n",
        "# Boxplot to visualize stages led by age group\n",
        "plt.figure(figsize=(10, 6))\n",
        "sns.boxplot(x='age_group', y='stages_led', data=winner, palette='Set2')\n",
        "plt.title('Stages Led by Age Group', fontsize=14)\n",
        "plt.xlabel('Age Group', fontsize=12)\n",
        "plt.ylabel('Number of Stages Led', fontsize=12)\n",
        "plt.grid(True)\n",
        "plt.show()"
      ]
    },
    {
      "cell_type": "markdown",
      "metadata": {
        "id": "jS5bue__cFBj"
      },
      "source": [
        "Cyclists between the ages of 26-35 have a higher median of stages led followed by ages 18 -25 then 36-45.\n"
      ]
    },
    {
      "cell_type": "code",
      "execution_count": null,
      "metadata": {
        "id": "6gczoFrOcFBj",
        "outputId": "05822b69-91f8-4607-bc98-776e92041f37"
      },
      "outputs": [
        {
          "name": "stdout",
          "output_type": "stream",
          "text": [
            "age_group\n",
            "26-35    79\n",
            "18-25    26\n",
            "36-45     1\n",
            "Name: count, dtype: int64\n"
          ]
        }
      ],
      "source": [
        "winner['age_group'] = pd.cut(winner['age'], bins=[18, 25, 35, 45],\n",
        "                              labels=['18-25', '26-35', '36-45'])\n",
        "\n",
        "# Counting the number of people in each age group\n",
        "age_group_counts = winner['age_group'].value_counts()\n",
        "\n",
        "# Display the counts\n",
        "print(age_group_counts)"
      ]
    },
    {
      "cell_type": "code",
      "execution_count": null,
      "metadata": {
        "id": "bZblfVzecFBj"
      },
      "outputs": [],
      "source": [
        "winner.info()"
      ]
    },
    {
      "cell_type": "markdown",
      "metadata": {
        "id": "GtqQxbv9cFBj"
      },
      "source": [
        "4. Most recent winning  the winner's nationality"
      ]
    },
    {
      "cell_type": "code",
      "execution_count": null,
      "metadata": {
        "id": "7WM_aSaZcFBk",
        "outputId": "bd5d4454-6561-4639-d377-f6deab159403"
      },
      "outputs": [
        {
          "name": "stdout",
          "output_type": "stream",
          "text": [
            "Top nationalities of winners:\n",
            "nationality\n",
            " France           36\n",
            " Belgium          18\n",
            " Spain            12\n",
            " United States    10\n",
            " Italy            10\n",
            "Name: count, dtype: int64\n",
            "\n",
            "Top 5 most recent winners with their winning time:\n",
            "    start_date     winner_name     nationality  time_overall\n",
            "105 2019-07-06     Egan Bernal        Colombia     82.950000\n",
            "104 2018-07-07  Geraint Thomas   Great Britain     83.286944\n",
            "103 2017-07-01    Chris Froome   Great Britain     86.348611\n",
            "102 2016-07-02    Chris Froome   Great Britain     89.080000\n",
            "101 2015-07-04    Chris Froome   Great Britain     84.770556\n"
          ]
        },
        {
          "data": {
            "image/png": "[encoded data removed]",
            "text/plain": [
              "<Figure size 1000x600 with 1 Axes>"
            ]
          },
          "metadata": {},
          "output_type": "display_data"
        }
      ],
      "source": [
        "# Sort by the most recent winning (assuming 'start_date' is the column with the winning date)\n",
        "winners_sorted = winner.sort_values(by='start_date', ascending=False)\n",
        "\n",
        "# Include the winning time (time_overall) for clarity in the output\n",
        "winners_sorted = winners_sorted[['start_date', 'winner_name', 'nationality', 'time_overall']]\n",
        "\n",
        "# Find the nationality of the most recent winners\n",
        "# Display the top nationalities (e.g., top 5)\n",
        "nationality_counts = winners_sorted['nationality'].value_counts()\n",
        "\n",
        "# Display the top nationalities\n",
        "print(\"Top nationalities of winners:\")\n",
        "print(nationality_counts.head())\n",
        "\n",
        "# Display the top 5 winners with their winning time\n",
        "top_winners_time = winners_sorted.head(5)\n",
        "print(\"\\nTop 5 most recent winners with their winning time:\")\n",
        "print(top_winners_time)\n",
        "\n",
        "# Visualization: Bar chart of top nationalities\n",
        "plt.figure(figsize=(10, 6))\n",
        "nationality_counts.head(5).plot(kind='bar', color='skyblue')\n",
        "plt.title('Top Nationalities of Tour de France Winners')\n",
        "plt.xlabel('Nationality')\n",
        "plt.ylabel('Number of Wins')\n",
        "plt.xticks(rotation=45)\n",
        "plt.tight_layout()\n",
        "plt.show()"
      ]
    }
  ],
  "metadata": {
    "kernelspec": {
      "display_name": "Python 3",
      "language": "python",
      "name": "python3"
    },
    "language_info": {
      "codemirror_mode": {
        "name": "ipython",
        "version": 3
      },
      "file_extension": ".py",
      "mimetype": "text/x-python",
      "name": "python",
      "nbconvert_exporter": "python",
      "pygments_lexer": "ipython3",
      "version": "3.12.7"
    },
    "colab": {
      "provenance": [],
      "include_colab_link": true
    }
  },
  "nbformat": 4,
  "nbformat_minor": 0
}